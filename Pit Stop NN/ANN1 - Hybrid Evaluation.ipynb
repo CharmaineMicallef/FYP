{
 "cells": [
  {
   "cell_type": "code",
   "execution_count": 33,
   "id": "e2d55ad4",
   "metadata": {},
   "outputs": [],
   "source": [
    "import numpy as np\n",
    "import pandas as pd\n",
    "import tensorflow as tf\n",
    "from sklearn.compose import ColumnTransformer\n",
    "from sklearn.model_selection import StratifiedKFold, train_test_split\n",
    "from sklearn.preprocessing import StandardScaler, OneHotEncoder\n",
    "from sklearn.metrics import precision_score, recall_score, f1_score\n",
    "from keras.models import Sequential\n",
    "from keras.layers import Dense, Flatten\n",
    "from tensorflow.keras.layers import LSTM\n",
    "from tensorflow.keras import regularizers\n",
    "from sklearn.metrics import precision_recall_fscore_support\n",
    "\n",
    "from keras.regularizers import l1, l2\n",
    "from sklearn.metrics import f1_score\n",
    "from sklearn.metrics import accuracy_score, precision_score, recall_score, f1_score\n",
    "from tensorflow.keras.layers import Input\n",
    "from sklearn.model_selection import StratifiedKFold\n",
    "from sklearn.model_selection import train_test_split\n",
    "from sklearn.preprocessing import StandardScaler\n",
    "from keras.callbacks import EarlyStopping\n",
    "from sklearn.utils import shuffle\n",
    "from keras.callbacks import History\n",
    "from sklearn.preprocessing import LabelEncoder\n",
    "from sklearn.metrics import precision_score, recall_score, f1_score"
   ]
  },
  {
   "cell_type": "code",
   "execution_count": 2,
   "id": "703d1a42",
   "metadata": {},
   "outputs": [],
   "source": [
    "df = pd.read_csv(r'f1dataset1.csv', encoding='utf-8')"
   ]
  },
  {
   "cell_type": "code",
   "execution_count": 3,
   "id": "50c46f90",
   "metadata": {},
   "outputs": [],
   "source": [
    "# HANDLING NANs\n",
    "df['laptime'] = np.where(df['laptime'].isna(), 0.0, df['laptime'])\n",
    "df['race_progress'] = np.where(df['race_progress'].isna(), 0.0, df['race_progress'])\n",
    "df['tyreageprogress'] = np.where(df['tyreageprogress'].isna(), 0.0, df['tyreageprogress'])\n",
    "\n",
    "# shuffle data\n",
    "shuffled_data = df.sample(frac=1, random_state=42)  # Set random_state for reproducibility"
   ]
  },
  {
   "cell_type": "code",
   "execution_count": 52,
   "id": "c30254cf",
   "metadata": {
    "scrolled": false
   },
   "outputs": [
    {
     "name": "stderr",
     "output_type": "stream",
     "text": [
      "C:\\Users\\charm\\anaconda3\\lib\\site-packages\\pandas\\core\\frame.py:3678: SettingWithCopyWarning: \n",
      "A value is trying to be set on a copy of a slice from a DataFrame.\n",
      "Try using .loc[row_indexer,col_indexer] = value instead\n",
      "\n",
      "See the caveats in the documentation: https://pandas.pydata.org/pandas-docs/stable/user_guide/indexing.html#returning-a-view-versus-a-copy\n",
      "  self[col] = igetitem(value, i)\n",
      "C:\\Users\\charm\\anaconda3\\lib\\site-packages\\pandas\\core\\frame.py:3678: SettingWithCopyWarning: \n",
      "A value is trying to be set on a copy of a slice from a DataFrame.\n",
      "Try using .loc[row_indexer,col_indexer] = value instead\n",
      "\n",
      "See the caveats in the documentation: https://pandas.pydata.org/pandas-docs/stable/user_guide/indexing.html#returning-a-view-versus-a-copy\n",
      "  self[col] = igetitem(value, i)\n",
      "C:\\Users\\charm\\anaconda3\\lib\\site-packages\\sklearn\\preprocessing\\_encoders.py:868: FutureWarning: `sparse` was renamed to `sparse_output` in version 1.2 and will be removed in 1.4. `sparse_output` is ignored unless you leave `sparse` to its default value.\n",
      "  warnings.warn(\n"
     ]
    },
    {
     "name": "stdout",
     "output_type": "stream",
     "text": [
      "Epoch 1/10\n",
      "38/38 [==============================] - 3s 24ms/step - loss: 12.3571 - accuracy: 0.5000 - val_loss: 9.9124 - val_accuracy: 0.9727\n",
      "Epoch 2/10\n",
      "38/38 [==============================] - 1s 14ms/step - loss: 8.5949 - accuracy: 0.5000 - val_loss: 6.5297 - val_accuracy: 0.9727\n",
      "Epoch 3/10\n",
      "38/38 [==============================] - 1s 14ms/step - loss: 5.5650 - accuracy: 0.5000 - val_loss: 3.9592 - val_accuracy: 0.9727\n",
      "Epoch 4/10\n",
      "38/38 [==============================] - 1s 16ms/step - loss: 3.2693 - accuracy: 0.5000 - val_loss: 2.1095 - val_accuracy: 0.9727\n",
      "Epoch 5/10\n",
      "38/38 [==============================] - 0s 12ms/step - loss: 1.7470 - accuracy: 0.5000 - val_loss: 0.9863 - val_accuracy: 0.9727\n",
      "Epoch 6/10\n",
      "38/38 [==============================] - 1s 13ms/step - loss: 0.9528 - accuracy: 0.5152 - val_loss: 0.6934 - val_accuracy: 0.9727\n",
      "Epoch 7/10\n",
      "38/38 [==============================] - 1s 13ms/step - loss: 0.6899 - accuracy: 0.9279 - val_loss: 0.4699 - val_accuracy: 1.0000\n",
      "Epoch 8/10\n",
      "38/38 [==============================] - 1s 16ms/step - loss: 0.6251 - accuracy: 1.0000 - val_loss: 0.4472 - val_accuracy: 1.0000\n",
      "Epoch 9/10\n",
      "38/38 [==============================] - 0s 13ms/step - loss: 0.8075 - accuracy: 0.5485 - val_loss: 0.8151 - val_accuracy: 0.1360\n",
      "Epoch 10/10\n",
      "38/38 [==============================] - 0s 13ms/step - loss: 0.7971 - accuracy: 0.4928 - val_loss: 0.7754 - val_accuracy: 0.1360\n"
     ]
    },
    {
     "name": "stderr",
     "output_type": "stream",
     "text": [
      "C:\\Users\\charm\\anaconda3\\lib\\site-packages\\pandas\\core\\frame.py:3678: SettingWithCopyWarning: \n",
      "A value is trying to be set on a copy of a slice from a DataFrame.\n",
      "Try using .loc[row_indexer,col_indexer] = value instead\n",
      "\n",
      "See the caveats in the documentation: https://pandas.pydata.org/pandas-docs/stable/user_guide/indexing.html#returning-a-view-versus-a-copy\n",
      "  self[col] = igetitem(value, i)\n"
     ]
    },
    {
     "name": "stdout",
     "output_type": "stream",
     "text": [
      "142/142 [==============================] - 1s 3ms/step\n"
     ]
    },
    {
     "name": "stderr",
     "output_type": "stream",
     "text": [
      "C:\\Users\\charm\\anaconda3\\lib\\site-packages\\pandas\\core\\frame.py:3678: SettingWithCopyWarning: \n",
      "A value is trying to be set on a copy of a slice from a DataFrame.\n",
      "Try using .loc[row_indexer,col_indexer] = value instead\n",
      "\n",
      "See the caveats in the documentation: https://pandas.pydata.org/pandas-docs/stable/user_guide/indexing.html#returning-a-view-versus-a-copy\n",
      "  self[col] = igetitem(value, i)\n",
      "C:\\Users\\charm\\anaconda3\\lib\\site-packages\\pandas\\core\\frame.py:3678: SettingWithCopyWarning: \n",
      "A value is trying to be set on a copy of a slice from a DataFrame.\n",
      "Try using .loc[row_indexer,col_indexer] = value instead\n",
      "\n",
      "See the caveats in the documentation: https://pandas.pydata.org/pandas-docs/stable/user_guide/indexing.html#returning-a-view-versus-a-copy\n",
      "  self[col] = igetitem(value, i)\n",
      "C:\\Users\\charm\\anaconda3\\lib\\site-packages\\sklearn\\preprocessing\\_encoders.py:868: FutureWarning: `sparse` was renamed to `sparse_output` in version 1.2 and will be removed in 1.4. `sparse_output` is ignored unless you leave `sparse` to its default value.\n",
      "  warnings.warn(\n"
     ]
    },
    {
     "name": "stdout",
     "output_type": "stream",
     "text": [
      "Epoch 1/10\n",
      "38/38 [==============================] - 3s 23ms/step - loss: 12.0427 - accuracy: 0.8655 - val_loss: 10.0104 - val_accuracy: 0.9654\n",
      "Epoch 2/10\n",
      "38/38 [==============================] - 0s 11ms/step - loss: 8.3068 - accuracy: 0.9996 - val_loss: 6.5960 - val_accuracy: 1.0000\n",
      "Epoch 3/10\n",
      "38/38 [==============================] - 0s 12ms/step - loss: 5.3355 - accuracy: 0.9460 - val_loss: 4.0223 - val_accuracy: 1.0000\n",
      "Epoch 4/10\n",
      "38/38 [==============================] - 1s 14ms/step - loss: 3.0925 - accuracy: 1.0000 - val_loss: 2.2018 - val_accuracy: 1.0000\n",
      "Epoch 5/10\n",
      "38/38 [==============================] - 1s 17ms/step - loss: 1.6184 - accuracy: 1.0000 - val_loss: 1.1169 - val_accuracy: 1.0000\n",
      "Epoch 6/10\n",
      "38/38 [==============================] - 1s 16ms/step - loss: 0.8852 - accuracy: 0.9427 - val_loss: 0.7125 - val_accuracy: 1.0000\n",
      "Epoch 7/10\n",
      "38/38 [==============================] - 1s 15ms/step - loss: 0.6539 - accuracy: 1.0000 - val_loss: 0.6294 - val_accuracy: 1.0000\n",
      "Epoch 8/10\n",
      "38/38 [==============================] - 1s 17ms/step - loss: 0.6029 - accuracy: 1.0000 - val_loss: 0.6153 - val_accuracy: 1.0000\n",
      "Epoch 9/10\n",
      "38/38 [==============================] - 0s 10ms/step - loss: 0.6432 - accuracy: 0.9013 - val_loss: 0.5909 - val_accuracy: 1.0000\n",
      "Epoch 10/10\n",
      "38/38 [==============================] - 0s 13ms/step - loss: 0.5732 - accuracy: 1.0000 - val_loss: 0.5771 - val_accuracy: 1.0000\n"
     ]
    },
    {
     "name": "stderr",
     "output_type": "stream",
     "text": [
      "C:\\Users\\charm\\anaconda3\\lib\\site-packages\\pandas\\core\\frame.py:3678: SettingWithCopyWarning: \n",
      "A value is trying to be set on a copy of a slice from a DataFrame.\n",
      "Try using .loc[row_indexer,col_indexer] = value instead\n",
      "\n",
      "See the caveats in the documentation: https://pandas.pydata.org/pandas-docs/stable/user_guide/indexing.html#returning-a-view-versus-a-copy\n",
      "  self[col] = igetitem(value, i)\n"
     ]
    },
    {
     "name": "stdout",
     "output_type": "stream",
     "text": [
      "142/142 [==============================] - 1s 3ms/step\n"
     ]
    },
    {
     "name": "stderr",
     "output_type": "stream",
     "text": [
      "C:\\Users\\charm\\anaconda3\\lib\\site-packages\\pandas\\core\\frame.py:3678: SettingWithCopyWarning: \n",
      "A value is trying to be set on a copy of a slice from a DataFrame.\n",
      "Try using .loc[row_indexer,col_indexer] = value instead\n",
      "\n",
      "See the caveats in the documentation: https://pandas.pydata.org/pandas-docs/stable/user_guide/indexing.html#returning-a-view-versus-a-copy\n",
      "  self[col] = igetitem(value, i)\n",
      "C:\\Users\\charm\\anaconda3\\lib\\site-packages\\pandas\\core\\frame.py:3678: SettingWithCopyWarning: \n",
      "A value is trying to be set on a copy of a slice from a DataFrame.\n",
      "Try using .loc[row_indexer,col_indexer] = value instead\n",
      "\n",
      "See the caveats in the documentation: https://pandas.pydata.org/pandas-docs/stable/user_guide/indexing.html#returning-a-view-versus-a-copy\n",
      "  self[col] = igetitem(value, i)\n",
      "C:\\Users\\charm\\anaconda3\\lib\\site-packages\\sklearn\\preprocessing\\_encoders.py:868: FutureWarning: `sparse` was renamed to `sparse_output` in version 1.2 and will be removed in 1.4. `sparse_output` is ignored unless you leave `sparse` to its default value.\n",
      "  warnings.warn(\n"
     ]
    },
    {
     "name": "stdout",
     "output_type": "stream",
     "text": [
      "Epoch 1/10\n",
      "38/38 [==============================] - 3s 19ms/step - loss: 12.1996 - accuracy: 0.5000 - val_loss: 9.7963 - val_accuracy: 0.9729\n",
      "Epoch 2/10\n",
      "38/38 [==============================] - 0s 11ms/step - loss: 8.4564 - accuracy: 0.5000 - val_loss: 6.4453 - val_accuracy: 0.9729\n",
      "Epoch 3/10\n",
      "38/38 [==============================] - 0s 12ms/step - loss: 5.4666 - accuracy: 0.5000 - val_loss: 3.9052 - val_accuracy: 0.9729\n",
      "Epoch 4/10\n",
      "38/38 [==============================] - 0s 11ms/step - loss: 3.1844 - accuracy: 0.5000 - val_loss: 2.0482 - val_accuracy: 0.9729\n",
      "Epoch 5/10\n",
      "38/38 [==============================] - 0s 9ms/step - loss: 1.6644 - accuracy: 0.5000 - val_loss: 0.9459 - val_accuracy: 0.9729\n",
      "Epoch 6/10\n",
      "38/38 [==============================] - 0s 11ms/step - loss: 0.8978 - accuracy: 0.6057 - val_loss: 0.8603 - val_accuracy: 0.5452\n",
      "Epoch 7/10\n",
      "38/38 [==============================] - 0s 10ms/step - loss: 0.8030 - accuracy: 0.5177 - val_loss: 0.4977 - val_accuracy: 0.9965\n",
      "Epoch 8/10\n",
      "38/38 [==============================] - 0s 11ms/step - loss: 0.6336 - accuracy: 0.9954 - val_loss: 0.4638 - val_accuracy: 1.0000\n",
      "Epoch 9/10\n",
      "38/38 [==============================] - 0s 10ms/step - loss: 0.6066 - accuracy: 1.0000 - val_loss: 0.4507 - val_accuracy: 1.0000\n",
      "Epoch 10/10\n",
      "38/38 [==============================] - 0s 10ms/step - loss: 0.5859 - accuracy: 1.0000 - val_loss: 0.4348 - val_accuracy: 1.0000\n",
      "  1/142 [..............................] - ETA: 22s"
     ]
    },
    {
     "name": "stderr",
     "output_type": "stream",
     "text": [
      "C:\\Users\\charm\\anaconda3\\lib\\site-packages\\pandas\\core\\frame.py:3678: SettingWithCopyWarning: \n",
      "A value is trying to be set on a copy of a slice from a DataFrame.\n",
      "Try using .loc[row_indexer,col_indexer] = value instead\n",
      "\n",
      "See the caveats in the documentation: https://pandas.pydata.org/pandas-docs/stable/user_guide/indexing.html#returning-a-view-versus-a-copy\n",
      "  self[col] = igetitem(value, i)\n"
     ]
    },
    {
     "name": "stdout",
     "output_type": "stream",
     "text": [
      "142/142 [==============================] - 1s 3ms/step\n"
     ]
    },
    {
     "name": "stderr",
     "output_type": "stream",
     "text": [
      "C:\\Users\\charm\\anaconda3\\lib\\site-packages\\pandas\\core\\frame.py:3678: SettingWithCopyWarning: \n",
      "A value is trying to be set on a copy of a slice from a DataFrame.\n",
      "Try using .loc[row_indexer,col_indexer] = value instead\n",
      "\n",
      "See the caveats in the documentation: https://pandas.pydata.org/pandas-docs/stable/user_guide/indexing.html#returning-a-view-versus-a-copy\n",
      "  self[col] = igetitem(value, i)\n",
      "C:\\Users\\charm\\anaconda3\\lib\\site-packages\\pandas\\core\\frame.py:3678: SettingWithCopyWarning: \n",
      "A value is trying to be set on a copy of a slice from a DataFrame.\n",
      "Try using .loc[row_indexer,col_indexer] = value instead\n",
      "\n",
      "See the caveats in the documentation: https://pandas.pydata.org/pandas-docs/stable/user_guide/indexing.html#returning-a-view-versus-a-copy\n",
      "  self[col] = igetitem(value, i)\n",
      "C:\\Users\\charm\\anaconda3\\lib\\site-packages\\sklearn\\preprocessing\\_encoders.py:868: FutureWarning: `sparse` was renamed to `sparse_output` in version 1.2 and will be removed in 1.4. `sparse_output` is ignored unless you leave `sparse` to its default value.\n",
      "  warnings.warn(\n"
     ]
    },
    {
     "name": "stdout",
     "output_type": "stream",
     "text": [
      "Epoch 1/10\n",
      "38/38 [==============================] - 3s 17ms/step - loss: 12.0166 - accuracy: 0.5000 - val_loss: 9.9048 - val_accuracy: 0.9729\n",
      "Epoch 2/10\n",
      "38/38 [==============================] - 0s 10ms/step - loss: 8.3625 - accuracy: 0.5000 - val_loss: 6.5956 - val_accuracy: 0.9729\n",
      "Epoch 3/10\n",
      "38/38 [==============================] - 0s 10ms/step - loss: 5.3926 - accuracy: 0.5008 - val_loss: 4.0349 - val_accuracy: 0.9957\n",
      "Epoch 4/10\n",
      "38/38 [==============================] - 0s 11ms/step - loss: 3.1972 - accuracy: 0.7881 - val_loss: 2.1999 - val_accuracy: 0.9791\n",
      "Epoch 5/10\n",
      "38/38 [==============================] - 0s 10ms/step - loss: 1.7033 - accuracy: 0.9431 - val_loss: 1.0961 - val_accuracy: 1.0000\n",
      "Epoch 6/10\n",
      "38/38 [==============================] - 0s 12ms/step - loss: 0.9480 - accuracy: 0.8951 - val_loss: 0.6930 - val_accuracy: 1.0000\n",
      "Epoch 7/10\n",
      "38/38 [==============================] - 0s 11ms/step - loss: 0.7280 - accuracy: 0.9663 - val_loss: 0.6163 - val_accuracy: 1.0000\n",
      "Epoch 8/10\n",
      "38/38 [==============================] - 0s 10ms/step - loss: 0.6989 - accuracy: 0.9061 - val_loss: 0.6006 - val_accuracy: 1.0000\n",
      "Epoch 9/10\n",
      "38/38 [==============================] - 0s 10ms/step - loss: 0.6574 - accuracy: 1.0000 - val_loss: 0.5886 - val_accuracy: 1.0000\n",
      "Epoch 10/10\n",
      "38/38 [==============================] - 0s 12ms/step - loss: 0.6937 - accuracy: 0.8564 - val_loss: 0.5825 - val_accuracy: 1.0000\n"
     ]
    },
    {
     "name": "stderr",
     "output_type": "stream",
     "text": [
      "C:\\Users\\charm\\anaconda3\\lib\\site-packages\\pandas\\core\\frame.py:3678: SettingWithCopyWarning: \n",
      "A value is trying to be set on a copy of a slice from a DataFrame.\n",
      "Try using .loc[row_indexer,col_indexer] = value instead\n",
      "\n",
      "See the caveats in the documentation: https://pandas.pydata.org/pandas-docs/stable/user_guide/indexing.html#returning-a-view-versus-a-copy\n",
      "  self[col] = igetitem(value, i)\n"
     ]
    },
    {
     "name": "stdout",
     "output_type": "stream",
     "text": [
      "142/142 [==============================] - 0s 2ms/step\n"
     ]
    },
    {
     "name": "stderr",
     "output_type": "stream",
     "text": [
      "C:\\Users\\charm\\anaconda3\\lib\\site-packages\\pandas\\core\\frame.py:3678: SettingWithCopyWarning: \n",
      "A value is trying to be set on a copy of a slice from a DataFrame.\n",
      "Try using .loc[row_indexer,col_indexer] = value instead\n",
      "\n",
      "See the caveats in the documentation: https://pandas.pydata.org/pandas-docs/stable/user_guide/indexing.html#returning-a-view-versus-a-copy\n",
      "  self[col] = igetitem(value, i)\n",
      "C:\\Users\\charm\\anaconda3\\lib\\site-packages\\pandas\\core\\frame.py:3678: SettingWithCopyWarning: \n",
      "A value is trying to be set on a copy of a slice from a DataFrame.\n",
      "Try using .loc[row_indexer,col_indexer] = value instead\n",
      "\n",
      "See the caveats in the documentation: https://pandas.pydata.org/pandas-docs/stable/user_guide/indexing.html#returning-a-view-versus-a-copy\n",
      "  self[col] = igetitem(value, i)\n",
      "C:\\Users\\charm\\anaconda3\\lib\\site-packages\\sklearn\\preprocessing\\_encoders.py:868: FutureWarning: `sparse` was renamed to `sparse_output` in version 1.2 and will be removed in 1.4. `sparse_output` is ignored unless you leave `sparse` to its default value.\n",
      "  warnings.warn(\n"
     ]
    },
    {
     "name": "stdout",
     "output_type": "stream",
     "text": [
      "Epoch 1/10\n",
      "38/38 [==============================] - 3s 19ms/step - loss: 12.1899 - accuracy: 0.5000 - val_loss: 10.2921 - val_accuracy: 0.0273\n",
      "Epoch 2/10\n",
      "38/38 [==============================] - 0s 13ms/step - loss: 8.5085 - accuracy: 0.5004 - val_loss: 6.8766 - val_accuracy: 0.0273\n",
      "Epoch 3/10\n",
      "38/38 [==============================] - 0s 12ms/step - loss: 5.4985 - accuracy: 0.7694 - val_loss: 4.2428 - val_accuracy: 0.9992\n",
      "Epoch 4/10\n",
      "38/38 [==============================] - 0s 10ms/step - loss: 3.2628 - accuracy: 0.9279 - val_loss: 2.3723 - val_accuracy: 1.0000\n",
      "Epoch 5/10\n",
      "38/38 [==============================] - 0s 12ms/step - loss: 1.7473 - accuracy: 0.9869 - val_loss: 1.2328 - val_accuracy: 0.9348\n",
      "Epoch 6/10\n",
      "38/38 [==============================] - 0s 13ms/step - loss: 0.9585 - accuracy: 0.9734 - val_loss: 0.7750 - val_accuracy: 1.0000\n",
      "Epoch 7/10\n",
      "38/38 [==============================] - 0s 10ms/step - loss: 0.7374 - accuracy: 0.9819 - val_loss: 0.6878 - val_accuracy: 1.0000\n",
      "Epoch 8/10\n",
      "38/38 [==============================] - 0s 12ms/step - loss: 0.6874 - accuracy: 1.0000 - val_loss: 0.6607 - val_accuracy: 1.0000\n",
      "Epoch 9/10\n",
      "38/38 [==============================] - 0s 12ms/step - loss: 0.6742 - accuracy: 0.9886 - val_loss: 0.7846 - val_accuracy: 0.1321\n",
      "Epoch 10/10\n",
      "38/38 [==============================] - 0s 11ms/step - loss: 0.7572 - accuracy: 0.5616 - val_loss: 0.7859 - val_accuracy: 0.1259\n"
     ]
    },
    {
     "name": "stderr",
     "output_type": "stream",
     "text": [
      "C:\\Users\\charm\\anaconda3\\lib\\site-packages\\pandas\\core\\frame.py:3678: SettingWithCopyWarning: \n",
      "A value is trying to be set on a copy of a slice from a DataFrame.\n",
      "Try using .loc[row_indexer,col_indexer] = value instead\n",
      "\n",
      "See the caveats in the documentation: https://pandas.pydata.org/pandas-docs/stable/user_guide/indexing.html#returning-a-view-versus-a-copy\n",
      "  self[col] = igetitem(value, i)\n"
     ]
    },
    {
     "name": "stdout",
     "output_type": "stream",
     "text": [
      "142/142 [==============================] - 1s 3ms/step\n"
     ]
    },
    {
     "name": "stderr",
     "output_type": "stream",
     "text": [
      "C:\\Users\\charm\\anaconda3\\lib\\site-packages\\pandas\\core\\frame.py:3678: SettingWithCopyWarning: \n",
      "A value is trying to be set on a copy of a slice from a DataFrame.\n",
      "Try using .loc[row_indexer,col_indexer] = value instead\n",
      "\n",
      "See the caveats in the documentation: https://pandas.pydata.org/pandas-docs/stable/user_guide/indexing.html#returning-a-view-versus-a-copy\n",
      "  self[col] = igetitem(value, i)\n",
      "C:\\Users\\charm\\anaconda3\\lib\\site-packages\\pandas\\core\\frame.py:3678: SettingWithCopyWarning: \n",
      "A value is trying to be set on a copy of a slice from a DataFrame.\n",
      "Try using .loc[row_indexer,col_indexer] = value instead\n",
      "\n",
      "See the caveats in the documentation: https://pandas.pydata.org/pandas-docs/stable/user_guide/indexing.html#returning-a-view-versus-a-copy\n",
      "  self[col] = igetitem(value, i)\n",
      "C:\\Users\\charm\\anaconda3\\lib\\site-packages\\sklearn\\preprocessing\\_encoders.py:868: FutureWarning: `sparse` was renamed to `sparse_output` in version 1.2 and will be removed in 1.4. `sparse_output` is ignored unless you leave `sparse` to its default value.\n",
      "  warnings.warn(\n"
     ]
    },
    {
     "name": "stdout",
     "output_type": "stream",
     "text": [
      "Epoch 1/10\n",
      "38/38 [==============================] - 3s 19ms/step - loss: 12.1743 - accuracy: 0.5000 - val_loss: 10.0324 - val_accuracy: 0.9727\n",
      "Epoch 2/10\n",
      "38/38 [==============================] - 0s 9ms/step - loss: 8.5175 - accuracy: 0.5000 - val_loss: 6.6869 - val_accuracy: 0.9727\n",
      "Epoch 3/10\n",
      "38/38 [==============================] - 0s 11ms/step - loss: 5.5117 - accuracy: 0.5000 - val_loss: 4.1125 - val_accuracy: 0.9727\n",
      "Epoch 4/10\n",
      "38/38 [==============================] - 0s 10ms/step - loss: 3.3113 - accuracy: 0.5000 - val_loss: 2.2810 - val_accuracy: 0.9727\n",
      "Epoch 5/10\n",
      "38/38 [==============================] - 0s 10ms/step - loss: 1.7865 - accuracy: 0.5000 - val_loss: 1.2176 - val_accuracy: 0.9727\n",
      "Epoch 6/10\n",
      "38/38 [==============================] - 0s 10ms/step - loss: 0.9869 - accuracy: 0.5000 - val_loss: 0.7612 - val_accuracy: 0.9727\n",
      "Epoch 7/10\n",
      "38/38 [==============================] - 0s 11ms/step - loss: 0.7675 - accuracy: 0.5000 - val_loss: 0.6633 - val_accuracy: 0.9727\n",
      "Epoch 8/10\n",
      "38/38 [==============================] - 0s 9ms/step - loss: 0.7251 - accuracy: 0.7584 - val_loss: 0.6532 - val_accuracy: 1.0000\n",
      "Epoch 9/10\n",
      "38/38 [==============================] - 0s 12ms/step - loss: 0.7276 - accuracy: 0.8309 - val_loss: 0.6497 - val_accuracy: 1.0000\n",
      "Epoch 10/10\n",
      "38/38 [==============================] - 0s 12ms/step - loss: 0.6913 - accuracy: 1.0000 - val_loss: 0.6359 - val_accuracy: 1.0000\n"
     ]
    },
    {
     "name": "stderr",
     "output_type": "stream",
     "text": [
      "C:\\Users\\charm\\anaconda3\\lib\\site-packages\\pandas\\core\\frame.py:3678: SettingWithCopyWarning: \n",
      "A value is trying to be set on a copy of a slice from a DataFrame.\n",
      "Try using .loc[row_indexer,col_indexer] = value instead\n",
      "\n",
      "See the caveats in the documentation: https://pandas.pydata.org/pandas-docs/stable/user_guide/indexing.html#returning-a-view-versus-a-copy\n",
      "  self[col] = igetitem(value, i)\n"
     ]
    },
    {
     "name": "stdout",
     "output_type": "stream",
     "text": [
      "142/142 [==============================] - 1s 3ms/step\n"
     ]
    },
    {
     "name": "stderr",
     "output_type": "stream",
     "text": [
      "C:\\Users\\charm\\anaconda3\\lib\\site-packages\\pandas\\core\\frame.py:3678: SettingWithCopyWarning: \n",
      "A value is trying to be set on a copy of a slice from a DataFrame.\n",
      "Try using .loc[row_indexer,col_indexer] = value instead\n",
      "\n",
      "See the caveats in the documentation: https://pandas.pydata.org/pandas-docs/stable/user_guide/indexing.html#returning-a-view-versus-a-copy\n",
      "  self[col] = igetitem(value, i)\n",
      "C:\\Users\\charm\\anaconda3\\lib\\site-packages\\pandas\\core\\frame.py:3678: SettingWithCopyWarning: \n",
      "A value is trying to be set on a copy of a slice from a DataFrame.\n",
      "Try using .loc[row_indexer,col_indexer] = value instead\n",
      "\n",
      "See the caveats in the documentation: https://pandas.pydata.org/pandas-docs/stable/user_guide/indexing.html#returning-a-view-versus-a-copy\n",
      "  self[col] = igetitem(value, i)\n",
      "C:\\Users\\charm\\anaconda3\\lib\\site-packages\\sklearn\\preprocessing\\_encoders.py:868: FutureWarning: `sparse` was renamed to `sparse_output` in version 1.2 and will be removed in 1.4. `sparse_output` is ignored unless you leave `sparse` to its default value.\n",
      "  warnings.warn(\n"
     ]
    },
    {
     "name": "stdout",
     "output_type": "stream",
     "text": [
      "Epoch 1/10\n",
      "38/38 [==============================] - 3s 19ms/step - loss: 12.1936 - accuracy: 0.5000 - val_loss: 10.3983 - val_accuracy: 0.0273\n",
      "Epoch 2/10\n",
      "38/38 [==============================] - 0s 10ms/step - loss: 8.4775 - accuracy: 0.5000 - val_loss: 7.1704 - val_accuracy: 0.0273\n",
      "Epoch 3/10\n",
      "38/38 [==============================] - 0s 12ms/step - loss: 5.4785 - accuracy: 0.5000 - val_loss: 4.3792 - val_accuracy: 0.0273\n",
      "Epoch 4/10\n",
      "38/38 [==============================] - 0s 10ms/step - loss: 3.2258 - accuracy: 0.5000 - val_loss: 2.4920 - val_accuracy: 0.0273\n",
      "Epoch 5/10\n",
      "38/38 [==============================] - 0s 10ms/step - loss: 1.7277 - accuracy: 0.5038 - val_loss: 1.3250 - val_accuracy: 0.6823\n",
      "Epoch 6/10\n",
      "38/38 [==============================] - 0s 10ms/step - loss: 0.8986 - accuracy: 0.9730 - val_loss: 0.8760 - val_accuracy: 1.0000\n",
      "Epoch 7/10\n",
      "38/38 [==============================] - 0s 12ms/step - loss: 0.6710 - accuracy: 1.0000 - val_loss: 0.7700 - val_accuracy: 1.0000\n",
      "Epoch 8/10\n",
      "38/38 [==============================] - 0s 11ms/step - loss: 0.6598 - accuracy: 0.9102 - val_loss: 0.7428 - val_accuracy: 1.0000\n",
      "Epoch 9/10\n",
      "38/38 [==============================] - 0s 13ms/step - loss: 0.6020 - accuracy: 1.0000 - val_loss: 0.7187 - val_accuracy: 1.0000\n",
      "Epoch 10/10\n",
      "38/38 [==============================] - 0s 10ms/step - loss: 0.5838 - accuracy: 1.0000 - val_loss: 0.6986 - val_accuracy: 1.0000\n",
      "  1/142 [..............................] - ETA: 23s"
     ]
    },
    {
     "name": "stderr",
     "output_type": "stream",
     "text": [
      "C:\\Users\\charm\\anaconda3\\lib\\site-packages\\pandas\\core\\frame.py:3678: SettingWithCopyWarning: \n",
      "A value is trying to be set on a copy of a slice from a DataFrame.\n",
      "Try using .loc[row_indexer,col_indexer] = value instead\n",
      "\n",
      "See the caveats in the documentation: https://pandas.pydata.org/pandas-docs/stable/user_guide/indexing.html#returning-a-view-versus-a-copy\n",
      "  self[col] = igetitem(value, i)\n"
     ]
    },
    {
     "name": "stdout",
     "output_type": "stream",
     "text": [
      "142/142 [==============================] - 0s 2ms/step\n"
     ]
    },
    {
     "name": "stderr",
     "output_type": "stream",
     "text": [
      "C:\\Users\\charm\\anaconda3\\lib\\site-packages\\pandas\\core\\frame.py:3678: SettingWithCopyWarning: \n",
      "A value is trying to be set on a copy of a slice from a DataFrame.\n",
      "Try using .loc[row_indexer,col_indexer] = value instead\n",
      "\n",
      "See the caveats in the documentation: https://pandas.pydata.org/pandas-docs/stable/user_guide/indexing.html#returning-a-view-versus-a-copy\n",
      "  self[col] = igetitem(value, i)\n",
      "C:\\Users\\charm\\anaconda3\\lib\\site-packages\\pandas\\core\\frame.py:3678: SettingWithCopyWarning: \n",
      "A value is trying to be set on a copy of a slice from a DataFrame.\n",
      "Try using .loc[row_indexer,col_indexer] = value instead\n",
      "\n",
      "See the caveats in the documentation: https://pandas.pydata.org/pandas-docs/stable/user_guide/indexing.html#returning-a-view-versus-a-copy\n",
      "  self[col] = igetitem(value, i)\n",
      "C:\\Users\\charm\\anaconda3\\lib\\site-packages\\sklearn\\preprocessing\\_encoders.py:868: FutureWarning: `sparse` was renamed to `sparse_output` in version 1.2 and will be removed in 1.4. `sparse_output` is ignored unless you leave `sparse` to its default value.\n",
      "  warnings.warn(\n"
     ]
    },
    {
     "name": "stdout",
     "output_type": "stream",
     "text": [
      "Epoch 1/10\n",
      "38/38 [==============================] - 3s 20ms/step - loss: 12.2733 - accuracy: 0.5000 - val_loss: 10.5144 - val_accuracy: 0.0273\n",
      "Epoch 2/10\n",
      "38/38 [==============================] - 0s 10ms/step - loss: 8.5925 - accuracy: 0.5000 - val_loss: 7.0828 - val_accuracy: 0.0273\n",
      "Epoch 3/10\n",
      "38/38 [==============================] - 0s 11ms/step - loss: 5.5591 - accuracy: 0.5000 - val_loss: 4.3974 - val_accuracy: 0.0273\n",
      "Epoch 4/10\n",
      "38/38 [==============================] - 0s 11ms/step - loss: 3.2910 - accuracy: 0.5000 - val_loss: 2.4874 - val_accuracy: 0.0273\n",
      "Epoch 5/10\n",
      "38/38 [==============================] - 0s 10ms/step - loss: 1.7661 - accuracy: 0.5000 - val_loss: 1.3323 - val_accuracy: 0.0273\n",
      "Epoch 6/10\n",
      "38/38 [==============================] - 0s 11ms/step - loss: 0.9818 - accuracy: 0.5000 - val_loss: 0.9105 - val_accuracy: 0.0273\n",
      "Epoch 7/10\n",
      "38/38 [==============================] - 0s 11ms/step - loss: 0.7697 - accuracy: 0.5000 - val_loss: 0.7901 - val_accuracy: 0.0273\n",
      "Epoch 8/10\n",
      "38/38 [==============================] - 0s 10ms/step - loss: 0.7140 - accuracy: 0.9174 - val_loss: 0.8017 - val_accuracy: 0.0273\n",
      "Epoch 9/10\n",
      "38/38 [==============================] - 0s 11ms/step - loss: 0.7563 - accuracy: 0.5030 - val_loss: 0.8866 - val_accuracy: 0.0273\n",
      "Epoch 10/10\n",
      "38/38 [==============================] - 0s 10ms/step - loss: 0.7570 - accuracy: 0.5000 - val_loss: 0.7974 - val_accuracy: 0.0273\n",
      "  1/142 [..............................] - ETA: 22s"
     ]
    },
    {
     "name": "stderr",
     "output_type": "stream",
     "text": [
      "C:\\Users\\charm\\anaconda3\\lib\\site-packages\\pandas\\core\\frame.py:3678: SettingWithCopyWarning: \n",
      "A value is trying to be set on a copy of a slice from a DataFrame.\n",
      "Try using .loc[row_indexer,col_indexer] = value instead\n",
      "\n",
      "See the caveats in the documentation: https://pandas.pydata.org/pandas-docs/stable/user_guide/indexing.html#returning-a-view-versus-a-copy\n",
      "  self[col] = igetitem(value, i)\n"
     ]
    },
    {
     "name": "stdout",
     "output_type": "stream",
     "text": [
      "142/142 [==============================] - 0s 2ms/step\n"
     ]
    },
    {
     "name": "stderr",
     "output_type": "stream",
     "text": [
      "C:\\Users\\charm\\anaconda3\\lib\\site-packages\\pandas\\core\\frame.py:3678: SettingWithCopyWarning: \n",
      "A value is trying to be set on a copy of a slice from a DataFrame.\n",
      "Try using .loc[row_indexer,col_indexer] = value instead\n",
      "\n",
      "See the caveats in the documentation: https://pandas.pydata.org/pandas-docs/stable/user_guide/indexing.html#returning-a-view-versus-a-copy\n",
      "  self[col] = igetitem(value, i)\n",
      "C:\\Users\\charm\\anaconda3\\lib\\site-packages\\pandas\\core\\frame.py:3678: SettingWithCopyWarning: \n",
      "A value is trying to be set on a copy of a slice from a DataFrame.\n",
      "Try using .loc[row_indexer,col_indexer] = value instead\n",
      "\n",
      "See the caveats in the documentation: https://pandas.pydata.org/pandas-docs/stable/user_guide/indexing.html#returning-a-view-versus-a-copy\n",
      "  self[col] = igetitem(value, i)\n",
      "C:\\Users\\charm\\anaconda3\\lib\\site-packages\\sklearn\\preprocessing\\_encoders.py:868: FutureWarning: `sparse` was renamed to `sparse_output` in version 1.2 and will be removed in 1.4. `sparse_output` is ignored unless you leave `sparse` to its default value.\n",
      "  warnings.warn(\n"
     ]
    },
    {
     "name": "stdout",
     "output_type": "stream",
     "text": [
      "Epoch 1/10\n",
      "38/38 [==============================] - 3s 19ms/step - loss: 12.2061 - accuracy: 0.7032 - val_loss: 10.1346 - val_accuracy: 0.9888\n",
      "Epoch 2/10\n",
      "38/38 [==============================] - 0s 11ms/step - loss: 8.5294 - accuracy: 0.9747 - val_loss: 6.7854 - val_accuracy: 1.0000\n",
      "Epoch 3/10\n",
      "38/38 [==============================] - 0s 11ms/step - loss: 5.5164 - accuracy: 1.0000 - val_loss: 4.1619 - val_accuracy: 1.0000\n",
      "Epoch 4/10\n",
      "38/38 [==============================] - 0s 12ms/step - loss: 3.2664 - accuracy: 0.9473 - val_loss: 2.3723 - val_accuracy: 0.9336\n",
      "Epoch 5/10\n",
      "38/38 [==============================] - 0s 11ms/step - loss: 1.7463 - accuracy: 0.9562 - val_loss: 1.2337 - val_accuracy: 0.9634\n",
      "Epoch 6/10\n",
      "38/38 [==============================] - 0s 12ms/step - loss: 0.9399 - accuracy: 0.9979 - val_loss: 0.7338 - val_accuracy: 1.0000\n",
      "Epoch 7/10\n",
      "38/38 [==============================] - 0s 12ms/step - loss: 0.7334 - accuracy: 0.9414 - val_loss: 0.6500 - val_accuracy: 1.0000\n",
      "Epoch 8/10\n",
      "38/38 [==============================] - 0s 12ms/step - loss: 0.6687 - accuracy: 1.0000 - val_loss: 0.6267 - val_accuracy: 1.0000\n",
      "Epoch 9/10\n",
      "38/38 [==============================] - 0s 13ms/step - loss: 0.6853 - accuracy: 0.9060 - val_loss: 0.6197 - val_accuracy: 1.0000\n",
      "Epoch 10/10\n",
      "38/38 [==============================] - 0s 11ms/step - loss: 0.6428 - accuracy: 1.0000 - val_loss: 0.6070 - val_accuracy: 1.0000\n",
      "  1/142 [..............................] - ETA: 21s"
     ]
    },
    {
     "name": "stderr",
     "output_type": "stream",
     "text": [
      "C:\\Users\\charm\\anaconda3\\lib\\site-packages\\pandas\\core\\frame.py:3678: SettingWithCopyWarning: \n",
      "A value is trying to be set on a copy of a slice from a DataFrame.\n",
      "Try using .loc[row_indexer,col_indexer] = value instead\n",
      "\n",
      "See the caveats in the documentation: https://pandas.pydata.org/pandas-docs/stable/user_guide/indexing.html#returning-a-view-versus-a-copy\n",
      "  self[col] = igetitem(value, i)\n"
     ]
    },
    {
     "name": "stdout",
     "output_type": "stream",
     "text": [
      "142/142 [==============================] - 1s 3ms/step\n"
     ]
    },
    {
     "name": "stderr",
     "output_type": "stream",
     "text": [
      "C:\\Users\\charm\\anaconda3\\lib\\site-packages\\pandas\\core\\frame.py:3678: SettingWithCopyWarning: \n",
      "A value is trying to be set on a copy of a slice from a DataFrame.\n",
      "Try using .loc[row_indexer,col_indexer] = value instead\n",
      "\n",
      "See the caveats in the documentation: https://pandas.pydata.org/pandas-docs/stable/user_guide/indexing.html#returning-a-view-versus-a-copy\n",
      "  self[col] = igetitem(value, i)\n",
      "C:\\Users\\charm\\anaconda3\\lib\\site-packages\\pandas\\core\\frame.py:3678: SettingWithCopyWarning: \n",
      "A value is trying to be set on a copy of a slice from a DataFrame.\n",
      "Try using .loc[row_indexer,col_indexer] = value instead\n",
      "\n",
      "See the caveats in the documentation: https://pandas.pydata.org/pandas-docs/stable/user_guide/indexing.html#returning-a-view-versus-a-copy\n",
      "  self[col] = igetitem(value, i)\n",
      "C:\\Users\\charm\\anaconda3\\lib\\site-packages\\sklearn\\preprocessing\\_encoders.py:868: FutureWarning: `sparse` was renamed to `sparse_output` in version 1.2 and will be removed in 1.4. `sparse_output` is ignored unless you leave `sparse` to its default value.\n",
      "  warnings.warn(\n"
     ]
    },
    {
     "name": "stdout",
     "output_type": "stream",
     "text": [
      "Epoch 1/10\n",
      "38/38 [==============================] - 3s 21ms/step - loss: 12.0345 - accuracy: 0.6859 - val_loss: 10.0640 - val_accuracy: 0.9524\n",
      "Epoch 2/10\n",
      "38/38 [==============================] - 0s 11ms/step - loss: 8.3337 - accuracy: 0.9975 - val_loss: 6.6763 - val_accuracy: 1.0000\n",
      "Epoch 3/10\n",
      "38/38 [==============================] - 0s 12ms/step - loss: 5.3442 - accuracy: 0.9903 - val_loss: 4.1667 - val_accuracy: 0.7853\n",
      "Epoch 4/10\n",
      "38/38 [==============================] - 0s 11ms/step - loss: 3.1475 - accuracy: 0.9452 - val_loss: 2.2482 - val_accuracy: 1.0000\n",
      "Epoch 5/10\n",
      "38/38 [==============================] - 0s 12ms/step - loss: 1.6344 - accuracy: 1.0000 - val_loss: 1.1367 - val_accuracy: 1.0000\n",
      "Epoch 6/10\n",
      "38/38 [==============================] - 0s 11ms/step - loss: 0.8641 - accuracy: 1.0000 - val_loss: 0.7172 - val_accuracy: 1.0000\n",
      "Epoch 7/10\n",
      "38/38 [==============================] - 0s 11ms/step - loss: 0.6443 - accuracy: 0.9903 - val_loss: 0.6805 - val_accuracy: 0.8642\n",
      "Epoch 8/10\n",
      "38/38 [==============================] - 0s 12ms/step - loss: 0.6743 - accuracy: 0.8596 - val_loss: 0.6149 - val_accuracy: 1.0000\n",
      "Epoch 9/10\n",
      "38/38 [==============================] - 0s 11ms/step - loss: 0.5767 - accuracy: 1.0000 - val_loss: 0.5945 - val_accuracy: 1.0000\n",
      "Epoch 10/10\n",
      "38/38 [==============================] - 0s 12ms/step - loss: 0.5594 - accuracy: 1.0000 - val_loss: 0.5725 - val_accuracy: 1.0000\n"
     ]
    },
    {
     "name": "stderr",
     "output_type": "stream",
     "text": [
      "C:\\Users\\charm\\anaconda3\\lib\\site-packages\\pandas\\core\\frame.py:3678: SettingWithCopyWarning: \n",
      "A value is trying to be set on a copy of a slice from a DataFrame.\n",
      "Try using .loc[row_indexer,col_indexer] = value instead\n",
      "\n",
      "See the caveats in the documentation: https://pandas.pydata.org/pandas-docs/stable/user_guide/indexing.html#returning-a-view-versus-a-copy\n",
      "  self[col] = igetitem(value, i)\n"
     ]
    },
    {
     "name": "stdout",
     "output_type": "stream",
     "text": [
      "142/142 [==============================] - 1s 3ms/step\n",
      "Average Test Accuracy: 0.7326183104820876\n",
      "Average Test Precision: 0.7087480672023219\n",
      "Average Test Recall: 0.9873015873015873\n",
      "Average Test F1-Score: 0.7169772525376311\n"
     ]
    },
    {
     "data": {
      "image/png": "[encoded data removed]",
      "text/plain": [
       "<Figure size 576x432 with 1 Axes>"
      ]
     },
     "metadata": {
      "needs_background": "light"
     },
     "output_type": "display_data"
    },
    {
     "data": {
      "image/png": "[encoded data removed]",
      "text/plain": [
       "<Figure size 576x432 with 1 Axes>"
      ]
     },
     "metadata": {
      "needs_background": "light"
     },
     "output_type": "display_data"
    }
   ],
   "source": [
    "import matplotlib.pyplot as plt\n",
    "from sklearn.metrics import precision_recall_curve\n",
    "from sklearn.metrics import roc_curve, roc_auc_score\n",
    "\n",
    "# Set the seed value\n",
    "np.random.seed(42)\n",
    "\n",
    "# Separate test races\n",
    "test_races = shuffled_data['race_id'].unique()[:10]  # 10 test races\n",
    "excluded_races = test_races.tolist()\n",
    "\n",
    "# Exclude test races from the dataset\n",
    "train_data = shuffled_data[~shuffled_data['race_id'].isin(test_races)]\n",
    "test_data = shuffled_data[shuffled_data['race_id'].isin(test_races)]\n",
    "\n",
    "# Define the number of folds for cross-validation\n",
    "n_folds = 10\n",
    "\n",
    "# Initialize StratifiedKFold with the desired number of folds\n",
    "stratified_kfold = StratifiedKFold(n_splits=n_folds, shuffle=True, random_state=42)\n",
    "\n",
    "# Initialize lists to store evaluation results\n",
    "test_accuracy_scores = []\n",
    "test_precision_scores = []\n",
    "test_recall_scores = []\n",
    "test_f1_scores = []\n",
    "precision_scores_all_folds = []\n",
    "recall_scores_all_folds = []\n",
    "fpr_scores_all_folds = []\n",
    "tpr_scores_all_folds = []\n",
    "thresholds_all_folds = []\n",
    "\n",
    "\n",
    "# Iterate over the folds\n",
    "for train_index, val_index in stratified_kfold.split(train_data, train_data['pitstop']):\n",
    "   # Get the training and validation subsets for the current fold\n",
    "    train_subset = train_data.iloc[train_index]\n",
    "    val_subset = train_data.iloc[val_index]\n",
    "\n",
    "    # Separate input features (X) and target variable (y)\n",
    "    X_train = train_subset[['race_progress', 'tyreageprogress', 'is_leader', 'relativecompound', 'racetrackcat', 'fcystatus', 'remaining_pit_stops', 'pursuer_tyre_change', 'close_ahead']]\n",
    "    y_train = train_subset['pitstop']\n",
    "\n",
    "    X_val = val_subset[['race_progress', 'tyreageprogress', 'is_leader', 'relativecompound', 'racetrackcat', 'fcystatus', 'remaining_pit_stops', 'pursuer_tyre_change', 'close_ahead']]\n",
    "    y_val = val_subset['pitstop']\n",
    "\n",
    "    # Separate categorical and numerical features\n",
    "    cat_features = ['is_leader', 'relativecompound', 'racetrackcat', 'fcystatus', 'remaining_pit_stops', 'pursuer_tyre_change', 'close_ahead']\n",
    "    num_features = ['race_progress', 'tyreageprogress']\n",
    "\n",
    "    # Perform preprocessing on numerical features\n",
    "    scaler = StandardScaler()\n",
    "    X_train[num_features] = scaler.fit_transform(X_train[num_features])\n",
    "    X_val[num_features] = scaler.transform(X_val[num_features])\n",
    "\n",
    "    # Perform preprocessing on categorical features\n",
    "    encoder = OneHotEncoder(sparse=False, handle_unknown='ignore')\n",
    "    X_train_encoded = encoder.fit_transform(X_train[cat_features])\n",
    "    X_val_encoded = encoder.transform(X_val[cat_features])\n",
    "\n",
    "    # Combine preprocessed numerical and categorical features\n",
    "    X_train_processed = np.concatenate((X_train_encoded, X_train[num_features]), axis=1)\n",
    "    X_val_processed = np.concatenate((X_val_encoded, X_val[num_features]), axis=1)\n",
    "\n",
    "    # Undersample the majority class\n",
    "    majority_class_indices = np.where(y_train == 0)[0]\n",
    "    minority_class_indices = np.where(y_train == 1)[0]\n",
    "    undersampled_majority_indices = np.random.choice(majority_class_indices, size=len(minority_class_indices), replace=False)\n",
    "    undersampled_indices = np.concatenate((undersampled_majority_indices, minority_class_indices))\n",
    "    np.random.shuffle(undersampled_indices)\n",
    "\n",
    "    # Use the undersampled indices to obtain the balanced training subset\n",
    "    X_train_processed_undersampled = X_train_processed[undersampled_indices]\n",
    "    y_train_undersampled = y_train.iloc[undersampled_indices]\n",
    "\n",
    "    # Create an instance of LabelEncoder\n",
    "    label_encoder = LabelEncoder()\n",
    "\n",
    "    # Encode the target variable\n",
    "    y_train_encoded_undersampled = label_encoder.fit_transform(y_train_undersampled)\n",
    "\n",
    "    # Convert the target variable to categorical\n",
    "    y_train_categorical = to_categorical(y_train_encoded_undersampled)\n",
    "\n",
    "    # Reshape the training data for the RNN model\n",
    "    X_train_reshaped = X_train_processed_undersampled.reshape((-1, X_train_processed_undersampled.shape[1], 1))\n",
    "\n",
    "    # Build the FFNN model with L1 and L2 regularization\n",
    "    ffnn_model = tf.keras.models.Sequential()\n",
    "    ffnn_model.add(tf.keras.layers.Dense(64, activation='relu', input_shape=(X_train_processed_undersampled.shape[1],),\n",
    "                                         kernel_regularizer=regularizers.l1_l2(l1=0.01, l2=0.001)))\n",
    "    ffnn_model.add(tf.keras.layers.Dropout(0.2))\n",
    "    ffnn_model.add(tf.keras.layers.Dense(64, activation='relu', kernel_regularizer=regularizers.l1_l2(l1=0.01, l2=0.001)))\n",
    "    ffnn_model.add(tf.keras.layers.Dropout(0.2))\n",
    "    ffnn_model.add(tf.keras.layers.Dense(64, activation='relu', kernel_regularizer=regularizers.l1_l2(l1=0.01, l2=0.001)))\n",
    "    ffnn_model.add(tf.keras.layers.Dense(1, activation='sigmoid'))\n",
    "\n",
    "    # Build the RNN model with L1 and L2 regularization\n",
    "    rnn_model = tf.keras.models.Sequential()\n",
    "    rnn_model.add(tf.keras.layers.SimpleRNN(64, input_shape=(X_train_reshaped.shape[1], X_train_reshaped.shape[2]),\n",
    "                                            kernel_regularizer=regularizers.l1_l2(l1=0.01, l2=0.001)))\n",
    "    rnn_model.add(tf.keras.layers.Dense(32, activation='relu', kernel_regularizer=regularizers.l1_l2(l1=0.01, l2=0.001)))\n",
    "    rnn_model.add(tf.keras.layers.Dense(1, activation='sigmoid'))\n",
    "\n",
    "    # Build the combined model with L1 and L2 regularization\n",
    "    combined_model_input = Input(shape=(X_train_processed_undersampled.shape[1],))\n",
    "    ffnn_output = ffnn_model(combined_model_input)\n",
    "    rnn_input = tf.keras.layers.Reshape((X_train_reshaped.shape[1], X_train_reshaped.shape[2]))(combined_model_input)\n",
    "    rnn_output = rnn_model(rnn_input)\n",
    "    combined_output = tf.keras.layers.concatenate([ffnn_output, rnn_output])\n",
    "    combined_output = tf.keras.layers.Dense(1, activation='sigmoid', kernel_regularizer=regularizers.l1_l2(l1=0.01, l2=0.001))(combined_output)\n",
    "\n",
    "    # Create the combined model\n",
    "    combined_model = Model(inputs=combined_model_input, outputs=combined_output)\n",
    "\n",
    "\n",
    "    # Compile the combined model\n",
    "    combined_model.compile(loss='binary_crossentropy', optimizer='nadam', metrics=['accuracy'])\n",
    "\n",
    "    # Define early stopping\n",
    "    early_stopping = EarlyStopping(patience=3, restore_best_weights=True)\n",
    "\n",
    "    # Train the combined model\n",
    "    history = combined_model.fit(X_train_processed_undersampled, y_train_encoded_undersampled, epochs=10, batch_size=32, validation_data=(X_val_processed, y_val), callbacks=[early_stopping])\n",
    "\n",
    "    # Evaluate the combined model on the test data\n",
    "    X_test = test_data[['race_progress', 'tyreageprogress', 'is_leader', 'relativecompound', 'racetrackcat', 'fcystatus', 'remaining_pit_stops', 'pursuer_tyre_change', 'close_ahead']]\n",
    "    y_test = test_data['pitstop']\n",
    "\n",
    "    X_test[num_features] = scaler.transform(X_test[num_features])\n",
    "    X_test_encoded = encoder.transform(X_test[cat_features])\n",
    "    X_test_processed = np.concatenate((X_test_encoded, X_test[num_features]), axis=1)\n",
    "    \n",
    "    # Evaluate the combined model on the test data\n",
    "    test_predictions = combined_model.predict(X_test_processed)\n",
    "    test_predictions = np.round(test_predictions).astype(int)\n",
    "    test_accuracy = accuracy_score(y_test, test_predictions)\n",
    "    test_precision = precision_score(y_test, test_predictions, zero_division=0)\n",
    "    test_recall = recall_score(y_test, test_predictions)\n",
    "    test_f1 = f1_score(y_test, test_predictions)\n",
    "\n",
    "    # Append evaluation scores to the lists\n",
    "    test_accuracy_scores.append(test_accuracy)\n",
    "    test_precision_scores.append(test_precision)\n",
    "    test_recall_scores.append(test_recall)\n",
    "    test_f1_scores.append(test_f1)\n",
    "\n",
    "    # Calculate precision and recall for the current fold\n",
    "    precision, recall, _ = precision_recall_curve(y_test, test_predictions)\n",
    "    precision_scores_all_folds.append(precision)\n",
    "    recall_scores_all_folds.append(recall)\n",
    "    \n",
    "    # Calculate false positive rate (FPR), true positive rate (TPR), and thresholds\n",
    "    fpr, tpr, thresholds = roc_curve(y_test, test_predictions)\n",
    "\n",
    "    # Append the ROC curve data to the lists\n",
    "    fpr_scores_all_folds.append(fpr)\n",
    "    tpr_scores_all_folds.append(tpr)\n",
    "    thresholds_all_folds.append(thresholds)\n",
    "\n",
    "# Compute the average evaluation scores across all folds\n",
    "average_test_accuracy = np.mean(test_accuracy_scores)\n",
    "average_test_precision = np.mean(test_precision_scores)\n",
    "average_test_recall = np.mean(test_recall_scores)\n",
    "average_test_f1 = np.mean(test_f1_scores)\n",
    "\n",
    "# Print the average evaluation scores\n",
    "print(\"Average Test Accuracy:\", average_test_accuracy)\n",
    "print(\"Average Test Precision:\", average_test_precision)\n",
    "print(\"Average Test Recall:\", average_test_recall)\n",
    "print(\"Average Test F1-Score:\", average_test_f1)\n",
    "\n",
    "# Plot precision and recall curves for all folds on one plot\n",
    "plt.figure(figsize=(8, 6))\n",
    "for precision_fold, recall_fold in zip(precision_scores_all_folds, recall_scores_all_folds):\n",
    "    plt.plot(recall_fold, precision_fold)\n",
    "plt.xlabel('Recall')\n",
    "plt.ylabel('Precision')\n",
    "plt.title('Precision-Recall Curves')\n",
    "plt.legend(range(1, n_folds+1))\n",
    "plt.grid(True)\n",
    "plt.show()\n",
    "\n",
    "# Plot ROC curves for all folds on one plot\n",
    "plt.figure(figsize=(8, 6))\n",
    "for fpr_fold, tpr_fold in zip(fpr_scores_all_folds, tpr_scores_all_folds):\n",
    "    plt.plot(fpr_fold, tpr_fold)\n",
    "plt.plot([0, 1], [0, 1], linestyle='--')  # Plot diagonal line (random classifier)\n",
    "plt.xlabel('False Positive Rate')\n",
    "plt.ylabel('True Positive Rate')\n",
    "plt.title('Receiver Operating Characteristic (ROC) Curves')\n",
    "plt.legend(range(1, n_folds+1))\n",
    "plt.grid(True)\n",
    "plt.show()"
   ]
  },
  {
   "cell_type": "code",
   "execution_count": null,
   "id": "82c8791a",
   "metadata": {},
   "outputs": [],
   "source": []
  }
 ],
 "metadata": {
  "kernelspec": {
   "display_name": "Python 3 (ipykernel)",
   "language": "python",
   "name": "python3"
  },
  "language_info": {
   "codemirror_mode": {
    "name": "ipython",
    "version": 3
   },
   "file_extension": ".py",
   "mimetype": "text/x-python",
   "name": "python",
   "nbconvert_exporter": "python",
   "pygments_lexer": "ipython3",
   "version": "3.9.7"
  }
 },
 "nbformat": 4,
 "nbformat_minor": 5
}
