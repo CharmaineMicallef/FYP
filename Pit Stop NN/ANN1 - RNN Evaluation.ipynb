{
 "cells": [
  {
   "cell_type": "markdown",
   "id": "ed598b4a",
   "metadata": {},
   "source": [
    "## Importing Libraries"
   ]
  },
  {
   "cell_type": "code",
   "execution_count": 11,
   "id": "145f5283",
   "metadata": {},
   "outputs": [],
   "source": [
    "import numpy as np\n",
    "import pandas as pd\n",
    "import tensorflow as tf\n",
    "import matplotlib.pyplot as plt\n",
    "from sklearn.model_selection import StratifiedKFold, train_test_split\n",
    "from sklearn.preprocessing import StandardScaler, OneHotEncoder, LabelEncoder\n",
    "from tensorflow.keras.models import Sequential, Model\n",
    "from tensorflow.keras.layers import Dense, Input, concatenate, Reshape, SimpleRNN\n",
    "from tensorflow.keras.losses import SparseCategoricalCrossentropy\n",
    "from tensorflow.keras import regularizers\n",
    "from sklearn.metrics import f1_score, precision_score, recall_score, precision_recall_curve, roc_auc_score, roc_curve, accuracy_score\n",
    "from sklearn.utils import shuffle, resample\n",
    "from tensorflow.keras.metrics import Precision, Recall\n",
    "from tensorflow.keras.callbacks import History, EarlyStopping\n",
    "from imblearn.under_sampling import RandomUnderSampler"
   ]
  },
  {
   "cell_type": "markdown",
   "id": "1b2dcf5b",
   "metadata": {},
   "source": [
    "## Reading the csv file and handling NaNs"
   ]
  },
  {
   "cell_type": "code",
   "execution_count": 3,
   "id": "9ba53927",
   "metadata": {},
   "outputs": [],
   "source": [
    "df = pd.read_csv(r'f1dataset1.csv', encoding='utf-8')\n",
    "\n",
    "# HANDLING NANs\n",
    "df['laptime'] = np.where(df['laptime'].isna(), 0.0, df['laptime'])\n",
    "df['race_progress'] = np.where(df['race_progress'].isna(), 0.0, df['race_progress'])\n",
    "df['tyreageprogress'] = np.where(df['tyreageprogress'].isna(), 0.0, df['tyreageprogress'])"
   ]
  },
  {
   "cell_type": "markdown",
   "id": "6f864c45",
   "metadata": {},
   "source": [
    "## Evalutation pipeline with preprocessing"
   ]
  },
  {
   "cell_type": "code",
   "execution_count": 4,
   "id": "f02c3d03",
   "metadata": {},
   "outputs": [],
   "source": [
    "# shuffle data\n",
    "shuffled_data = df.sample(frac=1, random_state=42)  # Set random_state for reproducibility"
   ]
  },
  {
   "cell_type": "code",
   "execution_count": 12,
   "id": "3784d3ec",
   "metadata": {
    "scrolled": false
   },
   "outputs": [
    {
     "name": "stderr",
     "output_type": "stream",
     "text": [
      "C:\\Users\\charm\\anaconda3\\lib\\site-packages\\pandas\\core\\indexing.py:1835: SettingWithCopyWarning: \n",
      "A value is trying to be set on a copy of a slice from a DataFrame.\n",
      "Try using .loc[row_indexer,col_indexer] = value instead\n",
      "\n",
      "See the caveats in the documentation: https://pandas.pydata.org/pandas-docs/stable/user_guide/indexing.html#returning-a-view-versus-a-copy\n",
      "  self._setitem_single_column(loc, value[:, i].tolist(), pi)\n"
     ]
    },
    {
     "name": "stdout",
     "output_type": "stream",
     "text": [
      "Epoch 1/10\n",
      "75/75 [==============================] - 2s 9ms/step - loss: 18.8700 - accuracy: 0.9684 - val_loss: 12.8141 - val_accuracy: 1.0000\n",
      "Epoch 2/10\n",
      "75/75 [==============================] - 0s 6ms/step - loss: 8.5064 - accuracy: 0.9473 - val_loss: 5.1274 - val_accuracy: 0.6212\n",
      "Epoch 3/10\n",
      "75/75 [==============================] - 1s 7ms/step - loss: 2.6233 - accuracy: 0.9659 - val_loss: 1.3677 - val_accuracy: 0.6364\n",
      "Epoch 4/10\n",
      "75/75 [==============================] - 1s 7ms/step - loss: 0.8102 - accuracy: 0.9401 - val_loss: 0.6370 - val_accuracy: 1.0000\n",
      "Epoch 5/10\n",
      "75/75 [==============================] - 0s 6ms/step - loss: 0.6489 - accuracy: 0.9439 - val_loss: 0.8452 - val_accuracy: 0.8674\n",
      "Epoch 6/10\n",
      "75/75 [==============================] - 0s 6ms/step - loss: 0.5167 - accuracy: 0.9962 - val_loss: 0.4713 - val_accuracy: 1.0000\n",
      "Epoch 7/10\n",
      "75/75 [==============================] - 1s 7ms/step - loss: 0.4484 - accuracy: 1.0000 - val_loss: 0.4333 - val_accuracy: 1.0000\n",
      "Epoch 8/10\n",
      "75/75 [==============================] - 0s 6ms/step - loss: 0.5806 - accuracy: 0.8853 - val_loss: 0.4197 - val_accuracy: 1.0000\n",
      "Epoch 9/10\n",
      "75/75 [==============================] - 1s 7ms/step - loss: 0.4011 - accuracy: 1.0000 - val_loss: 0.3855 - val_accuracy: 1.0000\n",
      "Epoch 10/10\n",
      "75/75 [==============================] - 1s 7ms/step - loss: 0.3732 - accuracy: 1.0000 - val_loss: 0.3623 - val_accuracy: 1.0000\n"
     ]
    },
    {
     "name": "stderr",
     "output_type": "stream",
     "text": [
      "C:\\Users\\charm\\anaconda3\\lib\\site-packages\\pandas\\core\\indexing.py:1835: SettingWithCopyWarning: \n",
      "A value is trying to be set on a copy of a slice from a DataFrame.\n",
      "Try using .loc[row_indexer,col_indexer] = value instead\n",
      "\n",
      "See the caveats in the documentation: https://pandas.pydata.org/pandas-docs/stable/user_guide/indexing.html#returning-a-view-versus-a-copy\n",
      "  self._setitem_single_column(loc, value[:, i].tolist(), pi)\n"
     ]
    },
    {
     "name": "stdout",
     "output_type": "stream",
     "text": [
      "142/142 [==============================] - 1s 3ms/step\n",
      "142/142 [==============================] - 0s 3ms/step\n",
      "Epoch 1/10\n",
      "75/75 [==============================] - 2s 9ms/step - loss: 18.7577 - accuracy: 0.9431 - val_loss: 12.6481 - val_accuracy: 0.9773\n",
      "Epoch 2/10\n",
      "75/75 [==============================] - 0s 5ms/step - loss: 8.3072 - accuracy: 0.9848 - val_loss: 4.5757 - val_accuracy: 1.0000\n",
      "Epoch 3/10\n",
      "75/75 [==============================] - 0s 4ms/step - loss: 2.5494 - accuracy: 0.9587 - val_loss: 1.0312 - val_accuracy: 1.0000\n",
      "Epoch 4/10\n",
      "75/75 [==============================] - 0s 5ms/step - loss: 0.8065 - accuracy: 0.9237 - val_loss: 0.6341 - val_accuracy: 1.0000\n",
      "Epoch 5/10\n",
      "75/75 [==============================] - 0s 6ms/step - loss: 0.6137 - accuracy: 0.9764 - val_loss: 0.5527 - val_accuracy: 1.0000\n",
      "Epoch 6/10\n",
      "75/75 [==============================] - 0s 7ms/step - loss: 0.6850 - accuracy: 0.7913 - val_loss: 0.7932 - val_accuracy: 0.5000\n",
      "Epoch 7/10\n",
      "75/75 [==============================] - 0s 5ms/step - loss: 0.7729 - accuracy: 0.4992 - val_loss: 0.8992 - val_accuracy: 0.5000\n",
      "Epoch 8/10\n",
      "75/75 [==============================] - 0s 5ms/step - loss: 0.7531 - accuracy: 0.5143 - val_loss: 0.7952 - val_accuracy: 0.5000\n"
     ]
    },
    {
     "name": "stderr",
     "output_type": "stream",
     "text": [
      "C:\\Users\\charm\\anaconda3\\lib\\site-packages\\pandas\\core\\indexing.py:1835: SettingWithCopyWarning: \n",
      "A value is trying to be set on a copy of a slice from a DataFrame.\n",
      "Try using .loc[row_indexer,col_indexer] = value instead\n",
      "\n",
      "See the caveats in the documentation: https://pandas.pydata.org/pandas-docs/stable/user_guide/indexing.html#returning-a-view-versus-a-copy\n",
      "  self._setitem_single_column(loc, value[:, i].tolist(), pi)\n"
     ]
    },
    {
     "name": "stdout",
     "output_type": "stream",
     "text": [
      "142/142 [==============================] - 0s 2ms/step\n",
      "142/142 [==============================] - 0s 2ms/step\n",
      "Epoch 1/10\n",
      "75/75 [==============================] - 2s 9ms/step - loss: 18.6877 - accuracy: 0.9637 - val_loss: 13.1194 - val_accuracy: 0.6667\n",
      "Epoch 2/10\n",
      "75/75 [==============================] - 0s 5ms/step - loss: 8.4419 - accuracy: 0.9431 - val_loss: 4.7582 - val_accuracy: 1.0000\n",
      "Epoch 3/10\n",
      "75/75 [==============================] - 0s 7ms/step - loss: 2.6122 - accuracy: 0.9810 - val_loss: 1.2890 - val_accuracy: 0.7614\n",
      "Epoch 4/10\n",
      "75/75 [==============================] - 1s 7ms/step - loss: 0.7903 - accuracy: 0.9646 - val_loss: 0.6354 - val_accuracy: 1.0000\n",
      "Epoch 5/10\n",
      "75/75 [==============================] - 0s 5ms/step - loss: 0.6373 - accuracy: 0.9646 - val_loss: 0.9546 - val_accuracy: 0.5189\n",
      "Epoch 6/10\n",
      "75/75 [==============================] - 0s 6ms/step - loss: 0.5520 - accuracy: 0.9764 - val_loss: 0.4951 - val_accuracy: 1.0000\n",
      "Epoch 7/10\n",
      "75/75 [==============================] - 0s 6ms/step - loss: 0.6099 - accuracy: 0.9102 - val_loss: 0.5121 - val_accuracy: 1.0000\n",
      "Epoch 8/10\n",
      "75/75 [==============================] - 0s 6ms/step - loss: 0.4540 - accuracy: 1.0000 - val_loss: 0.4339 - val_accuracy: 1.0000\n",
      "Epoch 9/10\n",
      "75/75 [==============================] - 0s 6ms/step - loss: 0.4175 - accuracy: 1.0000 - val_loss: 0.4029 - val_accuracy: 1.0000\n",
      "Epoch 10/10\n",
      "75/75 [==============================] - 0s 7ms/step - loss: 0.3927 - accuracy: 1.0000 - val_loss: 0.3846 - val_accuracy: 1.0000\n",
      "  1/142 [..............................] - ETA: 16s"
     ]
    },
    {
     "name": "stderr",
     "output_type": "stream",
     "text": [
      "C:\\Users\\charm\\anaconda3\\lib\\site-packages\\pandas\\core\\indexing.py:1835: SettingWithCopyWarning: \n",
      "A value is trying to be set on a copy of a slice from a DataFrame.\n",
      "Try using .loc[row_indexer,col_indexer] = value instead\n",
      "\n",
      "See the caveats in the documentation: https://pandas.pydata.org/pandas-docs/stable/user_guide/indexing.html#returning-a-view-versus-a-copy\n",
      "  self._setitem_single_column(loc, value[:, i].tolist(), pi)\n"
     ]
    },
    {
     "name": "stdout",
     "output_type": "stream",
     "text": [
      "142/142 [==============================] - 0s 2ms/step\n",
      "142/142 [==============================] - 0s 3ms/step\n",
      "Epoch 1/10\n",
      "75/75 [==============================] - 3s 10ms/step - loss: 18.5805 - accuracy: 0.9591 - val_loss: 12.5013 - val_accuracy: 1.0000\n",
      "Epoch 2/10\n",
      "75/75 [==============================] - 1s 7ms/step - loss: 8.3356 - accuracy: 0.9325 - val_loss: 4.8191 - val_accuracy: 0.7917\n",
      "Epoch 3/10\n",
      "75/75 [==============================] - 1s 7ms/step - loss: 2.5374 - accuracy: 0.9848 - val_loss: 1.0680 - val_accuracy: 1.0000\n",
      "Epoch 4/10\n",
      "75/75 [==============================] - 0s 6ms/step - loss: 0.8292 - accuracy: 0.9073 - val_loss: 0.6904 - val_accuracy: 1.0000\n",
      "Epoch 5/10\n",
      "75/75 [==============================] - 0s 6ms/step - loss: 0.6459 - accuracy: 0.9578 - val_loss: 0.5670 - val_accuracy: 1.0000\n",
      "Epoch 6/10\n",
      "75/75 [==============================] - 0s 5ms/step - loss: 0.6807 - accuracy: 0.8246 - val_loss: 1.0274 - val_accuracy: 0.5152\n",
      "Epoch 7/10\n",
      "75/75 [==============================] - 0s 5ms/step - loss: 0.8024 - accuracy: 0.5118 - val_loss: 0.7991 - val_accuracy: 0.5000\n",
      "Epoch 8/10\n",
      "75/75 [==============================] - 0s 5ms/step - loss: 0.7758 - accuracy: 0.4903 - val_loss: 0.7960 - val_accuracy: 0.5000\n"
     ]
    },
    {
     "name": "stderr",
     "output_type": "stream",
     "text": [
      "C:\\Users\\charm\\anaconda3\\lib\\site-packages\\pandas\\core\\indexing.py:1835: SettingWithCopyWarning: \n",
      "A value is trying to be set on a copy of a slice from a DataFrame.\n",
      "Try using .loc[row_indexer,col_indexer] = value instead\n",
      "\n",
      "See the caveats in the documentation: https://pandas.pydata.org/pandas-docs/stable/user_guide/indexing.html#returning-a-view-versus-a-copy\n",
      "  self._setitem_single_column(loc, value[:, i].tolist(), pi)\n"
     ]
    },
    {
     "name": "stdout",
     "output_type": "stream",
     "text": [
      "142/142 [==============================] - 1s 3ms/step\n",
      "142/142 [==============================] - 0s 3ms/step\n",
      "Epoch 1/10\n",
      "75/75 [==============================] - 2s 10ms/step - loss: 18.4005 - accuracy: 0.9524 - val_loss: 12.3222 - val_accuracy: 1.0000\n",
      "Epoch 2/10\n",
      "75/75 [==============================] - 0s 6ms/step - loss: 8.1166 - accuracy: 0.9671 - val_loss: 4.5022 - val_accuracy: 0.9508\n",
      "Epoch 3/10\n",
      "75/75 [==============================] - 0s 6ms/step - loss: 2.4327 - accuracy: 0.9599 - val_loss: 0.9975 - val_accuracy: 1.0000\n",
      "Epoch 4/10\n",
      "75/75 [==============================] - 0s 6ms/step - loss: 0.8024 - accuracy: 0.9477 - val_loss: 0.8277 - val_accuracy: 0.7235\n",
      "Epoch 5/10\n",
      "75/75 [==============================] - 0s 6ms/step - loss: 0.7473 - accuracy: 0.8259 - val_loss: 0.8320 - val_accuracy: 0.5152\n",
      "Epoch 6/10\n",
      "75/75 [==============================] - 0s 7ms/step - loss: 0.7714 - accuracy: 0.7707 - val_loss: 0.8638 - val_accuracy: 0.5076\n",
      "Epoch 7/10\n",
      "75/75 [==============================] - 0s 5ms/step - loss: 0.6092 - accuracy: 0.9338 - val_loss: 0.5018 - val_accuracy: 1.0000\n",
      "Epoch 8/10\n",
      "75/75 [==============================] - 0s 5ms/step - loss: 0.5953 - accuracy: 0.8718 - val_loss: 0.8000 - val_accuracy: 0.5000\n",
      "Epoch 9/10\n",
      "75/75 [==============================] - 0s 5ms/step - loss: 0.7863 - accuracy: 0.5021 - val_loss: 0.8295 - val_accuracy: 0.4848\n",
      "Epoch 10/10\n",
      "75/75 [==============================] - 0s 7ms/step - loss: 0.7640 - accuracy: 0.6029 - val_loss: 0.7698 - val_accuracy: 0.4962\n"
     ]
    },
    {
     "name": "stderr",
     "output_type": "stream",
     "text": [
      "C:\\Users\\charm\\anaconda3\\lib\\site-packages\\pandas\\core\\indexing.py:1835: SettingWithCopyWarning: \n",
      "A value is trying to be set on a copy of a slice from a DataFrame.\n",
      "Try using .loc[row_indexer,col_indexer] = value instead\n",
      "\n",
      "See the caveats in the documentation: https://pandas.pydata.org/pandas-docs/stable/user_guide/indexing.html#returning-a-view-versus-a-copy\n",
      "  self._setitem_single_column(loc, value[:, i].tolist(), pi)\n"
     ]
    },
    {
     "name": "stdout",
     "output_type": "stream",
     "text": [
      "142/142 [==============================] - 1s 3ms/step\n",
      "142/142 [==============================] - 1s 4ms/step\n",
      "Epoch 1/10\n",
      "75/75 [==============================] - 3s 15ms/step - loss: 18.9279 - accuracy: 0.9595 - val_loss: 12.7554 - val_accuracy: 1.0000\n",
      "Epoch 2/10\n",
      "75/75 [==============================] - 1s 10ms/step - loss: 8.4851 - accuracy: 0.9857 - val_loss: 4.6818 - val_accuracy: 1.0000\n",
      "Epoch 3/10\n",
      "75/75 [==============================] - 1s 9ms/step - loss: 2.5622 - accuracy: 0.9815 - val_loss: 1.1063 - val_accuracy: 1.0000\n",
      "Epoch 4/10\n",
      "75/75 [==============================] - 1s 8ms/step - loss: 0.7737 - accuracy: 0.9642 - val_loss: 0.7970 - val_accuracy: 0.8409\n",
      "Epoch 5/10\n",
      "75/75 [==============================] - 1s 7ms/step - loss: 0.6203 - accuracy: 0.9595 - val_loss: 0.5386 - val_accuracy: 1.0000\n",
      "Epoch 6/10\n",
      "75/75 [==============================] - 1s 7ms/step - loss: 0.5474 - accuracy: 0.9650 - val_loss: 0.4861 - val_accuracy: 1.0000\n",
      "Epoch 7/10\n",
      "75/75 [==============================] - 1s 8ms/step - loss: 0.4517 - accuracy: 1.0000 - val_loss: 0.4312 - val_accuracy: 1.0000\n",
      "Epoch 8/10\n",
      "75/75 [==============================] - 1s 8ms/step - loss: 0.5444 - accuracy: 0.8976 - val_loss: 0.7795 - val_accuracy: 0.6553\n",
      "Epoch 9/10\n",
      "75/75 [==============================] - 1s 8ms/step - loss: 0.4576 - accuracy: 0.9654 - val_loss: 0.3866 - val_accuracy: 1.0000\n",
      "Epoch 10/10\n",
      "75/75 [==============================] - 1s 8ms/step - loss: 0.3737 - accuracy: 1.0000 - val_loss: 0.3626 - val_accuracy: 1.0000\n"
     ]
    },
    {
     "name": "stderr",
     "output_type": "stream",
     "text": [
      "C:\\Users\\charm\\anaconda3\\lib\\site-packages\\pandas\\core\\indexing.py:1835: SettingWithCopyWarning: \n",
      "A value is trying to be set on a copy of a slice from a DataFrame.\n",
      "Try using .loc[row_indexer,col_indexer] = value instead\n",
      "\n",
      "See the caveats in the documentation: https://pandas.pydata.org/pandas-docs/stable/user_guide/indexing.html#returning-a-view-versus-a-copy\n",
      "  self._setitem_single_column(loc, value[:, i].tolist(), pi)\n"
     ]
    },
    {
     "name": "stdout",
     "output_type": "stream",
     "text": [
      "142/142 [==============================] - 1s 4ms/step\n",
      "142/142 [==============================] - 1s 3ms/step\n",
      "Epoch 1/10\n",
      "75/75 [==============================] - 3s 10ms/step - loss: 18.8475 - accuracy: 0.9650 - val_loss: 12.7852 - val_accuracy: 1.0000\n",
      "Epoch 2/10\n",
      "75/75 [==============================] - 0s 7ms/step - loss: 8.5567 - accuracy: 0.9515 - val_loss: 4.7707 - val_accuracy: 1.0000\n",
      "Epoch 3/10\n",
      "75/75 [==============================] - 1s 7ms/step - loss: 2.6474 - accuracy: 0.9718 - val_loss: 1.0751 - val_accuracy: 1.0000\n",
      "Epoch 4/10\n",
      "75/75 [==============================] - 1s 7ms/step - loss: 0.8091 - accuracy: 0.9549 - val_loss: 0.6433 - val_accuracy: 1.0000\n",
      "Epoch 5/10\n",
      "75/75 [==============================] - 0s 6ms/step - loss: 0.6814 - accuracy: 0.9140 - val_loss: 0.8503 - val_accuracy: 0.6882\n",
      "Epoch 6/10\n",
      "75/75 [==============================] - 1s 7ms/step - loss: 0.6061 - accuracy: 0.9469 - val_loss: 0.5094 - val_accuracy: 1.0000\n",
      "Epoch 7/10\n",
      "75/75 [==============================] - 0s 6ms/step - loss: 0.5516 - accuracy: 0.9617 - val_loss: 0.4688 - val_accuracy: 1.0000\n",
      "Epoch 8/10\n",
      "75/75 [==============================] - 1s 7ms/step - loss: 0.5000 - accuracy: 0.9650 - val_loss: 0.5069 - val_accuracy: 0.9924\n",
      "Epoch 9/10\n",
      "75/75 [==============================] - 1s 8ms/step - loss: 0.4257 - accuracy: 0.9996 - val_loss: 0.4033 - val_accuracy: 1.0000\n",
      "Epoch 10/10\n",
      "75/75 [==============================] - 1s 7ms/step - loss: 0.5493 - accuracy: 0.9178 - val_loss: 0.4042 - val_accuracy: 1.0000\n"
     ]
    },
    {
     "name": "stderr",
     "output_type": "stream",
     "text": [
      "C:\\Users\\charm\\anaconda3\\lib\\site-packages\\pandas\\core\\indexing.py:1835: SettingWithCopyWarning: \n",
      "A value is trying to be set on a copy of a slice from a DataFrame.\n",
      "Try using .loc[row_indexer,col_indexer] = value instead\n",
      "\n",
      "See the caveats in the documentation: https://pandas.pydata.org/pandas-docs/stable/user_guide/indexing.html#returning-a-view-versus-a-copy\n",
      "  self._setitem_single_column(loc, value[:, i].tolist(), pi)\n"
     ]
    },
    {
     "name": "stdout",
     "output_type": "stream",
     "text": [
      "142/142 [==============================] - 1s 3ms/step\n",
      "142/142 [==============================] - 0s 3ms/step\n",
      "Epoch 1/10\n",
      "75/75 [==============================] - 3s 10ms/step - loss: 19.1194 - accuracy: 0.9718 - val_loss: 13.0277 - val_accuracy: 1.0000\n",
      "Epoch 2/10\n",
      "75/75 [==============================] - 0s 7ms/step - loss: 8.7393 - accuracy: 0.9768 - val_loss: 5.1272 - val_accuracy: 0.8935\n",
      "Epoch 3/10\n",
      "75/75 [==============================] - 0s 6ms/step - loss: 2.7211 - accuracy: 0.9819 - val_loss: 1.1647 - val_accuracy: 1.0000\n",
      "Epoch 4/10\n",
      "75/75 [==============================] - 1s 7ms/step - loss: 0.7936 - accuracy: 0.9764 - val_loss: 0.6379 - val_accuracy: 1.0000\n",
      "Epoch 5/10\n",
      "75/75 [==============================] - 1s 9ms/step - loss: 0.7047 - accuracy: 0.8968 - val_loss: 0.9063 - val_accuracy: 0.5095\n",
      "Epoch 6/10\n",
      "75/75 [==============================] - 1s 8ms/step - loss: 0.7037 - accuracy: 0.8508 - val_loss: 0.5361 - val_accuracy: 1.0000\n",
      "Epoch 7/10\n",
      "75/75 [==============================] - 1s 7ms/step - loss: 0.5921 - accuracy: 0.9212 - val_loss: 0.8659 - val_accuracy: 0.5019\n",
      "Epoch 8/10\n",
      "75/75 [==============================] - 1s 7ms/step - loss: 0.5742 - accuracy: 0.9275 - val_loss: 0.4524 - val_accuracy: 1.0000\n",
      "Epoch 9/10\n",
      "75/75 [==============================] - 1s 7ms/step - loss: 0.4277 - accuracy: 1.0000 - val_loss: 0.4064 - val_accuracy: 1.0000\n",
      "Epoch 10/10\n",
      "75/75 [==============================] - 1s 7ms/step - loss: 0.5980 - accuracy: 0.8736 - val_loss: 0.4010 - val_accuracy: 1.0000\n"
     ]
    },
    {
     "name": "stderr",
     "output_type": "stream",
     "text": [
      "C:\\Users\\charm\\anaconda3\\lib\\site-packages\\pandas\\core\\indexing.py:1835: SettingWithCopyWarning: \n",
      "A value is trying to be set on a copy of a slice from a DataFrame.\n",
      "Try using .loc[row_indexer,col_indexer] = value instead\n",
      "\n",
      "See the caveats in the documentation: https://pandas.pydata.org/pandas-docs/stable/user_guide/indexing.html#returning-a-view-versus-a-copy\n",
      "  self._setitem_single_column(loc, value[:, i].tolist(), pi)\n"
     ]
    },
    {
     "name": "stdout",
     "output_type": "stream",
     "text": [
      "142/142 [==============================] - 1s 3ms/step\n",
      "142/142 [==============================] - 0s 3ms/step\n",
      "Epoch 1/10\n",
      "75/75 [==============================] - 3s 16ms/step - loss: 18.1973 - accuracy: 0.9802 - val_loss: 12.1857 - val_accuracy: 1.0000\n",
      "Epoch 2/10\n",
      "75/75 [==============================] - 1s 7ms/step - loss: 8.0687 - accuracy: 0.9536 - val_loss: 4.4006 - val_accuracy: 1.0000\n",
      "Epoch 3/10\n",
      "75/75 [==============================] - 1s 7ms/step - loss: 2.4471 - accuracy: 0.9625 - val_loss: 1.0456 - val_accuracy: 1.0000\n",
      "Epoch 4/10\n",
      "75/75 [==============================] - 1s 7ms/step - loss: 0.7608 - accuracy: 0.9743 - val_loss: 0.6344 - val_accuracy: 1.0000\n",
      "Epoch 5/10\n",
      "75/75 [==============================] - 1s 7ms/step - loss: 0.6275 - accuracy: 0.9646 - val_loss: 1.1468 - val_accuracy: 0.5247\n",
      "Epoch 6/10\n",
      "75/75 [==============================] - 0s 6ms/step - loss: 0.6801 - accuracy: 0.8769 - val_loss: 0.9458 - val_accuracy: 0.5171\n",
      "Epoch 7/10\n",
      "75/75 [==============================] - 1s 7ms/step - loss: 0.6672 - accuracy: 0.8319 - val_loss: 0.4866 - val_accuracy: 1.0000\n",
      "Epoch 8/10\n",
      "75/75 [==============================] - 1s 7ms/step - loss: 0.4619 - accuracy: 1.0000 - val_loss: 0.4412 - val_accuracy: 1.0000\n",
      "Epoch 9/10\n",
      "75/75 [==============================] - 0s 5ms/step - loss: 0.7133 - accuracy: 0.8116 - val_loss: 0.5317 - val_accuracy: 1.0000\n",
      "Epoch 10/10\n",
      "75/75 [==============================] - 1s 7ms/step - loss: 0.4352 - accuracy: 1.0000 - val_loss: 0.4116 - val_accuracy: 1.0000\n"
     ]
    },
    {
     "name": "stderr",
     "output_type": "stream",
     "text": [
      "C:\\Users\\charm\\anaconda3\\lib\\site-packages\\pandas\\core\\indexing.py:1835: SettingWithCopyWarning: \n",
      "A value is trying to be set on a copy of a slice from a DataFrame.\n",
      "Try using .loc[row_indexer,col_indexer] = value instead\n",
      "\n",
      "See the caveats in the documentation: https://pandas.pydata.org/pandas-docs/stable/user_guide/indexing.html#returning-a-view-versus-a-copy\n",
      "  self._setitem_single_column(loc, value[:, i].tolist(), pi)\n"
     ]
    },
    {
     "name": "stdout",
     "output_type": "stream",
     "text": [
      "142/142 [==============================] - 1s 3ms/step\n",
      "142/142 [==============================] - 1s 3ms/step\n",
      "Epoch 1/10\n",
      "75/75 [==============================] - 3s 11ms/step - loss: 18.7019 - accuracy: 0.9756 - val_loss: 12.5887 - val_accuracy: 1.0000\n",
      "Epoch 2/10\n",
      "75/75 [==============================] - 1s 7ms/step - loss: 8.3255 - accuracy: 0.9882 - val_loss: 4.5672 - val_accuracy: 1.0000\n",
      "Epoch 3/10\n",
      "75/75 [==============================] - 0s 6ms/step - loss: 2.5198 - accuracy: 0.9726 - val_loss: 1.0773 - val_accuracy: 1.0000\n",
      "Epoch 4/10\n",
      "75/75 [==============================] - 1s 7ms/step - loss: 0.7659 - accuracy: 0.9663 - val_loss: 1.0754 - val_accuracy: 0.6236\n",
      "Epoch 5/10\n",
      "75/75 [==============================] - 0s 7ms/step - loss: 0.8447 - accuracy: 0.7122 - val_loss: 0.7645 - val_accuracy: 0.8403\n",
      "Epoch 6/10\n",
      "75/75 [==============================] - 0s 7ms/step - loss: 0.7934 - accuracy: 0.6599 - val_loss: 0.7543 - val_accuracy: 0.9316\n",
      "Epoch 7/10\n",
      "75/75 [==============================] - 1s 7ms/step - loss: 0.5817 - accuracy: 0.9600 - val_loss: 0.4892 - val_accuracy: 1.0000\n",
      "Epoch 8/10\n",
      "75/75 [==============================] - 0s 6ms/step - loss: 0.4981 - accuracy: 0.9722 - val_loss: 1.0694 - val_accuracy: 0.4981\n",
      "Epoch 9/10\n",
      "75/75 [==============================] - 1s 7ms/step - loss: 0.8071 - accuracy: 0.5141 - val_loss: 0.8355 - val_accuracy: 0.4981\n",
      "Epoch 10/10\n",
      "75/75 [==============================] - 0s 7ms/step - loss: 0.7692 - accuracy: 0.4989 - val_loss: 0.7628 - val_accuracy: 0.5019\n"
     ]
    },
    {
     "name": "stderr",
     "output_type": "stream",
     "text": [
      "C:\\Users\\charm\\anaconda3\\lib\\site-packages\\pandas\\core\\indexing.py:1835: SettingWithCopyWarning: \n",
      "A value is trying to be set on a copy of a slice from a DataFrame.\n",
      "Try using .loc[row_indexer,col_indexer] = value instead\n",
      "\n",
      "See the caveats in the documentation: https://pandas.pydata.org/pandas-docs/stable/user_guide/indexing.html#returning-a-view-versus-a-copy\n",
      "  self._setitem_single_column(loc, value[:, i].tolist(), pi)\n"
     ]
    },
    {
     "name": "stdout",
     "output_type": "stream",
     "text": [
      "142/142 [==============================] - 1s 3ms/step\n",
      "142/142 [==============================] - 0s 3ms/step\n",
      "Average Test Accuracy: 0.9999557717823973\n",
      "Average Test Precision: 0.9999557918952746\n",
      "Average Test Recall: 0.9999557717823973\n",
      "Average Test F1 Score: 0.9999555998988896\n"
     ]
    },
    {
     "data": {
      "image/png": "[encoded data removed]",
      "text/plain": [
       "<Figure size 576x432 with 1 Axes>"
      ]
     },
     "metadata": {
      "needs_background": "light"
     },
     "output_type": "display_data"
    },
    {
     "name": "stdout",
     "output_type": "stream",
     "text": [
      "Average Test AUC: 1.0\n"
     ]
    },
    {
     "data": {
      "image/png": "[encoded data removed]",
      "text/plain": [
       "<Figure size 576x432 with 1 Axes>"
      ]
     },
     "metadata": {
      "needs_background": "light"
     },
     "output_type": "display_data"
    }
   ],
   "source": [
    "# Set the seed value\n",
    "np.random.seed(42)\n",
    "\n",
    "# Separate test races\n",
    "test_races = shuffled_data['race_id'].unique()[:10]  # 10 test races\n",
    "excluded_races = test_races.tolist()\n",
    "\n",
    "# Exclude test races from the dataset\n",
    "train_data = shuffled_data[~shuffled_data['race_id'].isin(test_races)]\n",
    "test_data = shuffled_data[shuffled_data['race_id'].isin(test_races)]\n",
    "\n",
    "# Separate input features (X) and target variable (y) for the training set\n",
    "X_train = train_data[['race_progress', 'tyreageprogress', 'is_leader', 'relativecompound', 'racetrackcat', 'fcystatus', 'remaining_pit_stops', 'pursuer_tyre_change', 'close_ahead']]\n",
    "y_train = train_data['pitstop']\n",
    "\n",
    "# Separate categorical and numerical features\n",
    "cat_features = ['is_leader', 'relativecompound', 'racetrackcat', 'fcystatus', 'remaining_pit_stops', 'pursuer_tyre_change', 'close_ahead']\n",
    "num_features = ['race_progress', 'tyreageprogress']\n",
    "\n",
    "# Perform preprocessing on numerical features\n",
    "scaler = StandardScaler()\n",
    "X_train.loc[:, num_features] = scaler.fit_transform(X_train[num_features])\n",
    "\n",
    "# Perform preprocessing on categorical features\n",
    "encoder = OneHotEncoder(sparse_output=False, handle_unknown='ignore')\n",
    "X_train_encoded = encoder.fit_transform(X_train[cat_features])\n",
    "\n",
    "# Combine preprocessed numerical and categorical features\n",
    "X_train_processed = np.concatenate((X_train_encoded, X_train[num_features].values), axis=1)\n",
    "\n",
    "# Create an instance of LabelEncoder\n",
    "label_encoder = LabelEncoder()\n",
    "\n",
    "# Encode the categorical labels into integer values\n",
    "y_train_encoded = label_encoder.fit_transform(y_train)\n",
    "\n",
    "# Perform undersampling on the training data\n",
    "rus = RandomUnderSampler(random_state=42)\n",
    "X_train_processed_undersampled, y_train_encoded_undersampled = rus.fit_resample(X_train_processed, y_train_encoded)\n",
    "\n",
    "# Define the number of folds for cross-validation\n",
    "n_folds = 10\n",
    "\n",
    "# Initialize StratifiedKFold with the desired number of folds\n",
    "stratified_kfold = StratifiedKFold(n_splits=n_folds, shuffle=True, random_state=42)\n",
    "\n",
    "# Initialize lists to store evaluation results\n",
    "test_accuracy_scores = []\n",
    "test_precision_scores = []\n",
    "test_recall_scores = []\n",
    "test_f1_scores = []\n",
    "\n",
    "precision_per_fold = []\n",
    "recall_per_fold = []\n",
    "auc_scores = []\n",
    "roc_curves = []\n",
    "\n",
    "\n",
    "# Iterate over the folds\n",
    "for train_index, val_index in stratified_kfold.split(X_train_processed_undersampled, y_train_encoded_undersampled):\n",
    "    # Get the training and validation subsets for the current fold\n",
    "    X_train_fold = X_train_processed_undersampled[train_index]\n",
    "    y_train_fold = y_train_encoded_undersampled[train_index]\n",
    "\n",
    "    X_val_fold = X_train_processed_undersampled[val_index]\n",
    "    y_val_fold = y_train_encoded_undersampled[val_index]\n",
    "\n",
    "    # Reshape the input data \n",
    "    X_train_reshaped = X_train_fold.reshape(X_train_fold.shape[0], X_train_fold.shape[1], 1)\n",
    "    X_val_reshaped = X_val_fold.reshape(X_val_fold.shape[0], X_val_fold.shape[1], 1)\n",
    "\n",
    "    early_stopping = EarlyStopping(patience=3, restore_best_weights=True)\n",
    "\n",
    "    rnn_model = Sequential()\n",
    "    rnn_model.add(SimpleRNN(64, input_shape=(X_train_reshaped.shape[1], X_train_reshaped.shape[2]),\n",
    "                           kernel_regularizer=regularizers.l1_l2(l1=0.09, l2=0.01)))  # L1 and L2 regularization\n",
    "    rnn_model.add(Dense(32, activation='relu', kernel_regularizer=regularizers.l1_l2(l1=0.09, l2=0.01)))  # L1 and L2 regularization\n",
    "    rnn_model.add(Dense(1, activation='sigmoid'))\n",
    "\n",
    "    # Compile the model\n",
    "    rnn_model.compile(optimizer='nadam', loss='binary_crossentropy', metrics=['accuracy'])\n",
    "\n",
    "    # Train the model\n",
    "    rnn_model.fit(X_train_reshaped, y_train_fold, validation_data=(X_val_reshaped, y_val_fold),\n",
    "                  batch_size=32,\n",
    "                  epochs=10,\n",
    "                  callbacks=[early_stopping])\n",
    "\n",
    "\n",
    "    # Perform preprocessing on the test set using the same transformations\n",
    "    X_test = test_data[['race_progress', 'tyreageprogress', 'is_leader', 'relativecompound', 'racetrackcat', 'fcystatus', 'remaining_pit_stops', 'pursuer_tyre_change', 'close_ahead']]\n",
    "    y_test = test_data['pitstop']\n",
    "    X_test.loc[:, num_features] = scaler.transform(X_test[num_features])\n",
    "    X_test_encoded = encoder.transform(X_test[cat_features])\n",
    "    X_test_processed = np.concatenate((X_test_encoded, X_test[num_features].values), axis=1)\n",
    "    X_test_reshaped = X_test_processed.reshape(X_test_processed.shape[0], X_test_processed.shape[1], 1)\n",
    "\n",
    "    # Evaluate the model on the test set and calculate F1 score\n",
    "    y_test_pred = np.round(rnn_model.predict(X_test_reshaped)).astype(int)\n",
    "\n",
    "    # Calculate evaluation metrics for the test data\n",
    "    test_accuracy = accuracy_score(y_test, y_test_pred)\n",
    "    test_precision = precision_score(y_test, y_test_pred, average='weighted', zero_division=0)\n",
    "    test_recall = recall_score(y_test, y_test_pred, average='weighted')\n",
    "    test_f1 = f1_score(y_test, y_test_pred, average='weighted')\n",
    "\n",
    "    # Store evaluation metrics for the test data\n",
    "    test_accuracy_scores.append(test_accuracy)\n",
    "    test_precision_scores.append(test_precision)\n",
    "    test_recall_scores.append(test_recall)\n",
    "    test_f1_scores.append(test_f1)\n",
    "    \n",
    "    # Evaluate the model on the test set and calculate probabilities\n",
    "    y_test_prob = rnn_model.predict(X_test_reshaped)\n",
    "\n",
    "    # Calculate precision and recall values for the fold\n",
    "    precision, recall, _ = precision_recall_curve(y_test, y_test_prob)\n",
    "    precision_per_fold.append(precision)\n",
    "    recall_per_fold.append(recall)\n",
    "\n",
    "    # Calculate AUC for the test data\n",
    "    test_auc = roc_auc_score(y_test, y_test_prob)\n",
    "    auc_scores.append(test_auc)\n",
    "\n",
    "    # Calculate ROC curve for the fold\n",
    "    fpr, tpr, _ = roc_curve(y_test, y_test_prob)\n",
    "    roc_curves.append((fpr, tpr))\n",
    "\n",
    "# Calculate and print the average evaluation metrics for the test data\n",
    "print('Average Test Accuracy:', np.mean(test_accuracy_scores))\n",
    "print('Average Test Precision:', np.mean(test_precision_scores))\n",
    "print('Average Test Recall:', np.mean(test_recall_scores))\n",
    "print('Average Test F1 Score:', np.mean(test_f1_scores))\n",
    "\n",
    "# Plot Precision-Recall curves for each fold\n",
    "plt.figure(figsize=(8, 6))\n",
    "for i in range(n_folds):\n",
    "    plt.plot(recall_per_fold[i], precision_per_fold[i], lw=2, label=f'Fold {i+1}')\n",
    "plt.xlabel('Recall')\n",
    "plt.ylabel('Precision')\n",
    "plt.title('Precision-Recall Curve of RNN - Pit Stop Decision')\n",
    "plt.legend(title='Folds', loc='lower left')\n",
    "plt.grid(True)\n",
    "plt.show()\n",
    "\n",
    "# Calculate and print the average AUC score for the test data\n",
    "print('Average Test AUC:', np.mean(auc_scores))\n",
    "\n",
    "# Plot ROC curves for each fold\n",
    "plt.figure(figsize=(8, 6))\n",
    "for i in range(n_folds):\n",
    "    fpr, tpr = roc_curves[i]\n",
    "    plt.plot(fpr, tpr, lw=2, label=f'Fold {i+1}')\n",
    "plt.plot([0, 1], [0, 1], color='black', lw=1, linestyle='--')\n",
    "plt.xlabel('False Positive Rate')\n",
    "plt.ylabel('True Positive Rate')\n",
    "plt.title('Receiver Operating Characteristic (ROC) Curve')\n",
    "plt.legend(title='Folds', loc='lower right')\n",
    "plt.grid(True)\n",
    "plt.show()"
   ]
  },
  {
   "cell_type": "code",
   "execution_count": null,
   "id": "00a3473a",
   "metadata": {},
   "outputs": [],
   "source": []
  }
 ],
 "metadata": {
  "kernelspec": {
   "display_name": "Python 3 (ipykernel)",
   "language": "python",
   "name": "python3"
  },
  "language_info": {
   "codemirror_mode": {
    "name": "ipython",
    "version": 3
   },
   "file_extension": ".py",
   "mimetype": "text/x-python",
   "name": "python",
   "nbconvert_exporter": "python",
   "pygments_lexer": "ipython3",
   "version": "3.9.7"
  }
 },
 "nbformat": 4,
 "nbformat_minor": 5
}
