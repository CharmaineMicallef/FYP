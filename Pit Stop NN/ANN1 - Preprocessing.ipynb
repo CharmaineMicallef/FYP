{
 "cells": [
  {
   "cell_type": "code",
   "execution_count": null,
   "id": "86801ca0",
   "metadata": {},
   "outputs": [],
   "source": [
    "# IMPORTS\n",
    "import pandas as pd\n",
    "import numpy as np"
   ]
  },
  {
   "cell_type": "markdown",
   "id": "9e39e8c4",
   "metadata": {},
   "source": [
    "## READING SEPARATE CSV FILES"
   ]
  },
  {
   "cell_type": "code",
   "execution_count": null,
   "id": "75c5d1e0",
   "metadata": {},
   "outputs": [],
   "source": [
    "laps_df = pd.read_csv('laps.csv', encoding='utf-16')\n",
    "fcyphases_df = pd.read_csv('fcyphases.csv', encoding='utf-16')\n",
    "races_df = pd.read_csv('races.csv', encoding='utf-16')\n",
    "drivers_df = pd.read_csv('drivers.csv', encoding='utf-16')\n",
    "starterfields_df = pd.read_csv('starterfields.csv', encoding='utf-16')"
   ]
  },
  {
   "cell_type": "markdown",
   "id": "7a8dfeaa",
   "metadata": {},
   "source": [
    "## MERGING DRIVERS AND RACES TABLES TOGETHER"
   ]
  },
  {
   "cell_type": "code",
   "execution_count": null,
   "id": "57573a37",
   "metadata": {},
   "outputs": [],
   "source": [
    "# LAPS -> race_id + driver_id\n",
    "# DRIVERS -> id(driver_id)\n",
    "# RACES -> id(race_id)\n",
    "\n",
    "# # Merge the dataframes based on common columns\n",
    "# merged_df = pd.merge(laps_df, drivers_df, left_on='driver_id', right_on='id')\n",
    "# merged_df = pd.merge(merged_df, races_df, left_on='race_id', right_on='id')\n",
    "# merged_df = merged_df.drop(['id_y'], axis=1)\n",
    "# # Print the merged dataframe\n",
    "# merged_df\n",
    "\n",
    "# Save the DataFrame as a CSV file\n",
    "#merged_df.to_csv('main.csv', index=False)"
   ]
  },
  {
   "cell_type": "markdown",
   "id": "3ecab703",
   "metadata": {},
   "source": [
    "## NOW I HAVE MY MAIN DF -> MAIN.CSV"
   ]
  },
  {
   "cell_type": "code",
   "execution_count": null,
   "id": "9ffe81cb",
   "metadata": {},
   "outputs": [],
   "source": [
    "main_df = pd.read_csv('main.csv', encoding='utf-8')\n",
    "dtypes = {\"id\": float, \n",
    "          \"carno\": float, \n",
    "          \"initials\": object, \n",
    "          \"name\": object,\n",
    "           \"race_id\": float,\n",
    "         \"driver_id\": float,\n",
    "         \"team\": object,\n",
    "         \"teamcolor\": object ,\n",
    "         \"enginemanufacturer\": object,\n",
    "          \"gridposition\": float,\n",
    "          \"status\": object,\n",
    "          \"resultposition\": float,\n",
    "          \"completedlaps\": float,\n",
    "          \"speedtrap\": float,\n",
    "          \"date\": object,\n",
    "          \"season\": object,\n",
    "          \"location\": str,\n",
    "          \"availablecompounds\": object,\n",
    "          \"comment\" : object,\n",
    "          \"nolaps\": float,\n",
    "          \"nolapsplanned\": float,\n",
    "          \"tracklength\": float,\n",
    "          \"position\": float,\n",
    "          \"q1laptime\": float,\n",
    "          \"q2laptime\": float,\n",
    "          \"q3laptime\": float,\n",
    "          \"lapno\": float,\n",
    "          \"laptime\": float,\n",
    "          \"racetime\": float,\n",
    "          \"gap\": float,\n",
    "          \"interval\": float,\n",
    "          \"compound\": object,\n",
    "          \"pitintime\": object,\n",
    "          \"pitstopduration\": object,\n",
    "          \"nextcompound\": object,\n",
    "          \"startlapprog_vsc\" : float ,\n",
    "          \"endlapprog_vsc\": float,\n",
    "          \"age_vsc\": float,\n",
    "          \"startlapprog_sc\": float,\n",
    "          \"endlapprog_sc\": float,\n",
    "          \"age_sc\": float,\n",
    "          \"accidents\": float,\n",
    "          \"failures\": float,\n",
    "          \"startracetime\": float,\n",
    "          \"endracetime\": float,\n",
    "          \"startraceprog\": float,\n",
    "          \"endraceprog\": float,\n",
    "          \"startlap\": float,\n",
    "          \"endlap\": float,\n",
    "          \"type\": object \n",
    "          \n",
    "         }\n",
    "main_df.rename(columns={'id_x': 'id'}, inplace=True)"
   ]
  },
  {
   "cell_type": "code",
   "execution_count": null,
   "id": "b149afed",
   "metadata": {},
   "outputs": [],
   "source": [
    "#main_df"
   ]
  },
  {
   "cell_type": "code",
   "execution_count": null,
   "id": "8b9148b0",
   "metadata": {},
   "outputs": [],
   "source": [
    "# DROPPING COMMENT SINCE IT IS IRRELEVANT\n",
    "main_df = main_df.drop(['comment'], axis=1)"
   ]
  },
  {
   "cell_type": "code",
   "execution_count": null,
   "id": "b160664a",
   "metadata": {},
   "outputs": [],
   "source": [
    "main_df.info()"
   ]
  },
  {
   "cell_type": "markdown",
   "id": "64c3687b",
   "metadata": {},
   "source": [
    "# Feature Engineering"
   ]
  },
  {
   "cell_type": "code",
   "execution_count": null,
   "id": "02278353",
   "metadata": {},
   "outputs": [],
   "source": [
    "# OUTPUT FEATURE - PIT (1) / NO PIT (0)\n",
    "main_df['pitstop'] = main_df['pitintime'].apply(lambda x: 0 if pd.isnull(x) or x == 0 else 1)"
   ]
  },
  {
   "cell_type": "code",
   "execution_count": null,
   "id": "2e0e0892",
   "metadata": {},
   "outputs": [],
   "source": [
    "counts = main_df['pitstop'].value_counts()\n",
    "print(counts)"
   ]
  },
  {
   "cell_type": "code",
   "execution_count": null,
   "id": "fe187074",
   "metadata": {},
   "outputs": [],
   "source": [
    " def race_progress(main_df):\n",
    "        \n",
    "    r_id = main_df.race_id.unique()\n",
    "    d_id = main_df.driver_id.unique()\n",
    "    \n",
    "    # create new df\n",
    "    new_df = pd.DataFrame()\n",
    "\n",
    "    for r in r_id:\n",
    "        \n",
    "        # rows of the same race\n",
    "        x = main_df[main_df['race_id'] == r]\n",
    "        \n",
    "        for d in d_id:\n",
    "            # rows of the same race and driver\n",
    "            y = x[x['driver_id'] == d]\n",
    "            \n",
    "            if not y.empty:\n",
    "                max_value = max(y['racetime'])\n",
    "                y['race_progress'] = y['racetime'] / max_value\n",
    "            \n",
    "                new_df = pd.concat([new_df, y])\n",
    "    \n",
    "    return new_df\n",
    "\n",
    "main_df = race_progress(main_df)"
   ]
  },
  {
   "cell_type": "code",
   "execution_count": null,
   "id": "b5c8822d",
   "metadata": {
    "scrolled": true
   },
   "outputs": [],
   "source": [
    "def calculate_tyreageprogress(row):\n",
    "    race_id = row['race_id']\n",
    "    lapno = row['lapno']\n",
    "    nextcompound = row['nextcompound']\n",
    "    \n",
    "    vsc_phases = fcyphases_df[(fcyphases_df['race_id'] == race_id) & (fcyphases_df['type'] == 'VSC')]\n",
    "    sc_phases = fcyphases_df[(fcyphases_df['race_id'] == race_id) & (fcyphases_df['type'] == 'SC')]\n",
    "    \n",
    "    previous_lapno = lapno - 1\n",
    "    previous_lap_data = main_df[(main_df['race_id'] == race_id) & (main_df['lapno'] == previous_lapno)]\n",
    "    \n",
    "    if previous_lap_data.empty:\n",
    "        return np.nan\n",
    "    \n",
    "    previous_lap_data['tyreageprogress'] = np.nan  # Create 'tyreageprogress' column\n",
    "    \n",
    "    total_age = previous_lap_data.at[previous_lap_data.index[0], 'tireage'] + (previous_lapno - previous_lap_data.at[previous_lap_data.index[0], 'lapno'])\n",
    "    tyre_age_progress = previous_lap_data.at[previous_lap_data.index[0], 'tireage'] / total_age\n",
    "    \n",
    "    if not vsc_phases.empty:\n",
    "        tyre_age_progress *= 1.5\n",
    "    if not sc_phases.empty:\n",
    "        tyre_age_progress *= 1.75\n",
    "    \n",
    "    tyre_age_progress = np.clip(tyre_age_progress, 0.0, 1.0)\n",
    "    \n",
    "    if nextcompound is not None:\n",
    "        previous_tyre_age = previous_lap_data.at[previous_lap_data.index[0], 'tyreageprogress']\n",
    "        if nextcompound == 'hard':\n",
    "            tyre_age_progress[nextcompound] = 0.388 * previous_tyre_age\n",
    "        elif nextcompound == 'medium':\n",
    "            tyre_age_progress[nextcompound] = 0.341 * previous_tyre_age\n",
    "        elif nextcompound == 'soft':\n",
    "            tyre_age_progress[nextcompound] = 0.295 * previous_tyre_age\n",
    "    \n",
    "    race_nolaps = main_df.loc[main_df['race_id'] == race_id, 'nolaps'].iloc[0]\n",
    "    tyre_age_progress /= race_nolaps\n",
    "    \n",
    "    return tyre_age_progress\n",
    "\n",
    "main_df['tyreageprogress'] = main_df.apply(calculate_tyreageprogress, axis=1)\n"
   ]
  },
  {
   "cell_type": "code",
   "execution_count": null,
   "id": "d74301ca",
   "metadata": {},
   "outputs": [],
   "source": [
    "# Position Feature\n",
    "\n",
    "# output: leader + pursuer\n",
    "main_df['is_leader'] = np.where(main_df['position'] == 1, 'leader', 'pursuer')"
   ]
  },
  {
   "cell_type": "code",
   "execution_count": null,
   "id": "de94986a",
   "metadata": {},
   "outputs": [],
   "source": [
    "# Relative Compound Feature\n",
    "\n",
    "# Define a dictionary to map compound codes to tire types\n",
    "compound_dict = {\"A1\": \"hard\", \"A2\": \"hard\", \"A3\": \"medium\", \"A4\": \"soft\", \"A5\": \"soft\", \"A6\": \"soft\", \"A7\": \"soft\"}\n",
    "\n",
    "# Use the map method to apply the dictionary to the compound column\n",
    "main_df['relativecompound'] = main_df['compound'].map(compound_dict)"
   ]
  },
  {
   "cell_type": "code",
   "execution_count": null,
   "id": "8b77a7da",
   "metadata": {},
   "outputs": [],
   "source": [
    "main_df"
   ]
  },
  {
   "cell_type": "code",
   "execution_count": null,
   "id": "2b1b77e2",
   "metadata": {},
   "outputs": [],
   "source": [
    "# Race Track Category Feature\n",
    "\n",
    "# defining a dict that maps each location to its corresponding track category number\n",
    "location_dict = {\"Austin\" : 2,\n",
    "                 \"Baku\": 2,\n",
    "                 \"Budapest\": 2,\n",
    "                 \"Catalunya\": 1,\n",
    "                 \"Hockenheim\": 2,\n",
    "                 \"KualaLumpur\": 2,\n",
    "                 \"LeCastellet\": 2,\n",
    "                 \"Melbourne\": 2,\n",
    "                 \"MexicoCity\": 2,\n",
    "                 \"MonteCarlo\": 2,\n",
    "                 \"Montreal\": 3,\n",
    "                 \"Monza\": 2,\n",
    "                 \"Sakhir\": 1,\n",
    "                 \"SaoPaulo\": 1,\n",
    "                 \"Shanghai\": 2,\n",
    "                 \"Silverstone\": 1,\n",
    "                 \"Singapore\": 3,\n",
    "                 \"Sochi\": 2,\n",
    "                 \"Spa\": 1,\n",
    "                 \"Spielberg\": 2,\n",
    "                 \"Suzuka\": 1,\n",
    "                 \"YasMarina\": 3\n",
    "    \n",
    "}\n",
    "\n",
    "# creating a new column in the df to store the track category number\n",
    "main_df['racetrackcat'] = None\n",
    "\n",
    "# applying the location to the \"location\" column and filling the values in the new \"racetrackcat\" column\n",
    "main_df ['racetrackcat'] = main_df['location'].map(location_dict)\n",
    "#df.racetrackcat"
   ]
  },
  {
   "cell_type": "code",
   "execution_count": null,
   "id": "1a53c891",
   "metadata": {},
   "outputs": [],
   "source": [
    "counts = main_df['racetrackcat'].value_counts()\n",
    "print(counts)"
   ]
  },
  {
   "cell_type": "code",
   "execution_count": null,
   "id": "ca0c5fc5",
   "metadata": {},
   "outputs": [],
   "source": [
    "# FCY Status Feature\n",
    "\n",
    "# creating a new column in the df to store the FCY status\n",
    "main_df['fcystatus'] = 0\n",
    "\n",
    "def fcystatus(race_id, lapno):\n",
    "    a = fcyphases_df[fcyphases_df['race_id'] == race_id]\n",
    "    \n",
    "    for index, row in a.iterrows():\n",
    "        if row['startlap'] < lapno < row['endlap']:\n",
    "            # Check if no FCY phase is active\n",
    "            if row['startlap'] is None or row['endlap'] is None or row['startraceprog'] is None or row['endraceprog'] is None:\n",
    "                return 0\n",
    "            # Check if VSC phase is active\n",
    "            elif row['startlap'] in main_df.columns and row['endlap'] in main_df.columns and row['startlapprog_vsc'] in main_df.columns and row['endlapprog_vsc'] in main_df.columns and main_df.loc[row['startlap']] == main_df.loc[row['endlap']] and main_df.loc[row['startlapprog_vsc']] is not None and main_df.loc[row['endlapprog_vsc']] is not None:\n",
    "                # Check if first lap of VSC phase\n",
    "                if row['startlap'] == row['endlap']:\n",
    "                    return 1\n",
    "                # Otherwise, further laps of VSC phase\n",
    "                else:\n",
    "                    return 2\n",
    "            # Check if SC phase is active\n",
    "            elif row['startlap'] in main_df.columns and row['endlap'] in main_df.columns and row['startlapprog_sc'] in main_df.columns and row['endlapprog_sc'] in main_df.columns and main_df.loc[row['startlap']] == main_df.loc[row['endlap']] and main_df.loc[row['startlapprog_sc']] is not None and main_df.loc[row['endlapprog_sc']] is not None:\n",
    "                # Check if first lap of SC phase\n",
    "                if row['startlap'] == row['endlap']:\n",
    "                    return 3\n",
    "                # Otherwise, further laps of SC phase\n",
    "                else:\n",
    "                    return 4\n",
    "    \n",
    "    return 0\n",
    "\n",
    "main_df['fcystatus'] = main_df.apply(lambda row: fcystatus(row['race_id'], row['lapno']), axis=1)"
   ]
  },
  {
   "cell_type": "code",
   "execution_count": null,
   "id": "c297c969",
   "metadata": {},
   "outputs": [],
   "source": [
    "main_df"
   ]
  },
  {
   "cell_type": "code",
   "execution_count": null,
   "id": "89b2f9ad",
   "metadata": {},
   "outputs": [],
   "source": [
    "main_df['remaining_pit_stops'] = 3\n",
    "\n",
    "for index, row in main_df.iterrows():\n",
    "    if pd.notnull(row['pitintime']):\n",
    "        driver_id = row['id']\n",
    "        remaining_pit_stops = main_df.loc[(main_df['id'] == driver_id) & (main_df['lapno'] > row['lapno']), 'remaining_pit_stops'].max()\n",
    "        main_df.loc[index, 'remaining_pit_stops'] = max(remaining_pit_stops - 1, 0)"
   ]
  },
  {
   "cell_type": "code",
   "execution_count": null,
   "id": "fcf3eacd",
   "metadata": {},
   "outputs": [],
   "source": [
    "main_df"
   ]
  },
  {
   "cell_type": "code",
   "execution_count": null,
   "id": "667d100e",
   "metadata": {},
   "outputs": [],
   "source": [
    "# Tyre Change of Pursuer Feature\n",
    "\n",
    "# Sort the data frame by driver ID and lap number\n",
    "main_df = main_df.sort_values(by=['id', 'lapno'])\n",
    "\n",
    "# Add a new column 'pursuer_compound'\n",
    "pursuer_compound = main_df.groupby('id')['compound'].shift()\n",
    "\n",
    "# Add a new column 'pursuer_tireage'\n",
    "pursuer_tyreage = main_df.groupby('id')['tireage'].shift()\n",
    "\n",
    "# Add a new column 'pursuer_pitstop'\n",
    "pursuer_pitstop = main_df.groupby('id')['pitstop'].shift().astype(float)\n",
    "\n",
    "# Add a new column 'pursuer_position'\n",
    "pursuer_position = main_df.groupby('id')['position'].shift()\n",
    "\n",
    "# Add a new column 'pursuer_tire_change'\n",
    "main_df['pursuer_tyre_change'] = ((pursuer_pitstop != 1) &\n",
    "                             (pursuer_compound != main_df['compound']) &\n",
    "                             (pursuer_tyreage >= 2) &\n",
    "                             (pursuer_position != main_df['position'])).astype(float)"
   ]
  },
  {
   "cell_type": "code",
   "execution_count": null,
   "id": "8f4e020b",
   "metadata": {},
   "outputs": [],
   "source": [
    "# Close Ahead Feature - 1 is True / 0 is False\n",
    "\n",
    "main_df['close_ahead'] = main_df['interval'].apply(lambda x: 1 if x <= 1.5 else 0)"
   ]
  },
  {
   "cell_type": "code",
   "execution_count": null,
   "id": "26657699",
   "metadata": {},
   "outputs": [],
   "source": [
    "main_df"
   ]
  },
  {
   "cell_type": "markdown",
   "id": "42a1eb1f",
   "metadata": {},
   "source": [
    "## PREPROCESSING"
   ]
  },
  {
   "cell_type": "code",
   "execution_count": null,
   "id": "543bff2a",
   "metadata": {},
   "outputs": [],
   "source": [
    "# FILTER 1 - Removing WET races\n",
    "\n",
    "# apply a filter to remove any rows where the \"compound\" column contains \"W\" or \"I\"\n",
    "main_df = main_df[~main_df['compound'].isin(['W', 'I'])]\n",
    "\n",
    "main_df"
   ]
  },
  {
   "cell_type": "code",
   "execution_count": null,
   "id": "fdae6034",
   "metadata": {},
   "outputs": [],
   "source": [
    "# FILTER 2 - Removing data related to drivers making more than 3 pit stops\n",
    "\n",
    "# Iterate over each unique combination of id and race_id\n",
    "for id, race_id in main_df[['id', 'race_id']].drop_duplicates().values:\n",
    "    # Get the rows for the current combination of id and race_id\n",
    "    rows = main_df[(main_df['id'] == id) & (main_df['race_id'] == race_id)]\n",
    "\n",
    "    # Check if the number of pit stops exceeds three\n",
    "    if rows['pitstopduration'].count() > 3:\n",
    "        # Remove the rows\n",
    "        main_df = main_df.drop(rows.index)"
   ]
  },
  {
   "cell_type": "code",
   "execution_count": null,
   "id": "7328a86d",
   "metadata": {},
   "outputs": [],
   "source": [
    "# FILTER 3 - Data relating to drivers making their final pit stop after a race progress of 90% are removed\n",
    "\n",
    "total_laps = main_df['nolaps'].max()  # Obtain the maximum value of the 'nolaps' feature\n",
    "race_progress_threshold = total_laps * 0.9\n",
    "\n",
    "# Iterate over each unique combination of id and race_id\n",
    "for (id, race_id) in main_df[['id', 'race_id']].drop_duplicates().values:\n",
    "    # Get the rows for the current combination of id and race_id\n",
    "    rows = main_df[(main_df['id'] == id) & (main_df['race_id'] == race_id)]\n",
    "    \n",
    "    # Check if the driver's final pit stop occurs after the race progress threshold\n",
    "    if rows['race_progress'].max() >= race_progress_threshold:\n",
    "        # Remove the rows from the main_df DataFrame\n",
    "        main_df = main_df.drop(rows.index)"
   ]
  },
  {
   "cell_type": "code",
   "execution_count": null,
   "id": "2e852271",
   "metadata": {},
   "outputs": [],
   "source": [
    "# FILTER 4 - Data relating to drivers with a lap time above 200 s or a pit stop duration above 50 s are remove\n",
    "\n",
    "# Iterate over each unique combination of id and race_id\n",
    "for (id, race_id) in main_df[['id', 'race_id']].drop_duplicates().values:\n",
    "    # Get the rows for the current combination of id and race_id\n",
    "    rows = main_df[(main_df['id'] == id) & (main_df['race_id'] == race_id)]\n",
    "    \n",
    "    # Check if any laptime is above 200s or pitstopduration is above 50s\n",
    "    if (rows['laptime'] > 200).any() or (rows['pitstopduration'] > 50).any():\n",
    "        # Remove the rows from the filtered_df\n",
    "        main_df = main_df.drop(rows.index)"
   ]
  },
  {
   "cell_type": "code",
   "execution_count": null,
   "id": "24581cdb",
   "metadata": {},
   "outputs": [],
   "source": [
    "# FILTER 5 - Data relating to drivers with a result position greater than ten are removed.\n",
    "\n",
    "# create a new column called \"result_position\" and set the default value to NaN\n",
    "main_df['result_position'] = float('nan')\n",
    "\n",
    "# loop through each race in the database\n",
    "for race_id in main_df['race_id'].unique():\n",
    "    # get the last lap of the race\n",
    "    last_lap = main_df[main_df['race_id'] == race_id]['lapno'].max()\n",
    "    # loop through each driver in the race\n",
    "    for driver_id in main_df[main_df['race_id'] == race_id]['id'].unique():\n",
    "        # get the position of the driver on the last lap\n",
    "        driver_position = main_df[(main_df['race_id'] == race_id) & (main_df['id'] == driver_id) & (main_df['lapno'] == last_lap)]['position'].values\n",
    "        # if the driver completed the last lap, set their result position to their position on the last lap\n",
    "        if len(driver_position) > 0:\n",
    "            main_df.loc[(main_df['race_id'] == race_id) & (main_df['id'] == driver_id), 'result_position'] = driver_position[0]\n",
    "\n",
    "# apply a filter to remove any rows where the result position is greater than 10\n",
    "main_df = main_df[main_df['result_position'] < 10]"
   ]
  },
  {
   "cell_type": "markdown",
   "id": "a1d6ca33",
   "metadata": {},
   "source": [
    "## REMOVE NAN "
   ]
  },
  {
   "cell_type": "code",
   "execution_count": null,
   "id": "b04ac2c8",
   "metadata": {},
   "outputs": [],
   "source": [
    "# # Encode NaN values in \"laptime\" as a separate category\n",
    "# df['laptime_category'] = np.where(df['laptime'].isna(), 'Lap Not Completed', 'Lap Completed')"
   ]
  }
 ],
 "metadata": {
  "kernelspec": {
   "display_name": "Python 3 (ipykernel)",
   "language": "python",
   "name": "python3"
  },
  "language_info": {
   "codemirror_mode": {
    "name": "ipython",
    "version": 3
   },
   "file_extension": ".py",
   "mimetype": "text/x-python",
   "name": "python",
   "nbconvert_exporter": "python",
   "pygments_lexer": "ipython3",
   "version": "3.9.7"
  }
 },
 "nbformat": 4,
 "nbformat_minor": 5
}
