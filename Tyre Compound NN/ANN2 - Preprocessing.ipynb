{
 "cells": [
  {
   "cell_type": "code",
   "execution_count": null,
   "id": "3890b172",
   "metadata": {},
   "outputs": [],
   "source": [
    "# IMPORTS\n",
    "import pandas as pd\n",
    "import numpy as np"
   ]
  },
  {
   "cell_type": "markdown",
   "id": "97e46d07",
   "metadata": {},
   "source": [
    "## Reading separate csv files"
   ]
  },
  {
   "cell_type": "code",
   "execution_count": null,
   "id": "427b4749",
   "metadata": {},
   "outputs": [],
   "source": [
    "laps_df = pd.read_csv(r'laps.csv', encoding='utf-16')\n",
    "fcyphases_df = pd.read_csv(r'fcyphases.csv', encoding='utf-16')\n",
    "races_df = pd.read_csv(r'races.csv', encoding='utf-16')\n",
    "drivers_df = pd.read_csv(r'drivers.csv', encoding='utf-16')"
   ]
  },
  {
   "cell_type": "markdown",
   "id": "70328a96",
   "metadata": {},
   "source": [
    "## Importing main.csv which contains the merged (laps, drivers, races) tables"
   ]
  },
  {
   "cell_type": "code",
   "execution_count": null,
   "id": "859f2b47",
   "metadata": {},
   "outputs": [],
   "source": [
    "main_df = pd.read_csv(r'main.csv', encoding='utf-8')\n",
    "dtypes = {\"id\": float, \n",
    "          \"carno\": float, \n",
    "          \"initials\": object, \n",
    "          \"name\": object,\n",
    "           \"race_id\": float,\n",
    "         \"driver_id\": float,\n",
    "         \"team\": object,\n",
    "         \"teamcolor\": object ,\n",
    "         \"enginemanufacturer\": object,\n",
    "          \"gridposition\": float,\n",
    "          \"status\": object,\n",
    "          \"resultposition\": float,\n",
    "          \"completedlaps\": float,\n",
    "          \"speedtrap\": float,\n",
    "          \"date\": object,\n",
    "          \"season\": object,\n",
    "          \"location\": str,\n",
    "          \"availablecompounds\": object,\n",
    "          \"comment\" : object,\n",
    "          \"nolaps\": float,\n",
    "          \"nolapsplanned\": float,\n",
    "          \"tracklength\": float,\n",
    "          \"position\": float,\n",
    "          \"q1laptime\": float,\n",
    "          \"q2laptime\": float,\n",
    "          \"q3laptime\": float,\n",
    "          \"lapno\": float,\n",
    "          \"laptime\": float,\n",
    "          \"racetime\": float,\n",
    "          \"gap\": float,\n",
    "          \"interval\": float,\n",
    "          \"compound\": object,\n",
    "          \"pitintime\": object,\n",
    "          \"pitstopduration\": object,\n",
    "          \"nextcompound\": object,\n",
    "          \"startlapprog_vsc\" : float ,\n",
    "          \"endlapprog_vsc\": float,\n",
    "          \"age_vsc\": float,\n",
    "          \"startlapprog_sc\": float,\n",
    "          \"endlapprog_sc\": float,\n",
    "          \"age_sc\": float,\n",
    "          \"accidents\": float,\n",
    "          \"failures\": float,\n",
    "          \"startracetime\": float,\n",
    "          \"endracetime\": float,\n",
    "          \"startraceprog\": float,\n",
    "          \"endraceprog\": float,\n",
    "          \"startlap\": float,\n",
    "          \"endlap\": float,\n",
    "          \"type\": object \n",
    "          \n",
    "         }\n",
    "main_df.rename(columns={'id_x': 'id'}, inplace=True)"
   ]
  },
  {
   "cell_type": "code",
   "execution_count": null,
   "id": "200a16a9",
   "metadata": {},
   "outputs": [],
   "source": [
    "main_df = main_df.drop(['comment'], axis=1)"
   ]
  },
  {
   "cell_type": "markdown",
   "id": "337eadd2",
   "metadata": {},
   "source": [
    "## Data Filtering"
   ]
  },
  {
   "cell_type": "code",
   "execution_count": null,
   "id": "a95d2abb",
   "metadata": {},
   "outputs": [],
   "source": [
    "# FILTER 1 - Removing WET races\n",
    "\n",
    "# apply a filter to remove any rows where the \"compound\" column contains \"W\" or \"I\"\n",
    "main_df = main_df[~main_df['compound'].isin(['W', 'I'])]\n",
    "\n",
    "main_df"
   ]
  },
  {
   "cell_type": "code",
   "execution_count": null,
   "id": "1957a3e1",
   "metadata": {},
   "outputs": [],
   "source": [
    "# FILTER 2 - Removing data related to drivers making more than 3 pit stops\n",
    "\n",
    "# Iterate over each unique combination of id and race_id\n",
    "for id, race_id in main_df[['id', 'race_id']].drop_duplicates().values:\n",
    "    # Get the rows for the current combination of id and race_id\n",
    "    rows = main_df[(main_df['id'] == id) & (main_df['race_id'] == race_id)]\n",
    "\n",
    "    # Check if the number of pit stops exceeds three\n",
    "    if rows['pitstopduration'].count() > 3:\n",
    "        # Remove the rows\n",
    "        main_df = main_df.drop(rows.index)"
   ]
  },
  {
   "cell_type": "code",
   "execution_count": null,
   "id": "188b0c6e",
   "metadata": {},
   "outputs": [],
   "source": [
    "# FILTER 3 - Data relating to drivers with a result position greater than 15 are removed.\n",
    "\n",
    "# create a new column called \"result_position\" and set the default value to NaN\n",
    "main_df['result_position'] = float('nan')\n",
    "\n",
    "# loop through each race in the database\n",
    "for race_id in main_df['race_id'].unique():\n",
    "    # get the last lap of the race\n",
    "    last_lap = main_df[main_df['race_id'] == race_id]['lapno'].max()\n",
    "    # loop through each driver in the race\n",
    "    for driver_id in main_df[main_df['race_id'] == race_id]['id'].unique():\n",
    "        # get the position of the driver on the last lap\n",
    "        driver_position = main_df[(main_df['race_id'] == race_id) & (main_df['id'] == driver_id) & (main_df['lapno'] == last_lap)]['position'].values\n",
    "        # if the driver completed the last lap, set their result position to their position on the last lap\n",
    "        if len(driver_position) > 0:\n",
    "            main_df.loc[(main_df['race_id'] == race_id) & (main_df['id'] == driver_id), 'result_position'] = driver_position[0]\n",
    "\n",
    "# apply a filter to remove any rows where the result position is greater than 15\n",
    "main_df = main_df[main_df['result_position'] < 15]"
   ]
  },
  {
   "cell_type": "markdown",
   "id": "4f377f45",
   "metadata": {},
   "source": [
    "## Feature Engineering"
   ]
  },
  {
   "cell_type": "code",
   "execution_count": null,
   "id": "521b32a4",
   "metadata": {},
   "outputs": [],
   "source": [
    " def race_progress(main_df):\n",
    "        \n",
    "    r_id = main_df.race_id.unique()\n",
    "    d_id = main_df.driver_id.unique()\n",
    "    \n",
    "    # create new df\n",
    "    new_df = pd.DataFrame()\n",
    "\n",
    "    for r in r_id:\n",
    "        \n",
    "        # rows of the same race\n",
    "        x = main_df[main_df['race_id'] == r]\n",
    "        \n",
    "        for d in d_id:\n",
    "            # rows of the same race and driver\n",
    "            y = x[x['driver_id'] == d]\n",
    "            \n",
    "            if not y.empty:\n",
    "                max_value = max(y['racetime'])\n",
    "                y['race_progress'] = y['racetime'] / max_value\n",
    "            \n",
    "                new_df = pd.concat([new_df, y])\n",
    "    \n",
    "    return new_df\n",
    "\n",
    "main_df = race_progress(main_df)"
   ]
  },
  {
   "cell_type": "code",
   "execution_count": null,
   "id": "dd67f064",
   "metadata": {},
   "outputs": [],
   "source": [
    "# REMAINING PIT STOPS - CURRENT LAP\n",
    "\n",
    "main_df['remaining_pit_stops'] = 3\n",
    "\n",
    "for index, row in main_df.iterrows():\n",
    "    if pd.notnull(row['pitintime']):\n",
    "        driver_id = row['id']\n",
    "        remaining_pit_stops = main_df.loc[(main_df['id'] == driver_id) & (main_df['lapno'] > row['lapno']), 'remaining_pit_stops'].max()\n",
    "        main_df.loc[index, 'remaining_pit_stops'] = max(remaining_pit_stops - 1, 0)"
   ]
  },
  {
   "cell_type": "code",
   "execution_count": null,
   "id": "6bf96056",
   "metadata": {},
   "outputs": [],
   "source": [
    "# RELATIVE COMPOUND - CURRENT LAP \n",
    "\n",
    "# Define a dictionary to map compound codes to tire types based on the given information\n",
    "compound_dict = {\n",
    "    \"A1\": {2014: \"hard\", 2015: \"hard\", 2016: \"hard\", 2017: \"hard\", 2018: \"hard\"},\n",
    "    \"A2\": {2014: \"medium\", 2015: \"medium\", 2016: \"medium\", 2017: \"medium\", 2018: \"hard\", 2019: \"hard\"},\n",
    "    \"A3\": {2014: \"soft\", 2015: \"soft\", 2016: \"soft\", 2017: \"soft\", 2018: \"medium\", 2019: \"hard\"},\n",
    "    \"A4\": {2014: \"soft\", 2015: \"soft\", 2016: \"soft\", 2017: \"soft\", 2018: \"soft\", 2019: \"medium\"},\n",
    "    \"A5\": {2016: \"soft\", 2017: \"soft\", 2018: \"soft\"},\n",
    "    \"A6\": {2018: \"soft\", 2019: \"soft\"},\n",
    "    \"A7\": {2018: \"soft\", 2019: \"soft\"}\n",
    "}\n",
    "\n",
    "# Define a function to map the compound codes to tire types based on the season\n",
    "def map_compound(row):\n",
    "    compound = row['compound']\n",
    "    season = row['season']\n",
    "    lapno = row['lapno']  # Get the current lap number\n",
    "    \n",
    "    if compound in compound_dict and season in compound_dict[compound]:\n",
    "        return compound_dict[compound][season]\n",
    "    elif lapno > 1:\n",
    "        previous_lap_compound = main_df.at[row.name - 1, 'relativecompound']  # Get the relativecompound value from the previous lap\n",
    "        return previous_lap_compound\n",
    "    else:\n",
    "        return None\n",
    "\n",
    "# Apply the mapping function to the compound column to create the relativecompound column\n",
    "main_df['relativecompound'] = main_df.apply(map_compound, axis=1)"
   ]
  },
  {
   "cell_type": "code",
   "execution_count": null,
   "id": "2f0ee4c3",
   "metadata": {},
   "outputs": [],
   "source": [
    "# Race Track Feature - aka location"
   ]
  },
  {
   "cell_type": "code",
   "execution_count": null,
   "id": "0fdab797",
   "metadata": {},
   "outputs": [],
   "source": [
    "# Fulfilled Second Compound Feature\n",
    "\n",
    "main_df_compounds = main_df.groupby(['driver_id', 'compound'])['lapno'].nunique().reset_index()\n",
    "main_df['fulfilled_second_compound'] = main_df.apply(lambda row: \n",
    "    main_df_compounds[(main_df_compounds['driver_id'] == row['driver_id']) & \n",
    "                 (main_df_compounds['compound'] != row['compound'])]['lapno'].sum() >= 2,\n",
    "    axis=1\n",
    ")"
   ]
  },
  {
   "cell_type": "code",
   "execution_count": null,
   "id": "78c2df4f",
   "metadata": {},
   "outputs": [],
   "source": [
    "# Number of available compounds Feature\n",
    "\n",
    "# create a new feature called 'number of available compounds'\n",
    "main_df['number_of_available_compounds'] = np.where(main_df['season'] <= 2016, 2, 3)"
   ]
  },
  {
   "cell_type": "code",
   "execution_count": null,
   "id": "d2358572",
   "metadata": {},
   "outputs": [],
   "source": [
    "# Handling new NaN values\n",
    "main_df.fillna(0, inplace=True)\n",
    "display(main_df)"
   ]
  },
  {
   "cell_type": "code",
   "execution_count": null,
   "id": "1e8b127a",
   "metadata": {},
   "outputs": [],
   "source": [
    "main_df.to_csv(r'f1dataset2.csv', index=False)"
   ]
  }
 ],
 "metadata": {
  "kernelspec": {
   "display_name": "Python 3 (ipykernel)",
   "language": "python",
   "name": "python3"
  },
  "language_info": {
   "codemirror_mode": {
    "name": "ipython",
    "version": 3
   },
   "file_extension": ".py",
   "mimetype": "text/x-python",
   "name": "python",
   "nbconvert_exporter": "python",
   "pygments_lexer": "ipython3",
   "version": "3.9.7"
  }
 },
 "nbformat": 4,
 "nbformat_minor": 5
}
