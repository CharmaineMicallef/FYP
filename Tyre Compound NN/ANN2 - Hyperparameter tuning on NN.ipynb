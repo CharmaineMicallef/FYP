{
 "cells": [
  {
   "cell_type": "code",
   "execution_count": 22,
   "id": "980fb3c6",
   "metadata": {},
   "outputs": [],
   "source": [
    "import numpy as np\n",
    "import pandas as pd\n",
    "import tensorflow as tf\n",
    "import matplotlib.pyplot as plt\n",
    "from keras.models import Sequential\n",
    "from keras.layers import Dense\n",
    "from tensorflow.keras import models, layers, regularizers\n",
    "from sklearn.preprocessing import LabelEncoder\n",
    "from sklearn.model_selection import train_test_split\n",
    "from tensorflow.keras import models, layers, regularizers\n",
    "from sklearn.preprocessing import StandardScaler, OneHotEncoder"
   ]
  },
  {
   "cell_type": "code",
   "execution_count": 9,
   "id": "b1dc9732",
   "metadata": {},
   "outputs": [],
   "source": [
    "# read df\n",
    "df = pd.read_csv(r'C:\\Users\\charm\\Desktop\\Thesis\\Code\\f1dataset2.csv', encoding='utf-8')"
   ]
  },
  {
   "cell_type": "code",
   "execution_count": 10,
   "id": "b0467d31",
   "metadata": {},
   "outputs": [],
   "source": [
    "# shuffle data\n",
    "shuffled_data = df.sample(frac=1, random_state=42)  # Set random_state for reproducibility"
   ]
  },
  {
   "cell_type": "code",
   "execution_count": 11,
   "id": "73c04d0d",
   "metadata": {},
   "outputs": [
    {
     "name": "stderr",
     "output_type": "stream",
     "text": [
      "C:\\Users\\charm\\anaconda3\\lib\\site-packages\\pandas\\core\\frame.py:3678: SettingWithCopyWarning: \n",
      "A value is trying to be set on a copy of a slice from a DataFrame.\n",
      "Try using .loc[row_indexer,col_indexer] = value instead\n",
      "\n",
      "See the caveats in the documentation: https://pandas.pydata.org/pandas-docs/stable/user_guide/indexing.html#returning-a-view-versus-a-copy\n",
      "  self[col] = igetitem(value, i)\n"
     ]
    }
   ],
   "source": [
    "# Generate a subset\n",
    "subset_data = shuffled_data[['race_progress', 'remaining_pit_stops', 'relativecompound', 'location', 'fulfilled_second_compound', 'number_of_available_compounds']].sample(frac=0.1, random_state=42)\n",
    "\n",
    "# Separate input features (X) and target variable (y)\n",
    "X = subset_data[['race_progress', 'remaining_pit_stops', 'location', 'fulfilled_second_compound', 'number_of_available_compounds']]\n",
    "y = subset_data['relativecompound']\n",
    "\n",
    "# Separate categorical and numerical features\n",
    "cat_features = ['remaining_pit_stops', 'location', 'fulfilled_second_compound', 'number_of_available_compounds']\n",
    "num_features = ['race_progress']\n",
    "\n",
    "# Perform preprocessing on numerical features\n",
    "scaler = StandardScaler()\n",
    "X[num_features] = scaler.fit_transform(X[num_features])\n",
    "\n",
    "# Perform preprocessing on categorical features\n",
    "encoder = OneHotEncoder(sparse_output=False, handle_unknown='ignore')\n",
    "X_encoded = encoder.fit_transform(X[cat_features])\n",
    "\n",
    "# Combine preprocessed numerical and categorical features\n",
    "X_processed = np.concatenate((X_encoded, X[num_features]), axis=1)\n",
    "\n",
    "# Create an instance of LabelEncoder\n",
    "label_encoder = LabelEncoder()\n",
    "\n",
    "# Encode the categorical labels into integer values\n",
    "y_encoded = label_encoder.fit_transform(y)\n",
    "\n",
    "# Split the subset into training and validation sets\n",
    "X_train, X_val, y_train, y_val = train_test_split(X_processed, y_encoded, test_size=0.1, random_state=42)"
   ]
  },
  {
   "cell_type": "code",
   "execution_count": 37,
   "id": "e700a824",
   "metadata": {},
   "outputs": [],
   "source": [
    "import optuna\n",
    "from sklearn.metrics import accuracy_score\n",
    "\n",
    "def objective(trial):\n",
    "    # Define the hyperparameters to tune\n",
    "    units = trial.suggest_int('units', 16, 256)\n",
    "    learning_rate = trial.suggest_float('learning_rate', 1e-5, 1e-1, log=True)\n",
    "    optimizer_name = trial.suggest_categorical('optimizer', ['adam', 'rmsprop', 'nadam'])\n",
    "    l2_reg = trial.suggest_loguniform('l2_reg', 1e-5, 1e-1)\n",
    "    batch_size = trial.suggest_categorical('batch_size', [16, 32, 64, 128])\n",
    "\n",
    "    # Define the model\n",
    "    model = models.Sequential()\n",
    "    model.add(layers.Dense(units, activation='relu', input_shape=(X_processed.shape[1],),\n",
    "                           kernel_regularizer=regularizers.l2(l2_reg)))\n",
    "    model.add(layers.Dense(3, activation='softmax'))\n",
    "\n",
    "    # Define the optimizer\n",
    "    if optimizer_name == 'adam':\n",
    "        optimizer = tf.keras.optimizers.Adam(learning_rate=learning_rate)\n",
    "    elif optimizer_name == 'rmsprop':\n",
    "        optimizer = tf.keras.optimizers.RMSprop(learning_rate=learning_rate)\n",
    "    elif optimizer_name == 'nadam':\n",
    "        optimizer = tf.keras.optimizers.Nadam(learning_rate=learning_rate)\n",
    "    else:\n",
    "        raise ValueError(f\"Unsupported optimizer: {optimizer_name}\")\n",
    "\n",
    "    # Compile the model\n",
    "    model.compile(optimizer=optimizer,\n",
    "                  loss=tf.keras.losses.SparseCategoricalCrossentropy(),\n",
    "                  metrics=['accuracy'])\n",
    "\n",
    "    # Train the model\n",
    "    history = model.fit(X_train, y_train, validation_data=(X_val, y_val), batch_size=batch_size, epochs=50, verbose=0)\n",
    "\n",
    "    # Evaluate the model on the validation set\n",
    "    y_val_pred = model.predict(X_val)\n",
    "    y_val_pred_binary = np.argmax(y_val_pred, axis=1)\n",
    "    accuracy = accuracy_score(y_val, y_val_pred_binary)\n",
    "\n",
    "    # Return the accuracy as the performance metric\n",
    "    return accuracy\n"
   ]
  },
  {
   "cell_type": "code",
   "execution_count": 38,
   "id": "bc46c5c0",
   "metadata": {},
   "outputs": [
    {
     "name": "stderr",
     "output_type": "stream",
     "text": [
      "\u001b[32m[I 2023-05-27 20:42:49,711]\u001b[0m A new study created in RDB with name: NN2\u001b[0m\n",
      "C:\\Users\\charm\\AppData\\Local\\Temp\\ipykernel_47688\\847911130.py:9: FutureWarning: suggest_loguniform has been deprecated in v3.0.0. This feature will be removed in v6.0.0. See https://github.com/optuna/optuna/releases/tag/v3.0.0. Use :func:`~optuna.trial.Trial.suggest_float` instead.\n",
      "  l2_reg = trial.suggest_loguniform('l2_reg', 1e-5, 1e-1)\n"
     ]
    },
    {
     "name": "stdout",
     "output_type": "stream",
     "text": [
      "20/20 [==============================] - 0s 2ms/step\n"
     ]
    },
    {
     "name": "stderr",
     "output_type": "stream",
     "text": [
      "\u001b[32m[I 2023-05-27 20:43:19,900]\u001b[0m Trial 0 finished with value: 0.7719869706840391 and parameters: {'units': 232, 'learning_rate': 0.009100350657000034, 'optimizer': 'rmsprop', 'l2_reg': 0.0004789581266517643, 'batch_size': 32}. Best is trial 0 with value: 0.7719869706840391.\u001b[0m\n",
      "C:\\Users\\charm\\AppData\\Local\\Temp\\ipykernel_47688\\847911130.py:9: FutureWarning: suggest_loguniform has been deprecated in v3.0.0. This feature will be removed in v6.0.0. See https://github.com/optuna/optuna/releases/tag/v3.0.0. Use :func:`~optuna.trial.Trial.suggest_float` instead.\n",
      "  l2_reg = trial.suggest_loguniform('l2_reg', 1e-5, 1e-1)\n"
     ]
    },
    {
     "name": "stdout",
     "output_type": "stream",
     "text": [
      "20/20 [==============================] - 0s 2ms/step\n"
     ]
    },
    {
     "name": "stderr",
     "output_type": "stream",
     "text": [
      "\u001b[32m[I 2023-05-27 20:44:14,067]\u001b[0m Trial 1 finished with value: 0.7768729641693811 and parameters: {'units': 63, 'learning_rate': 3.9781821391994864e-05, 'optimizer': 'nadam', 'l2_reg': 0.00020564429036538915, 'batch_size': 16}. Best is trial 1 with value: 0.7768729641693811.\u001b[0m\n",
      "C:\\Users\\charm\\AppData\\Local\\Temp\\ipykernel_47688\\847911130.py:9: FutureWarning: suggest_loguniform has been deprecated in v3.0.0. This feature will be removed in v6.0.0. See https://github.com/optuna/optuna/releases/tag/v3.0.0. Use :func:`~optuna.trial.Trial.suggest_float` instead.\n",
      "  l2_reg = trial.suggest_loguniform('l2_reg', 1e-5, 1e-1)\n"
     ]
    },
    {
     "name": "stdout",
     "output_type": "stream",
     "text": [
      "20/20 [==============================] - 0s 3ms/step\n"
     ]
    },
    {
     "name": "stderr",
     "output_type": "stream",
     "text": [
      "\u001b[32m[I 2023-05-27 20:45:05,128]\u001b[0m Trial 2 finished with value: 0.6775244299674267 and parameters: {'units': 48, 'learning_rate': 1.4227265598024344e-05, 'optimizer': 'rmsprop', 'l2_reg': 3.5577516788858365e-05, 'batch_size': 16}. Best is trial 1 with value: 0.7768729641693811.\u001b[0m\n",
      "C:\\Users\\charm\\AppData\\Local\\Temp\\ipykernel_47688\\847911130.py:9: FutureWarning: suggest_loguniform has been deprecated in v3.0.0. This feature will be removed in v6.0.0. See https://github.com/optuna/optuna/releases/tag/v3.0.0. Use :func:`~optuna.trial.Trial.suggest_float` instead.\n",
      "  l2_reg = trial.suggest_loguniform('l2_reg', 1e-5, 1e-1)\n"
     ]
    },
    {
     "name": "stdout",
     "output_type": "stream",
     "text": [
      "20/20 [==============================] - 0s 2ms/step\n"
     ]
    },
    {
     "name": "stderr",
     "output_type": "stream",
     "text": [
      "\u001b[32m[I 2023-05-27 20:45:34,621]\u001b[0m Trial 3 finished with value: 0.7801302931596091 and parameters: {'units': 116, 'learning_rate': 0.0010883415103548008, 'optimizer': 'adam', 'l2_reg': 0.026450310875200563, 'batch_size': 32}. Best is trial 3 with value: 0.7801302931596091.\u001b[0m\n",
      "C:\\Users\\charm\\AppData\\Local\\Temp\\ipykernel_47688\\847911130.py:9: FutureWarning: suggest_loguniform has been deprecated in v3.0.0. This feature will be removed in v6.0.0. See https://github.com/optuna/optuna/releases/tag/v3.0.0. Use :func:`~optuna.trial.Trial.suggest_float` instead.\n",
      "  l2_reg = trial.suggest_loguniform('l2_reg', 1e-5, 1e-1)\n"
     ]
    },
    {
     "name": "stdout",
     "output_type": "stream",
     "text": [
      "20/20 [==============================] - 0s 3ms/step\n"
     ]
    },
    {
     "name": "stderr",
     "output_type": "stream",
     "text": [
      "\u001b[32m[I 2023-05-27 20:46:03,458]\u001b[0m Trial 4 finished with value: 0.7785016286644951 and parameters: {'units': 41, 'learning_rate': 0.00012909425445529376, 'optimizer': 'adam', 'l2_reg': 5.2804436933689646e-05, 'batch_size': 32}. Best is trial 3 with value: 0.7801302931596091.\u001b[0m\n",
      "C:\\Users\\charm\\AppData\\Local\\Temp\\ipykernel_47688\\847911130.py:9: FutureWarning: suggest_loguniform has been deprecated in v3.0.0. This feature will be removed in v6.0.0. See https://github.com/optuna/optuna/releases/tag/v3.0.0. Use :func:`~optuna.trial.Trial.suggest_float` instead.\n",
      "  l2_reg = trial.suggest_loguniform('l2_reg', 1e-5, 1e-1)\n"
     ]
    },
    {
     "name": "stdout",
     "output_type": "stream",
     "text": [
      "20/20 [==============================] - 0s 2ms/step\n"
     ]
    },
    {
     "name": "stderr",
     "output_type": "stream",
     "text": [
      "\u001b[32m[I 2023-05-27 20:46:14,862]\u001b[0m Trial 5 finished with value: 0.7035830618892508 and parameters: {'units': 49, 'learning_rate': 5.1367554564499246e-05, 'optimizer': 'adam', 'l2_reg': 2.3521690720057055e-05, 'batch_size': 128}. Best is trial 3 with value: 0.7801302931596091.\u001b[0m\n",
      "C:\\Users\\charm\\AppData\\Local\\Temp\\ipykernel_47688\\847911130.py:9: FutureWarning: suggest_loguniform has been deprecated in v3.0.0. This feature will be removed in v6.0.0. See https://github.com/optuna/optuna/releases/tag/v3.0.0. Use :func:`~optuna.trial.Trial.suggest_float` instead.\n",
      "  l2_reg = trial.suggest_loguniform('l2_reg', 1e-5, 1e-1)\n"
     ]
    },
    {
     "name": "stdout",
     "output_type": "stream",
     "text": [
      "20/20 [==============================] - 0s 2ms/step\n"
     ]
    },
    {
     "name": "stderr",
     "output_type": "stream",
     "text": [
      "\u001b[32m[I 2023-05-27 20:46:31,998]\u001b[0m Trial 6 finished with value: 0.6596091205211726 and parameters: {'units': 83, 'learning_rate': 2.5170022283159853e-05, 'optimizer': 'rmsprop', 'l2_reg': 0.03234184709201434, 'batch_size': 64}. Best is trial 3 with value: 0.7801302931596091.\u001b[0m\n",
      "C:\\Users\\charm\\AppData\\Local\\Temp\\ipykernel_47688\\847911130.py:9: FutureWarning: suggest_loguniform has been deprecated in v3.0.0. This feature will be removed in v6.0.0. See https://github.com/optuna/optuna/releases/tag/v3.0.0. Use :func:`~optuna.trial.Trial.suggest_float` instead.\n",
      "  l2_reg = trial.suggest_loguniform('l2_reg', 1e-5, 1e-1)\n"
     ]
    },
    {
     "name": "stdout",
     "output_type": "stream",
     "text": [
      "20/20 [==============================] - 0s 3ms/step\n"
     ]
    },
    {
     "name": "stderr",
     "output_type": "stream",
     "text": [
      "\u001b[32m[I 2023-05-27 20:46:51,250]\u001b[0m Trial 7 finished with value: 0.7785016286644951 and parameters: {'units': 206, 'learning_rate': 0.011125599847605402, 'optimizer': 'nadam', 'l2_reg': 0.0005921918521885149, 'batch_size': 64}. Best is trial 3 with value: 0.7801302931596091.\u001b[0m\n",
      "C:\\Users\\charm\\AppData\\Local\\Temp\\ipykernel_47688\\847911130.py:9: FutureWarning: suggest_loguniform has been deprecated in v3.0.0. This feature will be removed in v6.0.0. See https://github.com/optuna/optuna/releases/tag/v3.0.0. Use :func:`~optuna.trial.Trial.suggest_float` instead.\n",
      "  l2_reg = trial.suggest_loguniform('l2_reg', 1e-5, 1e-1)\n"
     ]
    },
    {
     "name": "stdout",
     "output_type": "stream",
     "text": [
      "20/20 [==============================] - 0s 2ms/step\n"
     ]
    },
    {
     "name": "stderr",
     "output_type": "stream",
     "text": [
      "\u001b[32m[I 2023-05-27 20:47:08,196]\u001b[0m Trial 8 finished with value: 0.6840390879478827 and parameters: {'units': 25, 'learning_rate': 0.08778213436873228, 'optimizer': 'rmsprop', 'l2_reg': 0.0060120525744514364, 'batch_size': 64}. Best is trial 3 with value: 0.7801302931596091.\u001b[0m\n",
      "C:\\Users\\charm\\AppData\\Local\\Temp\\ipykernel_47688\\847911130.py:9: FutureWarning: suggest_loguniform has been deprecated in v3.0.0. This feature will be removed in v6.0.0. See https://github.com/optuna/optuna/releases/tag/v3.0.0. Use :func:`~optuna.trial.Trial.suggest_float` instead.\n",
      "  l2_reg = trial.suggest_loguniform('l2_reg', 1e-5, 1e-1)\n"
     ]
    },
    {
     "name": "stdout",
     "output_type": "stream",
     "text": [
      "20/20 [==============================] - 0s 3ms/step\n"
     ]
    },
    {
     "name": "stderr",
     "output_type": "stream",
     "text": [
      "\u001b[32m[I 2023-05-27 20:47:37,458]\u001b[0m Trial 9 finished with value: 0.7866449511400652 and parameters: {'units': 64, 'learning_rate': 0.00041863338177392266, 'optimizer': 'nadam', 'l2_reg': 0.0010096298888883576, 'batch_size': 32}. Best is trial 9 with value: 0.7866449511400652.\u001b[0m\n",
      "C:\\Users\\charm\\AppData\\Local\\Temp\\ipykernel_47688\\847911130.py:9: FutureWarning: suggest_loguniform has been deprecated in v3.0.0. This feature will be removed in v6.0.0. See https://github.com/optuna/optuna/releases/tag/v3.0.0. Use :func:`~optuna.trial.Trial.suggest_float` instead.\n",
      "  l2_reg = trial.suggest_loguniform('l2_reg', 1e-5, 1e-1)\n"
     ]
    },
    {
     "name": "stdout",
     "output_type": "stream",
     "text": [
      "20/20 [==============================] - 0s 3ms/step\n"
     ]
    },
    {
     "name": "stderr",
     "output_type": "stream",
     "text": [
      "\u001b[32m[I 2023-05-27 20:47:50,020]\u001b[0m Trial 10 finished with value: 0.7801302931596091 and parameters: {'units': 162, 'learning_rate': 0.00036104296574629105, 'optimizer': 'nadam', 'l2_reg': 0.0035579934468896765, 'batch_size': 128}. Best is trial 9 with value: 0.7866449511400652.\u001b[0m\n",
      "C:\\Users\\charm\\AppData\\Local\\Temp\\ipykernel_47688\\847911130.py:9: FutureWarning: suggest_loguniform has been deprecated in v3.0.0. This feature will be removed in v6.0.0. See https://github.com/optuna/optuna/releases/tag/v3.0.0. Use :func:`~optuna.trial.Trial.suggest_float` instead.\n",
      "  l2_reg = trial.suggest_loguniform('l2_reg', 1e-5, 1e-1)\n"
     ]
    },
    {
     "name": "stdout",
     "output_type": "stream",
     "text": [
      "20/20 [==============================] - 0s 2ms/step\n"
     ]
    },
    {
     "name": "stderr",
     "output_type": "stream",
     "text": [
      "\u001b[32m[I 2023-05-27 20:48:19,779]\u001b[0m Trial 11 finished with value: 0.752442996742671 and parameters: {'units': 124, 'learning_rate': 0.0009686311017277449, 'optimizer': 'adam', 'l2_reg': 0.08778580723182904, 'batch_size': 32}. Best is trial 9 with value: 0.7866449511400652.\u001b[0m\n",
      "C:\\Users\\charm\\AppData\\Local\\Temp\\ipykernel_47688\\847911130.py:9: FutureWarning: suggest_loguniform has been deprecated in v3.0.0. This feature will be removed in v6.0.0. See https://github.com/optuna/optuna/releases/tag/v3.0.0. Use :func:`~optuna.trial.Trial.suggest_float` instead.\n",
      "  l2_reg = trial.suggest_loguniform('l2_reg', 1e-5, 1e-1)\n"
     ]
    },
    {
     "name": "stdout",
     "output_type": "stream",
     "text": [
      "20/20 [==============================] - 0s 3ms/step\n"
     ]
    },
    {
     "name": "stderr",
     "output_type": "stream",
     "text": [
      "\u001b[32m[I 2023-05-27 20:48:48,898]\u001b[0m Trial 12 finished with value: 0.7833876221498371 and parameters: {'units': 107, 'learning_rate': 0.00033216122089134404, 'optimizer': 'adam', 'l2_reg': 0.004305224128791042, 'batch_size': 32}. Best is trial 9 with value: 0.7866449511400652.\u001b[0m\n",
      "C:\\Users\\charm\\AppData\\Local\\Temp\\ipykernel_47688\\847911130.py:9: FutureWarning: suggest_loguniform has been deprecated in v3.0.0. This feature will be removed in v6.0.0. See https://github.com/optuna/optuna/releases/tag/v3.0.0. Use :func:`~optuna.trial.Trial.suggest_float` instead.\n",
      "  l2_reg = trial.suggest_loguniform('l2_reg', 1e-5, 1e-1)\n"
     ]
    },
    {
     "name": "stdout",
     "output_type": "stream",
     "text": [
      "20/20 [==============================] - 0s 3ms/step\n"
     ]
    },
    {
     "name": "stderr",
     "output_type": "stream",
     "text": [
      "\u001b[32m[I 2023-05-27 20:49:18,378]\u001b[0m Trial 13 finished with value: 0.7801302931596091 and parameters: {'units': 90, 'learning_rate': 0.00031054721937833895, 'optimizer': 'nadam', 'l2_reg': 0.002263948564475406, 'batch_size': 32}. Best is trial 9 with value: 0.7866449511400652.\u001b[0m\n",
      "C:\\Users\\charm\\AppData\\Local\\Temp\\ipykernel_47688\\847911130.py:9: FutureWarning: suggest_loguniform has been deprecated in v3.0.0. This feature will be removed in v6.0.0. See https://github.com/optuna/optuna/releases/tag/v3.0.0. Use :func:`~optuna.trial.Trial.suggest_float` instead.\n",
      "  l2_reg = trial.suggest_loguniform('l2_reg', 1e-5, 1e-1)\n"
     ]
    },
    {
     "name": "stdout",
     "output_type": "stream",
     "text": [
      "20/20 [==============================] - 0s 2ms/step\n"
     ]
    },
    {
     "name": "stderr",
     "output_type": "stream",
     "text": [
      "\u001b[32m[I 2023-05-27 20:49:48,794]\u001b[0m Trial 14 finished with value: 0.7850162866449512 and parameters: {'units': 161, 'learning_rate': 0.00013498312408913288, 'optimizer': 'adam', 'l2_reg': 0.0013330756398510384, 'batch_size': 32}. Best is trial 9 with value: 0.7866449511400652.\u001b[0m\n",
      "C:\\Users\\charm\\AppData\\Local\\Temp\\ipykernel_47688\\847911130.py:9: FutureWarning: suggest_loguniform has been deprecated in v3.0.0. This feature will be removed in v6.0.0. See https://github.com/optuna/optuna/releases/tag/v3.0.0. Use :func:`~optuna.trial.Trial.suggest_float` instead.\n",
      "  l2_reg = trial.suggest_loguniform('l2_reg', 1e-5, 1e-1)\n"
     ]
    },
    {
     "name": "stdout",
     "output_type": "stream",
     "text": [
      "20/20 [==============================] - 0s 2ms/step\n"
     ]
    },
    {
     "name": "stderr",
     "output_type": "stream",
     "text": [
      "\u001b[32m[I 2023-05-27 20:50:19,346]\u001b[0m Trial 15 finished with value: 0.7801302931596091 and parameters: {'units': 163, 'learning_rate': 8.897932887342421e-05, 'optimizer': 'nadam', 'l2_reg': 0.00015285631978422838, 'batch_size': 32}. Best is trial 9 with value: 0.7866449511400652.\u001b[0m\n",
      "C:\\Users\\charm\\AppData\\Local\\Temp\\ipykernel_47688\\847911130.py:9: FutureWarning: suggest_loguniform has been deprecated in v3.0.0. This feature will be removed in v6.0.0. See https://github.com/optuna/optuna/releases/tag/v3.0.0. Use :func:`~optuna.trial.Trial.suggest_float` instead.\n",
      "  l2_reg = trial.suggest_loguniform('l2_reg', 1e-5, 1e-1)\n"
     ]
    },
    {
     "name": "stdout",
     "output_type": "stream",
     "text": [
      "20/20 [==============================] - 0s 2ms/step\n"
     ]
    },
    {
     "name": "stderr",
     "output_type": "stream",
     "text": [
      "\u001b[32m[I 2023-05-27 20:50:49,496]\u001b[0m Trial 16 finished with value: 0.755700325732899 and parameters: {'units': 158, 'learning_rate': 2.1495531803928934e-05, 'optimizer': 'adam', 'l2_reg': 0.001149312971375328, 'batch_size': 32}. Best is trial 9 with value: 0.7866449511400652.\u001b[0m\n",
      "C:\\Users\\charm\\AppData\\Local\\Temp\\ipykernel_47688\\847911130.py:9: FutureWarning: suggest_loguniform has been deprecated in v3.0.0. This feature will be removed in v6.0.0. See https://github.com/optuna/optuna/releases/tag/v3.0.0. Use :func:`~optuna.trial.Trial.suggest_float` instead.\n",
      "  l2_reg = trial.suggest_loguniform('l2_reg', 1e-5, 1e-1)\n"
     ]
    },
    {
     "name": "stdout",
     "output_type": "stream",
     "text": [
      "20/20 [==============================] - 0s 2ms/step\n"
     ]
    },
    {
     "name": "stderr",
     "output_type": "stream",
     "text": [
      "\u001b[32m[I 2023-05-27 20:51:44,644]\u001b[0m Trial 17 finished with value: 0.745928338762215 and parameters: {'units': 195, 'learning_rate': 1.2065510089364948e-05, 'optimizer': 'nadam', 'l2_reg': 0.0010137804942652174, 'batch_size': 16}. Best is trial 9 with value: 0.7866449511400652.\u001b[0m\n",
      "C:\\Users\\charm\\AppData\\Local\\Temp\\ipykernel_47688\\847911130.py:9: FutureWarning: suggest_loguniform has been deprecated in v3.0.0. This feature will be removed in v6.0.0. See https://github.com/optuna/optuna/releases/tag/v3.0.0. Use :func:`~optuna.trial.Trial.suggest_float` instead.\n",
      "  l2_reg = trial.suggest_loguniform('l2_reg', 1e-5, 1e-1)\n"
     ]
    },
    {
     "name": "stdout",
     "output_type": "stream",
     "text": [
      "20/20 [==============================] - 0s 2ms/step\n"
     ]
    },
    {
     "name": "stderr",
     "output_type": "stream",
     "text": [
      "\u001b[32m[I 2023-05-27 20:51:56,874]\u001b[0m Trial 18 finished with value: 0.7801302931596091 and parameters: {'units': 247, 'learning_rate': 0.00013167653357594905, 'optimizer': 'adam', 'l2_reg': 0.00013349190379383552, 'batch_size': 128}. Best is trial 9 with value: 0.7866449511400652.\u001b[0m\n",
      "C:\\Users\\charm\\AppData\\Local\\Temp\\ipykernel_47688\\847911130.py:9: FutureWarning: suggest_loguniform has been deprecated in v3.0.0. This feature will be removed in v6.0.0. See https://github.com/optuna/optuna/releases/tag/v3.0.0. Use :func:`~optuna.trial.Trial.suggest_float` instead.\n",
      "  l2_reg = trial.suggest_loguniform('l2_reg', 1e-5, 1e-1)\n"
     ]
    },
    {
     "name": "stdout",
     "output_type": "stream",
     "text": [
      "20/20 [==============================] - 0s 2ms/step\n"
     ]
    },
    {
     "name": "stderr",
     "output_type": "stream",
     "text": [
      "\u001b[32m[I 2023-05-27 20:52:27,249]\u001b[0m Trial 19 finished with value: 0.7882736156351792 and parameters: {'units': 149, 'learning_rate': 0.0011443640868322603, 'optimizer': 'nadam', 'l2_reg': 0.008240749134513567, 'batch_size': 32}. Best is trial 19 with value: 0.7882736156351792.\u001b[0m\n",
      "C:\\Users\\charm\\AppData\\Local\\Temp\\ipykernel_47688\\847911130.py:9: FutureWarning: suggest_loguniform has been deprecated in v3.0.0. This feature will be removed in v6.0.0. See https://github.com/optuna/optuna/releases/tag/v3.0.0. Use :func:`~optuna.trial.Trial.suggest_float` instead.\n",
      "  l2_reg = trial.suggest_loguniform('l2_reg', 1e-5, 1e-1)\n"
     ]
    },
    {
     "name": "stdout",
     "output_type": "stream",
     "text": [
      "20/20 [==============================] - 0s 2ms/step\n"
     ]
    },
    {
     "name": "stderr",
     "output_type": "stream",
     "text": [
      "\u001b[32m[I 2023-05-27 20:52:56,932]\u001b[0m Trial 20 finished with value: 0.7703583061889251 and parameters: {'units': 139, 'learning_rate': 0.0018255040914338938, 'optimizer': 'nadam', 'l2_reg': 1.1661117913622282e-05, 'batch_size': 32}. Best is trial 19 with value: 0.7882736156351792.\u001b[0m\n",
      "C:\\Users\\charm\\AppData\\Local\\Temp\\ipykernel_47688\\847911130.py:9: FutureWarning: suggest_loguniform has been deprecated in v3.0.0. This feature will be removed in v6.0.0. See https://github.com/optuna/optuna/releases/tag/v3.0.0. Use :func:`~optuna.trial.Trial.suggest_float` instead.\n",
      "  l2_reg = trial.suggest_loguniform('l2_reg', 1e-5, 1e-1)\n"
     ]
    },
    {
     "name": "stdout",
     "output_type": "stream",
     "text": [
      "20/20 [==============================] - 0s 2ms/step\n"
     ]
    },
    {
     "name": "stderr",
     "output_type": "stream",
     "text": [
      "\u001b[32m[I 2023-05-27 20:53:27,522]\u001b[0m Trial 21 finished with value: 0.7817589576547231 and parameters: {'units': 187, 'learning_rate': 0.00021323287143356864, 'optimizer': 'nadam', 'l2_reg': 0.00794894052596602, 'batch_size': 32}. Best is trial 19 with value: 0.7882736156351792.\u001b[0m\n",
      "C:\\Users\\charm\\AppData\\Local\\Temp\\ipykernel_47688\\847911130.py:9: FutureWarning: suggest_loguniform has been deprecated in v3.0.0. This feature will be removed in v6.0.0. See https://github.com/optuna/optuna/releases/tag/v3.0.0. Use :func:`~optuna.trial.Trial.suggest_float` instead.\n",
      "  l2_reg = trial.suggest_loguniform('l2_reg', 1e-5, 1e-1)\n"
     ]
    },
    {
     "name": "stdout",
     "output_type": "stream",
     "text": [
      "20/20 [==============================] - 0s 3ms/step\n"
     ]
    },
    {
     "name": "stderr",
     "output_type": "stream",
     "text": [
      "\u001b[32m[I 2023-05-27 20:53:57,531]\u001b[0m Trial 22 finished with value: 0.7899022801302932 and parameters: {'units': 143, 'learning_rate': 0.0006449224512010411, 'optimizer': 'nadam', 'l2_reg': 0.0018575262490413572, 'batch_size': 32}. Best is trial 22 with value: 0.7899022801302932.\u001b[0m\n",
      "C:\\Users\\charm\\AppData\\Local\\Temp\\ipykernel_47688\\847911130.py:9: FutureWarning: suggest_loguniform has been deprecated in v3.0.0. This feature will be removed in v6.0.0. See https://github.com/optuna/optuna/releases/tag/v3.0.0. Use :func:`~optuna.trial.Trial.suggest_float` instead.\n",
      "  l2_reg = trial.suggest_loguniform('l2_reg', 1e-5, 1e-1)\n"
     ]
    },
    {
     "name": "stdout",
     "output_type": "stream",
     "text": [
      "20/20 [==============================] - 0s 2ms/step\n"
     ]
    },
    {
     "name": "stderr",
     "output_type": "stream",
     "text": [
      "\u001b[32m[I 2023-05-27 20:54:26,940]\u001b[0m Trial 23 finished with value: 0.7785016286644951 and parameters: {'units': 137, 'learning_rate': 0.0006580421011060757, 'optimizer': 'nadam', 'l2_reg': 0.010546962802950578, 'batch_size': 32}. Best is trial 22 with value: 0.7899022801302932.\u001b[0m\n",
      "C:\\Users\\charm\\AppData\\Local\\Temp\\ipykernel_47688\\847911130.py:9: FutureWarning: suggest_loguniform has been deprecated in v3.0.0. This feature will be removed in v6.0.0. See https://github.com/optuna/optuna/releases/tag/v3.0.0. Use :func:`~optuna.trial.Trial.suggest_float` instead.\n",
      "  l2_reg = trial.suggest_loguniform('l2_reg', 1e-5, 1e-1)\n"
     ]
    },
    {
     "name": "stdout",
     "output_type": "stream",
     "text": [
      "20/20 [==============================] - 0s 2ms/step\n"
     ]
    },
    {
     "name": "stderr",
     "output_type": "stream",
     "text": [
      "\u001b[32m[I 2023-05-27 20:54:56,329]\u001b[0m Trial 24 finished with value: 0.7833876221498371 and parameters: {'units': 95, 'learning_rate': 0.0020887114653004623, 'optimizer': 'nadam', 'l2_reg': 0.0023914647957887615, 'batch_size': 32}. Best is trial 22 with value: 0.7899022801302932.\u001b[0m\n",
      "C:\\Users\\charm\\AppData\\Local\\Temp\\ipykernel_47688\\847911130.py:9: FutureWarning: suggest_loguniform has been deprecated in v3.0.0. This feature will be removed in v6.0.0. See https://github.com/optuna/optuna/releases/tag/v3.0.0. Use :func:`~optuna.trial.Trial.suggest_float` instead.\n",
      "  l2_reg = trial.suggest_loguniform('l2_reg', 1e-5, 1e-1)\n"
     ]
    },
    {
     "name": "stdout",
     "output_type": "stream",
     "text": [
      "20/20 [==============================] - 0s 2ms/step\n"
     ]
    },
    {
     "name": "stderr",
     "output_type": "stream",
     "text": [
      "\u001b[32m[I 2023-05-27 20:55:26,733]\u001b[0m Trial 25 finished with value: 0.7915309446254072 and parameters: {'units': 182, 'learning_rate': 0.0006075930996820838, 'optimizer': 'nadam', 'l2_reg': 0.002243352891026585, 'batch_size': 32}. Best is trial 25 with value: 0.7915309446254072.\u001b[0m\n",
      "C:\\Users\\charm\\AppData\\Local\\Temp\\ipykernel_47688\\847911130.py:9: FutureWarning: suggest_loguniform has been deprecated in v3.0.0. This feature will be removed in v6.0.0. See https://github.com/optuna/optuna/releases/tag/v3.0.0. Use :func:`~optuna.trial.Trial.suggest_float` instead.\n",
      "  l2_reg = trial.suggest_loguniform('l2_reg', 1e-5, 1e-1)\n"
     ]
    },
    {
     "name": "stdout",
     "output_type": "stream",
     "text": [
      "20/20 [==============================] - 0s 2ms/step\n"
     ]
    },
    {
     "name": "stderr",
     "output_type": "stream",
     "text": [
      "\u001b[32m[I 2023-05-27 20:56:20,995]\u001b[0m Trial 26 finished with value: 0.7899022801302932 and parameters: {'units': 189, 'learning_rate': 0.0017518804426397167, 'optimizer': 'nadam', 'l2_reg': 0.009286804958423366, 'batch_size': 16}. Best is trial 25 with value: 0.7915309446254072.\u001b[0m\n",
      "C:\\Users\\charm\\AppData\\Local\\Temp\\ipykernel_47688\\847911130.py:9: FutureWarning: suggest_loguniform has been deprecated in v3.0.0. This feature will be removed in v6.0.0. See https://github.com/optuna/optuna/releases/tag/v3.0.0. Use :func:`~optuna.trial.Trial.suggest_float` instead.\n",
      "  l2_reg = trial.suggest_loguniform('l2_reg', 1e-5, 1e-1)\n"
     ]
    },
    {
     "name": "stdout",
     "output_type": "stream",
     "text": [
      "20/20 [==============================] - 0s 2ms/step\n"
     ]
    },
    {
     "name": "stderr",
     "output_type": "stream",
     "text": [
      "\u001b[32m[I 2023-05-27 20:57:14,473]\u001b[0m Trial 27 finished with value: 0.7736156351791531 and parameters: {'units': 183, 'learning_rate': 0.002602889335325631, 'optimizer': 'nadam', 'l2_reg': 0.002132379451883013, 'batch_size': 16}. Best is trial 25 with value: 0.7915309446254072.\u001b[0m\n",
      "C:\\Users\\charm\\AppData\\Local\\Temp\\ipykernel_47688\\847911130.py:9: FutureWarning: suggest_loguniform has been deprecated in v3.0.0. This feature will be removed in v6.0.0. See https://github.com/optuna/optuna/releases/tag/v3.0.0. Use :func:`~optuna.trial.Trial.suggest_float` instead.\n",
      "  l2_reg = trial.suggest_loguniform('l2_reg', 1e-5, 1e-1)\n"
     ]
    },
    {
     "name": "stdout",
     "output_type": "stream",
     "text": [
      "20/20 [==============================] - 0s 3ms/step\n"
     ]
    },
    {
     "name": "stderr",
     "output_type": "stream",
     "text": [
      "\u001b[32m[I 2023-05-27 20:58:11,235]\u001b[0m Trial 28 finished with value: 0.7736156351791531 and parameters: {'units': 217, 'learning_rate': 0.0038540568727964087, 'optimizer': 'nadam', 'l2_reg': 0.014673882485320821, 'batch_size': 16}. Best is trial 25 with value: 0.7915309446254072.\u001b[0m\n",
      "C:\\Users\\charm\\AppData\\Local\\Temp\\ipykernel_47688\\847911130.py:9: FutureWarning: suggest_loguniform has been deprecated in v3.0.0. This feature will be removed in v6.0.0. See https://github.com/optuna/optuna/releases/tag/v3.0.0. Use :func:`~optuna.trial.Trial.suggest_float` instead.\n",
      "  l2_reg = trial.suggest_loguniform('l2_reg', 1e-5, 1e-1)\n"
     ]
    },
    {
     "name": "stdout",
     "output_type": "stream",
     "text": [
      "20/20 [==============================] - 0s 2ms/step\n"
     ]
    },
    {
     "name": "stderr",
     "output_type": "stream",
     "text": [
      "\u001b[32m[I 2023-05-27 20:59:04,702]\u001b[0m Trial 29 finished with value: 0.7899022801302932 and parameters: {'units': 227, 'learning_rate': 0.0007441883259225729, 'optimizer': 'rmsprop', 'l2_reg': 0.00039281397998851785, 'batch_size': 16}. Best is trial 25 with value: 0.7915309446254072.\u001b[0m\n",
      "C:\\Users\\charm\\AppData\\Local\\Temp\\ipykernel_47688\\847911130.py:9: FutureWarning: suggest_loguniform has been deprecated in v3.0.0. This feature will be removed in v6.0.0. See https://github.com/optuna/optuna/releases/tag/v3.0.0. Use :func:`~optuna.trial.Trial.suggest_float` instead.\n",
      "  l2_reg = trial.suggest_loguniform('l2_reg', 1e-5, 1e-1)\n"
     ]
    },
    {
     "name": "stdout",
     "output_type": "stream",
     "text": [
      "20/20 [==============================] - 0s 3ms/step\n"
     ]
    },
    {
     "name": "stderr",
     "output_type": "stream",
     "text": [
      "\u001b[32m[I 2023-05-27 20:59:59,319]\u001b[0m Trial 30 finished with value: 0.7833876221498371 and parameters: {'units': 176, 'learning_rate': 0.005313053950982767, 'optimizer': 'nadam', 'l2_reg': 0.002803075601341839, 'batch_size': 16}. Best is trial 25 with value: 0.7915309446254072.\u001b[0m\n",
      "C:\\Users\\charm\\AppData\\Local\\Temp\\ipykernel_47688\\847911130.py:9: FutureWarning: suggest_loguniform has been deprecated in v3.0.0. This feature will be removed in v6.0.0. See https://github.com/optuna/optuna/releases/tag/v3.0.0. Use :func:`~optuna.trial.Trial.suggest_float` instead.\n",
      "  l2_reg = trial.suggest_loguniform('l2_reg', 1e-5, 1e-1)\n"
     ]
    },
    {
     "name": "stdout",
     "output_type": "stream",
     "text": [
      "20/20 [==============================] - 0s 2ms/step\n"
     ]
    },
    {
     "name": "stderr",
     "output_type": "stream",
     "text": [
      "\u001b[32m[I 2023-05-27 21:00:52,517]\u001b[0m Trial 31 finished with value: 0.7801302931596091 and parameters: {'units': 225, 'learning_rate': 0.0007780417633464554, 'optimizer': 'rmsprop', 'l2_reg': 0.0004153439125566072, 'batch_size': 16}. Best is trial 25 with value: 0.7915309446254072.\u001b[0m\n",
      "C:\\Users\\charm\\AppData\\Local\\Temp\\ipykernel_47688\\847911130.py:9: FutureWarning: suggest_loguniform has been deprecated in v3.0.0. This feature will be removed in v6.0.0. See https://github.com/optuna/optuna/releases/tag/v3.0.0. Use :func:`~optuna.trial.Trial.suggest_float` instead.\n",
      "  l2_reg = trial.suggest_loguniform('l2_reg', 1e-5, 1e-1)\n"
     ]
    },
    {
     "name": "stdout",
     "output_type": "stream",
     "text": [
      "20/20 [==============================] - 0s 2ms/step\n"
     ]
    },
    {
     "name": "stderr",
     "output_type": "stream",
     "text": [
      "\u001b[32m[I 2023-05-27 21:01:45,669]\u001b[0m Trial 32 finished with value: 0.7801302931596091 and parameters: {'units': 250, 'learning_rate': 0.0006589905835944469, 'optimizer': 'rmsprop', 'l2_reg': 0.0003821118404800612, 'batch_size': 16}. Best is trial 25 with value: 0.7915309446254072.\u001b[0m\n",
      "C:\\Users\\charm\\AppData\\Local\\Temp\\ipykernel_47688\\847911130.py:9: FutureWarning: suggest_loguniform has been deprecated in v3.0.0. This feature will be removed in v6.0.0. See https://github.com/optuna/optuna/releases/tag/v3.0.0. Use :func:`~optuna.trial.Trial.suggest_float` instead.\n",
      "  l2_reg = trial.suggest_loguniform('l2_reg', 1e-5, 1e-1)\n"
     ]
    },
    {
     "name": "stdout",
     "output_type": "stream",
     "text": [
      "20/20 [==============================] - 0s 2ms/step\n"
     ]
    },
    {
     "name": "stderr",
     "output_type": "stream",
     "text": [
      "\u001b[32m[I 2023-05-27 21:02:38,561]\u001b[0m Trial 33 finished with value: 0.7768729641693811 and parameters: {'units': 201, 'learning_rate': 0.0015036503177365684, 'optimizer': 'rmsprop', 'l2_reg': 0.0006331733944834281, 'batch_size': 16}. Best is trial 25 with value: 0.7915309446254072.\u001b[0m\n",
      "C:\\Users\\charm\\AppData\\Local\\Temp\\ipykernel_47688\\847911130.py:9: FutureWarning: suggest_loguniform has been deprecated in v3.0.0. This feature will be removed in v6.0.0. See https://github.com/optuna/optuna/releases/tag/v3.0.0. Use :func:`~optuna.trial.Trial.suggest_float` instead.\n",
      "  l2_reg = trial.suggest_loguniform('l2_reg', 1e-5, 1e-1)\n"
     ]
    },
    {
     "name": "stdout",
     "output_type": "stream",
     "text": [
      "20/20 [==============================] - 0s 3ms/step\n"
     ]
    },
    {
     "name": "stderr",
     "output_type": "stream",
     "text": [
      "\u001b[32m[I 2023-05-27 21:03:31,425]\u001b[0m Trial 34 finished with value: 0.7801302931596091 and parameters: {'units': 234, 'learning_rate': 0.0005470821366167543, 'optimizer': 'rmsprop', 'l2_reg': 0.004150881756456639, 'batch_size': 16}. Best is trial 25 with value: 0.7915309446254072.\u001b[0m\n",
      "C:\\Users\\charm\\AppData\\Local\\Temp\\ipykernel_47688\\847911130.py:9: FutureWarning: suggest_loguniform has been deprecated in v3.0.0. This feature will be removed in v6.0.0. See https://github.com/optuna/optuna/releases/tag/v3.0.0. Use :func:`~optuna.trial.Trial.suggest_float` instead.\n",
      "  l2_reg = trial.suggest_loguniform('l2_reg', 1e-5, 1e-1)\n"
     ]
    },
    {
     "name": "stdout",
     "output_type": "stream",
     "text": [
      "20/20 [==============================] - 0s 2ms/step\n"
     ]
    },
    {
     "name": "stderr",
     "output_type": "stream",
     "text": [
      "\u001b[32m[I 2023-05-27 21:04:25,002]\u001b[0m Trial 35 finished with value: 0.7931596091205212 and parameters: {'units': 213, 'learning_rate': 0.0011611447912971056, 'optimizer': 'rmsprop', 'l2_reg': 0.0016481170460821274, 'batch_size': 16}. Best is trial 35 with value: 0.7931596091205212.\u001b[0m\n",
      "C:\\Users\\charm\\AppData\\Local\\Temp\\ipykernel_47688\\847911130.py:9: FutureWarning: suggest_loguniform has been deprecated in v3.0.0. This feature will be removed in v6.0.0. See https://github.com/optuna/optuna/releases/tag/v3.0.0. Use :func:`~optuna.trial.Trial.suggest_float` instead.\n",
      "  l2_reg = trial.suggest_loguniform('l2_reg', 1e-5, 1e-1)\n"
     ]
    },
    {
     "name": "stdout",
     "output_type": "stream",
     "text": [
      "20/20 [==============================] - 0s 2ms/step\n"
     ]
    },
    {
     "name": "stderr",
     "output_type": "stream",
     "text": [
      "\u001b[32m[I 2023-05-27 21:04:37,555]\u001b[0m Trial 36 finished with value: 0.758957654723127 and parameters: {'units': 175, 'learning_rate': 0.001619313584630891, 'optimizer': 'nadam', 'l2_reg': 0.0019033220962852003, 'batch_size': 128}. Best is trial 35 with value: 0.7931596091205212.\u001b[0m\n",
      "C:\\Users\\charm\\AppData\\Local\\Temp\\ipykernel_47688\\847911130.py:9: FutureWarning: suggest_loguniform has been deprecated in v3.0.0. This feature will be removed in v6.0.0. See https://github.com/optuna/optuna/releases/tag/v3.0.0. Use :func:`~optuna.trial.Trial.suggest_float` instead.\n",
      "  l2_reg = trial.suggest_loguniform('l2_reg', 1e-5, 1e-1)\n"
     ]
    },
    {
     "name": "stdout",
     "output_type": "stream",
     "text": [
      "20/20 [==============================] - 0s 2ms/step\n"
     ]
    },
    {
     "name": "stderr",
     "output_type": "stream",
     "text": [
      "\u001b[32m[I 2023-05-27 21:04:55,449]\u001b[0m Trial 37 finished with value: 0.7801302931596091 and parameters: {'units': 205, 'learning_rate': 0.00021077776257357117, 'optimizer': 'rmsprop', 'l2_reg': 0.005312716666775691, 'batch_size': 64}. Best is trial 35 with value: 0.7931596091205212.\u001b[0m\n",
      "C:\\Users\\charm\\AppData\\Local\\Temp\\ipykernel_47688\\847911130.py:9: FutureWarning: suggest_loguniform has been deprecated in v3.0.0. This feature will be removed in v6.0.0. See https://github.com/optuna/optuna/releases/tag/v3.0.0. Use :func:`~optuna.trial.Trial.suggest_float` instead.\n",
      "  l2_reg = trial.suggest_loguniform('l2_reg', 1e-5, 1e-1)\n"
     ]
    },
    {
     "name": "stdout",
     "output_type": "stream",
     "text": [
      "20/20 [==============================] - 0s 2ms/step\n"
     ]
    },
    {
     "name": "stderr",
     "output_type": "stream",
     "text": [
      "\u001b[32m[I 2023-05-27 21:05:50,046]\u001b[0m Trial 38 finished with value: 0.7850162866449512 and parameters: {'units': 216, 'learning_rate': 0.0027139200327645145, 'optimizer': 'nadam', 'l2_reg': 0.001772716256582809, 'batch_size': 16}. Best is trial 35 with value: 0.7931596091205212.\u001b[0m\n",
      "C:\\Users\\charm\\AppData\\Local\\Temp\\ipykernel_47688\\847911130.py:9: FutureWarning: suggest_loguniform has been deprecated in v3.0.0. This feature will be removed in v6.0.0. See https://github.com/optuna/optuna/releases/tag/v3.0.0. Use :func:`~optuna.trial.Trial.suggest_float` instead.\n",
      "  l2_reg = trial.suggest_loguniform('l2_reg', 1e-5, 1e-1)\n"
     ]
    },
    {
     "name": "stdout",
     "output_type": "stream",
     "text": [
      "20/20 [==============================] - 0s 3ms/step\n"
     ]
    },
    {
     "name": "stderr",
     "output_type": "stream",
     "text": [
      "\u001b[32m[I 2023-05-27 21:06:42,491]\u001b[0m Trial 39 finished with value: 0.7882736156351792 and parameters: {'units': 128, 'learning_rate': 0.0014146567196666351, 'optimizer': 'rmsprop', 'l2_reg': 0.000721900666304778, 'batch_size': 16}. Best is trial 35 with value: 0.7931596091205212.\u001b[0m\n",
      "C:\\Users\\charm\\AppData\\Local\\Temp\\ipykernel_47688\\847911130.py:9: FutureWarning: suggest_loguniform has been deprecated in v3.0.0. This feature will be removed in v6.0.0. See https://github.com/optuna/optuna/releases/tag/v3.0.0. Use :func:`~optuna.trial.Trial.suggest_float` instead.\n",
      "  l2_reg = trial.suggest_loguniform('l2_reg', 1e-5, 1e-1)\n"
     ]
    },
    {
     "name": "stdout",
     "output_type": "stream",
     "text": [
      "20/20 [==============================] - 0s 2ms/step\n"
     ]
    },
    {
     "name": "stderr",
     "output_type": "stream",
     "text": [
      "\u001b[32m[I 2023-05-27 21:07:02,068]\u001b[0m Trial 40 finished with value: 0.7785016286644951 and parameters: {'units': 191, 'learning_rate': 0.006877882066065185, 'optimizer': 'nadam', 'l2_reg': 0.003207656119646108, 'batch_size': 64}. Best is trial 35 with value: 0.7931596091205212.\u001b[0m\n",
      "C:\\Users\\charm\\AppData\\Local\\Temp\\ipykernel_47688\\847911130.py:9: FutureWarning: suggest_loguniform has been deprecated in v3.0.0. This feature will be removed in v6.0.0. See https://github.com/optuna/optuna/releases/tag/v3.0.0. Use :func:`~optuna.trial.Trial.suggest_float` instead.\n",
      "  l2_reg = trial.suggest_loguniform('l2_reg', 1e-5, 1e-1)\n"
     ]
    },
    {
     "name": "stdout",
     "output_type": "stream",
     "text": [
      "20/20 [==============================] - 0s 3ms/step\n"
     ]
    },
    {
     "name": "stderr",
     "output_type": "stream",
     "text": [
      "\u001b[32m[I 2023-05-27 21:07:55,060]\u001b[0m Trial 41 finished with value: 0.7866449511400652 and parameters: {'units': 228, 'learning_rate': 0.0008787443060171734, 'optimizer': 'rmsprop', 'l2_reg': 0.0013853435770122455, 'batch_size': 16}. Best is trial 35 with value: 0.7931596091205212.\u001b[0m\n",
      "C:\\Users\\charm\\AppData\\Local\\Temp\\ipykernel_47688\\847911130.py:9: FutureWarning: suggest_loguniform has been deprecated in v3.0.0. This feature will be removed in v6.0.0. See https://github.com/optuna/optuna/releases/tag/v3.0.0. Use :func:`~optuna.trial.Trial.suggest_float` instead.\n",
      "  l2_reg = trial.suggest_loguniform('l2_reg', 1e-5, 1e-1)\n"
     ]
    },
    {
     "name": "stdout",
     "output_type": "stream",
     "text": [
      "20/20 [==============================] - 0s 2ms/step\n"
     ]
    },
    {
     "name": "stderr",
     "output_type": "stream",
     "text": [
      "\u001b[32m[I 2023-05-27 21:08:47,495]\u001b[0m Trial 42 finished with value: 0.7947882736156352 and parameters: {'units': 213, 'learning_rate': 0.000646469646713077, 'optimizer': 'rmsprop', 'l2_reg': 0.00030949608446383776, 'batch_size': 16}. Best is trial 42 with value: 0.7947882736156352.\u001b[0m\n",
      "C:\\Users\\charm\\AppData\\Local\\Temp\\ipykernel_47688\\847911130.py:9: FutureWarning: suggest_loguniform has been deprecated in v3.0.0. This feature will be removed in v6.0.0. See https://github.com/optuna/optuna/releases/tag/v3.0.0. Use :func:`~optuna.trial.Trial.suggest_float` instead.\n",
      "  l2_reg = trial.suggest_loguniform('l2_reg', 1e-5, 1e-1)\n"
     ]
    },
    {
     "name": "stdout",
     "output_type": "stream",
     "text": [
      "20/20 [==============================] - 0s 2ms/step\n"
     ]
    },
    {
     "name": "stderr",
     "output_type": "stream",
     "text": [
      "\u001b[32m[I 2023-05-27 21:09:39,129]\u001b[0m Trial 43 finished with value: 0.7915309446254072 and parameters: {'units': 211, 'learning_rate': 0.0004995131003146372, 'optimizer': 'rmsprop', 'l2_reg': 0.00023399662974384625, 'batch_size': 16}. Best is trial 42 with value: 0.7947882736156352.\u001b[0m\n",
      "C:\\Users\\charm\\AppData\\Local\\Temp\\ipykernel_47688\\847911130.py:9: FutureWarning: suggest_loguniform has been deprecated in v3.0.0. This feature will be removed in v6.0.0. See https://github.com/optuna/optuna/releases/tag/v3.0.0. Use :func:`~optuna.trial.Trial.suggest_float` instead.\n",
      "  l2_reg = trial.suggest_loguniform('l2_reg', 1e-5, 1e-1)\n"
     ]
    },
    {
     "name": "stdout",
     "output_type": "stream",
     "text": [
      "20/20 [==============================] - 0s 3ms/step\n"
     ]
    },
    {
     "name": "stderr",
     "output_type": "stream",
     "text": [
      "\u001b[32m[I 2023-05-27 21:10:33,942]\u001b[0m Trial 44 finished with value: 0.7833876221498371 and parameters: {'units': 217, 'learning_rate': 0.0004285304381226391, 'optimizer': 'rmsprop', 'l2_reg': 7.179397909623502e-05, 'batch_size': 16}. Best is trial 42 with value: 0.7947882736156352.\u001b[0m\n",
      "C:\\Users\\charm\\AppData\\Local\\Temp\\ipykernel_47688\\847911130.py:9: FutureWarning: suggest_loguniform has been deprecated in v3.0.0. This feature will be removed in v6.0.0. See https://github.com/optuna/optuna/releases/tag/v3.0.0. Use :func:`~optuna.trial.Trial.suggest_float` instead.\n",
      "  l2_reg = trial.suggest_loguniform('l2_reg', 1e-5, 1e-1)\n"
     ]
    },
    {
     "name": "stdout",
     "output_type": "stream",
     "text": [
      "20/20 [==============================] - 0s 3ms/step\n"
     ]
    },
    {
     "name": "stderr",
     "output_type": "stream",
     "text": [
      "\u001b[32m[I 2023-05-27 21:10:46,149]\u001b[0m Trial 45 finished with value: 0.7817589576547231 and parameters: {'units': 240, 'learning_rate': 0.0004643808540672051, 'optimizer': 'rmsprop', 'l2_reg': 0.000261337578002151, 'batch_size': 128}. Best is trial 42 with value: 0.7947882736156352.\u001b[0m\n",
      "C:\\Users\\charm\\AppData\\Local\\Temp\\ipykernel_47688\\847911130.py:9: FutureWarning: suggest_loguniform has been deprecated in v3.0.0. This feature will be removed in v6.0.0. See https://github.com/optuna/optuna/releases/tag/v3.0.0. Use :func:`~optuna.trial.Trial.suggest_float` instead.\n",
      "  l2_reg = trial.suggest_loguniform('l2_reg', 1e-5, 1e-1)\n"
     ]
    },
    {
     "name": "stdout",
     "output_type": "stream",
     "text": [
      "20/20 [==============================] - 0s 2ms/step\n"
     ]
    },
    {
     "name": "stderr",
     "output_type": "stream",
     "text": [
      "\u001b[32m[I 2023-05-27 21:11:40,081]\u001b[0m Trial 46 finished with value: 0.7899022801302932 and parameters: {'units': 210, 'learning_rate': 0.0010546794701803, 'optimizer': 'rmsprop', 'l2_reg': 0.0006989001576710276, 'batch_size': 16}. Best is trial 42 with value: 0.7947882736156352.\u001b[0m\n",
      "C:\\Users\\charm\\AppData\\Local\\Temp\\ipykernel_47688\\847911130.py:9: FutureWarning: suggest_loguniform has been deprecated in v3.0.0. This feature will be removed in v6.0.0. See https://github.com/optuna/optuna/releases/tag/v3.0.0. Use :func:`~optuna.trial.Trial.suggest_float` instead.\n",
      "  l2_reg = trial.suggest_loguniform('l2_reg', 1e-5, 1e-1)\n"
     ]
    },
    {
     "name": "stdout",
     "output_type": "stream",
     "text": [
      "20/20 [==============================] - 0s 2ms/step\n"
     ]
    },
    {
     "name": "stderr",
     "output_type": "stream",
     "text": [
      "\u001b[32m[I 2023-05-27 21:11:58,048]\u001b[0m Trial 47 finished with value: 0.7850162866449512 and parameters: {'units': 203, 'learning_rate': 0.00029746365234002155, 'optimizer': 'rmsprop', 'l2_reg': 0.00021583832609852662, 'batch_size': 64}. Best is trial 42 with value: 0.7947882736156352.\u001b[0m\n",
      "C:\\Users\\charm\\AppData\\Local\\Temp\\ipykernel_47688\\847911130.py:9: FutureWarning: suggest_loguniform has been deprecated in v3.0.0. This feature will be removed in v6.0.0. See https://github.com/optuna/optuna/releases/tag/v3.0.0. Use :func:`~optuna.trial.Trial.suggest_float` instead.\n",
      "  l2_reg = trial.suggest_loguniform('l2_reg', 1e-5, 1e-1)\n"
     ]
    },
    {
     "name": "stdout",
     "output_type": "stream",
     "text": [
      "20/20 [==============================] - 0s 3ms/step\n"
     ]
    },
    {
     "name": "stderr",
     "output_type": "stream",
     "text": [
      "\u001b[32m[I 2023-05-27 21:12:28,107]\u001b[0m Trial 48 finished with value: 0.7817589576547231 and parameters: {'units': 174, 'learning_rate': 0.0005588312314623508, 'optimizer': 'rmsprop', 'l2_reg': 0.0008327818015881579, 'batch_size': 32}. Best is trial 42 with value: 0.7947882736156352.\u001b[0m\n",
      "C:\\Users\\charm\\AppData\\Local\\Temp\\ipykernel_47688\\847911130.py:9: FutureWarning: suggest_loguniform has been deprecated in v3.0.0. This feature will be removed in v6.0.0. See https://github.com/optuna/optuna/releases/tag/v3.0.0. Use :func:`~optuna.trial.Trial.suggest_float` instead.\n",
      "  l2_reg = trial.suggest_loguniform('l2_reg', 1e-5, 1e-1)\n"
     ]
    },
    {
     "name": "stdout",
     "output_type": "stream",
     "text": [
      "20/20 [==============================] - 0s 2ms/step\n"
     ]
    },
    {
     "name": "stderr",
     "output_type": "stream",
     "text": [
      "\u001b[32m[I 2023-05-27 21:13:20,973]\u001b[0m Trial 49 finished with value: 0.7882736156351792 and parameters: {'units': 149, 'learning_rate': 0.00023162566193391518, 'optimizer': 'rmsprop', 'l2_reg': 0.0005021791355767372, 'batch_size': 16}. Best is trial 42 with value: 0.7947882736156352.\u001b[0m\n"
     ]
    },
    {
     "name": "stdout",
     "output_type": "stream",
     "text": [
      "Best Hyperparameters:\n",
      "batch_size: 16\n",
      "l2_reg: 0.00030949608446383776\n",
      "learning_rate: 0.000646469646713077\n",
      "optimizer: rmsprop\n",
      "units: 213\n",
      "Best Accuracy: 0.79\n"
     ]
    }
   ],
   "source": [
    "# Define the study name and storage location\n",
    "study_name = \"NN2\"\n",
    "storage = \"sqlite:///NN2.db\"\n",
    "study = optuna.create_study(direction='maximize', study_name=study_name, storage=storage)\n",
    "study.optimize(objective, n_trials=50)\n",
    "\n",
    "# Get the best hyperparameters and their performance\n",
    "best_params = study.best_params\n",
    "best_accuracy = study.best_value\n",
    "\n",
    "print(\"Best Hyperparameters:\")\n",
    "for key, value in best_params.items():\n",
    "    print(f\"{key}: {value}\")\n",
    "\n",
    "print(f\"Best Accuracy: {best_accuracy:.2f}\")\n"
   ]
  },
  {
   "cell_type": "code",
   "execution_count": 17,
   "id": "9c9e120c",
   "metadata": {},
   "outputs": [],
   "source": [
    "# from optuna.visualization import plot_optimization_history\n",
    "# # Load the saved study\n",
    "# study_name = \"tc_tuning_2\"\n",
    "# storage = \"sqlite:///tc_tuning2.db\"\n",
    "# study = optuna.load_study(study_name=study_name, storage=storage)\n",
    "\n",
    "# # Plot the optimization history\n",
    "# plot_optimization_history(study)"
   ]
  },
  {
   "cell_type": "markdown",
   "id": "7b329549",
   "metadata": {},
   "source": [
    "## using the tuned parameters"
   ]
  },
  {
   "cell_type": "code",
   "execution_count": 46,
   "id": "caf1973a",
   "metadata": {
    "scrolled": true
   },
   "outputs": [
    {
     "name": "stderr",
     "output_type": "stream",
     "text": [
      "C:\\Users\\charm\\anaconda3\\lib\\site-packages\\pandas\\core\\frame.py:3678: SettingWithCopyWarning: \n",
      "A value is trying to be set on a copy of a slice from a DataFrame.\n",
      "Try using .loc[row_indexer,col_indexer] = value instead\n",
      "\n",
      "See the caveats in the documentation: https://pandas.pydata.org/pandas-docs/stable/user_guide/indexing.html#returning-a-view-versus-a-copy\n",
      "  self[col] = igetitem(value, i)\n"
     ]
    },
    {
     "name": "stdout",
     "output_type": "stream",
     "text": [
      "Epoch 1/150\n",
      "173/173 [==============================] - 3s 6ms/step - loss: 0.7188 - accuracy: 0.7038 - val_loss: 0.6221 - val_accuracy: 0.7655\n",
      "Epoch 2/150\n",
      "173/173 [==============================] - 1s 4ms/step - loss: 0.6370 - accuracy: 0.7351 - val_loss: 0.5775 - val_accuracy: 0.7752\n",
      "Epoch 3/150\n",
      "173/173 [==============================] - 1s 4ms/step - loss: 0.6236 - accuracy: 0.7356 - val_loss: 0.5743 - val_accuracy: 0.7752\n",
      "Epoch 4/150\n",
      "173/173 [==============================] - 1s 4ms/step - loss: 0.6142 - accuracy: 0.7420 - val_loss: 0.5642 - val_accuracy: 0.7801\n",
      "Epoch 5/150\n",
      "173/173 [==============================] - 1s 4ms/step - loss: 0.6091 - accuracy: 0.7387 - val_loss: 0.5665 - val_accuracy: 0.7915\n",
      "Epoch 6/150\n",
      "173/173 [==============================] - 1s 4ms/step - loss: 0.6037 - accuracy: 0.7402 - val_loss: 0.5585 - val_accuracy: 0.7915\n",
      "Epoch 7/150\n",
      "173/173 [==============================] - 1s 4ms/step - loss: 0.6059 - accuracy: 0.7416 - val_loss: 0.5562 - val_accuracy: 0.7834\n",
      "Epoch 8/150\n",
      "173/173 [==============================] - 1s 4ms/step - loss: 0.6010 - accuracy: 0.7407 - val_loss: 0.5618 - val_accuracy: 0.7818\n",
      "Epoch 9/150\n",
      "173/173 [==============================] - 1s 4ms/step - loss: 0.6006 - accuracy: 0.7389 - val_loss: 0.5566 - val_accuracy: 0.7834\n",
      "Epoch 10/150\n",
      "173/173 [==============================] - 1s 4ms/step - loss: 0.5963 - accuracy: 0.7429 - val_loss: 0.5541 - val_accuracy: 0.7899\n",
      "Epoch 11/150\n",
      "173/173 [==============================] - 1s 4ms/step - loss: 0.6005 - accuracy: 0.7413 - val_loss: 0.5637 - val_accuracy: 0.7655\n",
      "Epoch 12/150\n",
      "173/173 [==============================] - 1s 4ms/step - loss: 0.5952 - accuracy: 0.7400 - val_loss: 0.5477 - val_accuracy: 0.7899\n",
      "Epoch 13/150\n",
      "173/173 [==============================] - 1s 4ms/step - loss: 0.5975 - accuracy: 0.7355 - val_loss: 0.5607 - val_accuracy: 0.7785\n",
      "Epoch 14/150\n",
      "173/173 [==============================] - 1s 4ms/step - loss: 0.5947 - accuracy: 0.7427 - val_loss: 0.5478 - val_accuracy: 0.7948\n",
      "Epoch 15/150\n",
      "173/173 [==============================] - 1s 4ms/step - loss: 0.5955 - accuracy: 0.7404 - val_loss: 0.5496 - val_accuracy: 0.7850\n",
      "Epoch 16/150\n",
      "173/173 [==============================] - 1s 4ms/step - loss: 0.5945 - accuracy: 0.7391 - val_loss: 0.5452 - val_accuracy: 0.7899\n",
      "Epoch 17/150\n",
      "173/173 [==============================] - 1s 4ms/step - loss: 0.5921 - accuracy: 0.7413 - val_loss: 0.5461 - val_accuracy: 0.7915\n",
      "Epoch 18/150\n",
      "173/173 [==============================] - 1s 4ms/step - loss: 0.5937 - accuracy: 0.7371 - val_loss: 0.5528 - val_accuracy: 0.7850\n",
      "Epoch 19/150\n",
      "173/173 [==============================] - 1s 4ms/step - loss: 0.5899 - accuracy: 0.7407 - val_loss: 0.5565 - val_accuracy: 0.7834\n",
      "Epoch 20/150\n",
      "173/173 [==============================] - 1s 4ms/step - loss: 0.5941 - accuracy: 0.7382 - val_loss: 0.5546 - val_accuracy: 0.7866\n",
      "Epoch 21/150\n",
      "173/173 [==============================] - 1s 4ms/step - loss: 0.5927 - accuracy: 0.7476 - val_loss: 0.5447 - val_accuracy: 0.7769\n",
      "Epoch 22/150\n",
      "173/173 [==============================] - 1s 4ms/step - loss: 0.5918 - accuracy: 0.7420 - val_loss: 0.5436 - val_accuracy: 0.7785\n",
      "Epoch 23/150\n",
      "173/173 [==============================] - 1s 4ms/step - loss: 0.5913 - accuracy: 0.7409 - val_loss: 0.5478 - val_accuracy: 0.7785\n",
      "Epoch 24/150\n",
      "173/173 [==============================] - 1s 4ms/step - loss: 0.5906 - accuracy: 0.7425 - val_loss: 0.5400 - val_accuracy: 0.7850\n",
      "Epoch 25/150\n",
      "173/173 [==============================] - 1s 4ms/step - loss: 0.5857 - accuracy: 0.7445 - val_loss: 0.5567 - val_accuracy: 0.7704\n",
      "Epoch 26/150\n",
      "173/173 [==============================] - 1s 4ms/step - loss: 0.5912 - accuracy: 0.7393 - val_loss: 0.5483 - val_accuracy: 0.7948\n",
      "Epoch 27/150\n",
      "173/173 [==============================] - 1s 4ms/step - loss: 0.5917 - accuracy: 0.7416 - val_loss: 0.5469 - val_accuracy: 0.7866\n",
      "Epoch 28/150\n",
      "173/173 [==============================] - 1s 4ms/step - loss: 0.5882 - accuracy: 0.7407 - val_loss: 0.5449 - val_accuracy: 0.7704\n",
      "Epoch 29/150\n",
      "173/173 [==============================] - 1s 4ms/step - loss: 0.5873 - accuracy: 0.7438 - val_loss: 0.5535 - val_accuracy: 0.7834\n",
      "Epoch 30/150\n",
      "173/173 [==============================] - 1s 4ms/step - loss: 0.5858 - accuracy: 0.7461 - val_loss: 0.5589 - val_accuracy: 0.7606\n",
      "Epoch 31/150\n",
      "173/173 [==============================] - 1s 4ms/step - loss: 0.5892 - accuracy: 0.7440 - val_loss: 0.5496 - val_accuracy: 0.7850\n",
      "Epoch 32/150\n",
      "173/173 [==============================] - 1s 4ms/step - loss: 0.5918 - accuracy: 0.7420 - val_loss: 0.5502 - val_accuracy: 0.7801\n",
      "Epoch 33/150\n",
      "173/173 [==============================] - 1s 4ms/step - loss: 0.5909 - accuracy: 0.7427 - val_loss: 0.5366 - val_accuracy: 0.7736\n",
      "Epoch 34/150\n",
      "173/173 [==============================] - 1s 4ms/step - loss: 0.5838 - accuracy: 0.7436 - val_loss: 0.5474 - val_accuracy: 0.7818\n",
      "Epoch 35/150\n",
      "173/173 [==============================] - 1s 4ms/step - loss: 0.5864 - accuracy: 0.7447 - val_loss: 0.5455 - val_accuracy: 0.7850\n",
      "Epoch 36/150\n",
      "173/173 [==============================] - 1s 4ms/step - loss: 0.5827 - accuracy: 0.7490 - val_loss: 0.5701 - val_accuracy: 0.7378\n",
      "Epoch 37/150\n",
      "173/173 [==============================] - 1s 4ms/step - loss: 0.5889 - accuracy: 0.7472 - val_loss: 0.5434 - val_accuracy: 0.7769\n",
      "Epoch 38/150\n",
      "173/173 [==============================] - 1s 3ms/step - loss: 0.5878 - accuracy: 0.7427 - val_loss: 0.5493 - val_accuracy: 0.7834\n",
      "Epoch 39/150\n",
      "173/173 [==============================] - 1s 3ms/step - loss: 0.5821 - accuracy: 0.7431 - val_loss: 0.5397 - val_accuracy: 0.7818\n",
      "Epoch 40/150\n",
      "173/173 [==============================] - 1s 4ms/step - loss: 0.5844 - accuracy: 0.7465 - val_loss: 0.5478 - val_accuracy: 0.7671\n",
      "Epoch 41/150\n",
      "173/173 [==============================] - 1s 4ms/step - loss: 0.5813 - accuracy: 0.7474 - val_loss: 0.5492 - val_accuracy: 0.7834\n",
      "Epoch 42/150\n",
      "173/173 [==============================] - 1s 3ms/step - loss: 0.5917 - accuracy: 0.7387 - val_loss: 0.5622 - val_accuracy: 0.7736\n",
      "Epoch 43/150\n",
      "173/173 [==============================] - 1s 4ms/step - loss: 0.5862 - accuracy: 0.7451 - val_loss: 0.5556 - val_accuracy: 0.7573\n",
      "Epoch 44/150\n",
      "173/173 [==============================] - 1s 4ms/step - loss: 0.5859 - accuracy: 0.7382 - val_loss: 0.5395 - val_accuracy: 0.7818\n",
      "Epoch 45/150\n",
      "173/173 [==============================] - 1s 4ms/step - loss: 0.5872 - accuracy: 0.7429 - val_loss: 0.5436 - val_accuracy: 0.7850\n",
      "Epoch 46/150\n",
      "173/173 [==============================] - 1s 4ms/step - loss: 0.5898 - accuracy: 0.7407 - val_loss: 0.5387 - val_accuracy: 0.7850\n",
      "Epoch 47/150\n",
      "173/173 [==============================] - 1s 4ms/step - loss: 0.5853 - accuracy: 0.7418 - val_loss: 0.5421 - val_accuracy: 0.7785\n",
      "Epoch 48/150\n",
      "173/173 [==============================] - 1s 4ms/step - loss: 0.5852 - accuracy: 0.7471 - val_loss: 0.5376 - val_accuracy: 0.7785\n",
      "Epoch 49/150\n",
      "173/173 [==============================] - 1s 4ms/step - loss: 0.5884 - accuracy: 0.7405 - val_loss: 0.5413 - val_accuracy: 0.7834\n",
      "Epoch 50/150\n",
      "173/173 [==============================] - 1s 4ms/step - loss: 0.5836 - accuracy: 0.7449 - val_loss: 0.5439 - val_accuracy: 0.7801\n",
      "Epoch 51/150\n",
      "173/173 [==============================] - 1s 4ms/step - loss: 0.5800 - accuracy: 0.7451 - val_loss: 0.5433 - val_accuracy: 0.7752\n",
      "Epoch 52/150\n",
      "173/173 [==============================] - 1s 4ms/step - loss: 0.5902 - accuracy: 0.7353 - val_loss: 0.5465 - val_accuracy: 0.7818\n",
      "Epoch 53/150\n",
      "173/173 [==============================] - 1s 4ms/step - loss: 0.5826 - accuracy: 0.7469 - val_loss: 0.5519 - val_accuracy: 0.7655\n",
      "Epoch 54/150\n",
      "173/173 [==============================] - 1s 4ms/step - loss: 0.5877 - accuracy: 0.7476 - val_loss: 0.5349 - val_accuracy: 0.7834\n",
      "Epoch 55/150\n",
      "173/173 [==============================] - 1s 4ms/step - loss: 0.5853 - accuracy: 0.7422 - val_loss: 0.5461 - val_accuracy: 0.7834\n",
      "Epoch 56/150\n",
      "173/173 [==============================] - 1s 4ms/step - loss: 0.5823 - accuracy: 0.7413 - val_loss: 0.5305 - val_accuracy: 0.7866\n",
      "Epoch 57/150\n",
      "173/173 [==============================] - 1s 4ms/step - loss: 0.5876 - accuracy: 0.7422 - val_loss: 0.5414 - val_accuracy: 0.7785\n"
     ]
    },
    {
     "name": "stdout",
     "output_type": "stream",
     "text": [
      "Epoch 58/150\n",
      "173/173 [==============================] - 1s 4ms/step - loss: 0.5886 - accuracy: 0.7404 - val_loss: 0.5430 - val_accuracy: 0.7818\n",
      "Epoch 59/150\n",
      "173/173 [==============================] - 1s 4ms/step - loss: 0.5838 - accuracy: 0.7476 - val_loss: 0.5438 - val_accuracy: 0.7801\n",
      "Epoch 60/150\n",
      "173/173 [==============================] - 1s 4ms/step - loss: 0.5828 - accuracy: 0.7429 - val_loss: 0.5363 - val_accuracy: 0.7883\n",
      "Epoch 61/150\n",
      "173/173 [==============================] - 1s 4ms/step - loss: 0.5817 - accuracy: 0.7391 - val_loss: 0.5303 - val_accuracy: 0.7883\n",
      "Epoch 62/150\n",
      "173/173 [==============================] - 1s 4ms/step - loss: 0.5863 - accuracy: 0.7463 - val_loss: 0.5354 - val_accuracy: 0.7866\n",
      "Epoch 63/150\n",
      "173/173 [==============================] - 1s 4ms/step - loss: 0.5799 - accuracy: 0.7471 - val_loss: 0.5616 - val_accuracy: 0.7671\n",
      "Epoch 64/150\n",
      "173/173 [==============================] - 1s 4ms/step - loss: 0.5795 - accuracy: 0.7451 - val_loss: 0.5350 - val_accuracy: 0.7785\n",
      "Epoch 65/150\n",
      "173/173 [==============================] - 1s 4ms/step - loss: 0.5833 - accuracy: 0.7452 - val_loss: 0.5376 - val_accuracy: 0.7785\n",
      "Epoch 66/150\n",
      "173/173 [==============================] - 1s 4ms/step - loss: 0.5856 - accuracy: 0.7384 - val_loss: 0.5429 - val_accuracy: 0.7899\n",
      "Epoch 67/150\n",
      "173/173 [==============================] - 1s 4ms/step - loss: 0.5836 - accuracy: 0.7420 - val_loss: 0.5457 - val_accuracy: 0.7834\n",
      "Epoch 68/150\n",
      "173/173 [==============================] - 1s 4ms/step - loss: 0.5891 - accuracy: 0.7474 - val_loss: 0.5465 - val_accuracy: 0.7818\n",
      "Epoch 69/150\n",
      "173/173 [==============================] - 1s 4ms/step - loss: 0.5879 - accuracy: 0.7418 - val_loss: 0.5378 - val_accuracy: 0.7883\n",
      "Epoch 70/150\n",
      "173/173 [==============================] - 1s 4ms/step - loss: 0.5898 - accuracy: 0.7429 - val_loss: 0.5496 - val_accuracy: 0.7736\n",
      "Epoch 71/150\n",
      "173/173 [==============================] - 1s 4ms/step - loss: 0.5855 - accuracy: 0.7411 - val_loss: 0.5413 - val_accuracy: 0.7899\n",
      "Epoch 72/150\n",
      "173/173 [==============================] - 1s 4ms/step - loss: 0.5870 - accuracy: 0.7445 - val_loss: 0.5525 - val_accuracy: 0.7818\n",
      "Epoch 73/150\n",
      "173/173 [==============================] - 1s 4ms/step - loss: 0.5880 - accuracy: 0.7431 - val_loss: 0.5474 - val_accuracy: 0.7785\n",
      "Epoch 74/150\n",
      "173/173 [==============================] - 1s 4ms/step - loss: 0.5834 - accuracy: 0.7447 - val_loss: 0.5584 - val_accuracy: 0.7785\n",
      "Epoch 75/150\n",
      "173/173 [==============================] - 1s 4ms/step - loss: 0.5828 - accuracy: 0.7449 - val_loss: 0.5425 - val_accuracy: 0.7834\n",
      "Epoch 76/150\n",
      "173/173 [==============================] - 1s 4ms/step - loss: 0.5854 - accuracy: 0.7423 - val_loss: 0.5486 - val_accuracy: 0.7785\n",
      "Epoch 77/150\n",
      "173/173 [==============================] - 1s 4ms/step - loss: 0.5832 - accuracy: 0.7420 - val_loss: 0.5447 - val_accuracy: 0.7752\n",
      "Epoch 78/150\n",
      "173/173 [==============================] - 1s 4ms/step - loss: 0.5802 - accuracy: 0.7474 - val_loss: 0.5512 - val_accuracy: 0.7769\n",
      "Epoch 79/150\n",
      "173/173 [==============================] - 1s 4ms/step - loss: 0.5778 - accuracy: 0.7476 - val_loss: 0.5355 - val_accuracy: 0.7834\n",
      "Epoch 80/150\n",
      "173/173 [==============================] - 1s 4ms/step - loss: 0.5845 - accuracy: 0.7440 - val_loss: 0.5506 - val_accuracy: 0.7752\n",
      "Epoch 81/150\n",
      "173/173 [==============================] - 1s 4ms/step - loss: 0.5858 - accuracy: 0.7413 - val_loss: 0.5292 - val_accuracy: 0.7915\n",
      "Epoch 82/150\n",
      "173/173 [==============================] - 1s 4ms/step - loss: 0.5862 - accuracy: 0.7454 - val_loss: 0.5327 - val_accuracy: 0.7850\n",
      "Epoch 83/150\n",
      "173/173 [==============================] - 1s 4ms/step - loss: 0.5837 - accuracy: 0.7414 - val_loss: 0.5367 - val_accuracy: 0.7834\n",
      "Epoch 84/150\n",
      "173/173 [==============================] - 1s 4ms/step - loss: 0.5844 - accuracy: 0.7405 - val_loss: 0.5291 - val_accuracy: 0.7866\n",
      "Epoch 85/150\n",
      "173/173 [==============================] - 1s 4ms/step - loss: 0.5884 - accuracy: 0.7411 - val_loss: 0.5452 - val_accuracy: 0.7834\n",
      "Epoch 86/150\n",
      "173/173 [==============================] - 1s 4ms/step - loss: 0.5841 - accuracy: 0.7476 - val_loss: 0.5536 - val_accuracy: 0.7736\n",
      "Epoch 87/150\n",
      "173/173 [==============================] - 1s 4ms/step - loss: 0.5845 - accuracy: 0.7449 - val_loss: 0.5314 - val_accuracy: 0.7915\n",
      "Epoch 88/150\n",
      "173/173 [==============================] - 1s 4ms/step - loss: 0.5877 - accuracy: 0.7389 - val_loss: 0.5490 - val_accuracy: 0.7785\n",
      "Epoch 89/150\n",
      "173/173 [==============================] - 1s 4ms/step - loss: 0.5832 - accuracy: 0.7400 - val_loss: 0.5332 - val_accuracy: 0.7801\n",
      "Epoch 90/150\n",
      "173/173 [==============================] - 1s 4ms/step - loss: 0.5835 - accuracy: 0.7420 - val_loss: 0.5343 - val_accuracy: 0.7834\n",
      "Epoch 91/150\n",
      "173/173 [==============================] - 1s 4ms/step - loss: 0.5791 - accuracy: 0.7433 - val_loss: 0.5393 - val_accuracy: 0.7704\n",
      "Epoch 92/150\n",
      "173/173 [==============================] - 1s 4ms/step - loss: 0.5830 - accuracy: 0.7449 - val_loss: 0.5476 - val_accuracy: 0.7704\n",
      "Epoch 93/150\n",
      "173/173 [==============================] - 1s 4ms/step - loss: 0.5834 - accuracy: 0.7409 - val_loss: 0.5276 - val_accuracy: 0.7883\n",
      "Epoch 94/150\n",
      "173/173 [==============================] - 1s 4ms/step - loss: 0.5839 - accuracy: 0.7404 - val_loss: 0.5500 - val_accuracy: 0.7720\n",
      "Epoch 95/150\n",
      "173/173 [==============================] - 1s 4ms/step - loss: 0.5822 - accuracy: 0.7471 - val_loss: 0.5425 - val_accuracy: 0.7801\n",
      "Epoch 96/150\n",
      "173/173 [==============================] - 1s 4ms/step - loss: 0.5882 - accuracy: 0.7362 - val_loss: 0.5390 - val_accuracy: 0.7834\n",
      "Epoch 97/150\n",
      "173/173 [==============================] - 1s 4ms/step - loss: 0.5837 - accuracy: 0.7411 - val_loss: 0.5383 - val_accuracy: 0.7785\n",
      "Epoch 98/150\n",
      "173/173 [==============================] - 1s 4ms/step - loss: 0.5832 - accuracy: 0.7436 - val_loss: 0.5456 - val_accuracy: 0.7818\n",
      "Epoch 99/150\n",
      "173/173 [==============================] - 1s 4ms/step - loss: 0.5862 - accuracy: 0.7445 - val_loss: 0.5287 - val_accuracy: 0.7866\n",
      "Epoch 100/150\n",
      "173/173 [==============================] - 1s 4ms/step - loss: 0.5869 - accuracy: 0.7423 - val_loss: 0.5670 - val_accuracy: 0.7590\n",
      "Epoch 101/150\n",
      "173/173 [==============================] - 1s 4ms/step - loss: 0.5859 - accuracy: 0.7425 - val_loss: 0.5353 - val_accuracy: 0.7866\n",
      "Epoch 102/150\n",
      "173/173 [==============================] - 1s 4ms/step - loss: 0.5818 - accuracy: 0.7431 - val_loss: 0.5514 - val_accuracy: 0.7736\n",
      "Epoch 103/150\n",
      "173/173 [==============================] - 1s 4ms/step - loss: 0.5832 - accuracy: 0.7393 - val_loss: 0.5446 - val_accuracy: 0.7769\n",
      "Epoch 104/150\n",
      "173/173 [==============================] - 1s 4ms/step - loss: 0.5857 - accuracy: 0.7407 - val_loss: 0.5384 - val_accuracy: 0.7834\n",
      "Epoch 105/150\n",
      "173/173 [==============================] - 1s 4ms/step - loss: 0.5852 - accuracy: 0.7420 - val_loss: 0.5643 - val_accuracy: 0.7606\n",
      "Epoch 106/150\n",
      "173/173 [==============================] - 1s 4ms/step - loss: 0.5872 - accuracy: 0.7416 - val_loss: 0.5334 - val_accuracy: 0.7850\n",
      "Epoch 107/150\n",
      "173/173 [==============================] - 1s 4ms/step - loss: 0.5850 - accuracy: 0.7442 - val_loss: 0.5461 - val_accuracy: 0.7801\n",
      "Epoch 108/150\n",
      "173/173 [==============================] - 1s 4ms/step - loss: 0.5897 - accuracy: 0.7391 - val_loss: 0.5532 - val_accuracy: 0.7736\n",
      "Epoch 109/150\n",
      "173/173 [==============================] - 1s 4ms/step - loss: 0.5899 - accuracy: 0.7431 - val_loss: 0.5439 - val_accuracy: 0.7720\n",
      "Epoch 110/150\n",
      "173/173 [==============================] - 1s 4ms/step - loss: 0.5838 - accuracy: 0.7391 - val_loss: 0.5374 - val_accuracy: 0.7834\n",
      "Epoch 111/150\n",
      "173/173 [==============================] - 1s 4ms/step - loss: 0.5893 - accuracy: 0.7400 - val_loss: 0.5326 - val_accuracy: 0.7899\n",
      "Epoch 112/150\n",
      "173/173 [==============================] - 1s 4ms/step - loss: 0.5838 - accuracy: 0.7402 - val_loss: 0.5258 - val_accuracy: 0.7948\n",
      "Epoch 113/150\n",
      "173/173 [==============================] - 1s 4ms/step - loss: 0.5888 - accuracy: 0.7416 - val_loss: 0.5342 - val_accuracy: 0.7801\n",
      "Epoch 114/150\n",
      "173/173 [==============================] - 1s 4ms/step - loss: 0.5841 - accuracy: 0.7456 - val_loss: 0.5501 - val_accuracy: 0.7720\n"
     ]
    },
    {
     "name": "stdout",
     "output_type": "stream",
     "text": [
      "Epoch 115/150\n",
      "173/173 [==============================] - 1s 4ms/step - loss: 0.5818 - accuracy: 0.7436 - val_loss: 0.5431 - val_accuracy: 0.7883\n",
      "Epoch 116/150\n",
      "173/173 [==============================] - 1s 4ms/step - loss: 0.5861 - accuracy: 0.7431 - val_loss: 0.5355 - val_accuracy: 0.7850\n",
      "Epoch 117/150\n",
      "173/173 [==============================] - 1s 4ms/step - loss: 0.5832 - accuracy: 0.7394 - val_loss: 0.5391 - val_accuracy: 0.7720\n",
      "Epoch 118/150\n",
      "173/173 [==============================] - 1s 4ms/step - loss: 0.5863 - accuracy: 0.7384 - val_loss: 0.5369 - val_accuracy: 0.7801\n",
      "Epoch 119/150\n",
      "173/173 [==============================] - 1s 4ms/step - loss: 0.5865 - accuracy: 0.7456 - val_loss: 0.5377 - val_accuracy: 0.7850\n",
      "Epoch 120/150\n",
      "173/173 [==============================] - 1s 4ms/step - loss: 0.5861 - accuracy: 0.7402 - val_loss: 0.5431 - val_accuracy: 0.7785\n",
      "Epoch 121/150\n",
      "173/173 [==============================] - 1s 4ms/step - loss: 0.5890 - accuracy: 0.7409 - val_loss: 0.5364 - val_accuracy: 0.7915\n",
      "Epoch 122/150\n",
      "173/173 [==============================] - 1s 4ms/step - loss: 0.5946 - accuracy: 0.7402 - val_loss: 0.5248 - val_accuracy: 0.7964\n",
      "Epoch 123/150\n",
      "173/173 [==============================] - 1s 4ms/step - loss: 0.5885 - accuracy: 0.7433 - val_loss: 0.5410 - val_accuracy: 0.7834\n",
      "Epoch 124/150\n",
      "173/173 [==============================] - 1s 4ms/step - loss: 0.5860 - accuracy: 0.7387 - val_loss: 0.5313 - val_accuracy: 0.7801\n",
      "Epoch 125/150\n",
      "173/173 [==============================] - 1s 4ms/step - loss: 0.5910 - accuracy: 0.7461 - val_loss: 0.5399 - val_accuracy: 0.7948\n",
      "Epoch 126/150\n",
      "173/173 [==============================] - 1s 4ms/step - loss: 0.5894 - accuracy: 0.7413 - val_loss: 0.5408 - val_accuracy: 0.7850\n",
      "Epoch 127/150\n",
      "173/173 [==============================] - 1s 4ms/step - loss: 0.5908 - accuracy: 0.7376 - val_loss: 0.5560 - val_accuracy: 0.7736\n",
      "Epoch 128/150\n",
      "173/173 [==============================] - 1s 4ms/step - loss: 0.5870 - accuracy: 0.7405 - val_loss: 0.5328 - val_accuracy: 0.7801\n",
      "Epoch 129/150\n",
      "173/173 [==============================] - 1s 4ms/step - loss: 0.5888 - accuracy: 0.7394 - val_loss: 0.5402 - val_accuracy: 0.7801\n",
      "Epoch 130/150\n",
      "173/173 [==============================] - 1s 4ms/step - loss: 0.5846 - accuracy: 0.7404 - val_loss: 0.5427 - val_accuracy: 0.7736\n",
      "Epoch 131/150\n",
      "173/173 [==============================] - 1s 4ms/step - loss: 0.5854 - accuracy: 0.7443 - val_loss: 0.5401 - val_accuracy: 0.7915\n",
      "Epoch 132/150\n",
      "173/173 [==============================] - 1s 4ms/step - loss: 0.5829 - accuracy: 0.7445 - val_loss: 0.5395 - val_accuracy: 0.7899\n",
      "Epoch 133/150\n",
      "173/173 [==============================] - 1s 4ms/step - loss: 0.5885 - accuracy: 0.7396 - val_loss: 0.5304 - val_accuracy: 0.7818\n",
      "Epoch 134/150\n",
      "173/173 [==============================] - 1s 4ms/step - loss: 0.5805 - accuracy: 0.7440 - val_loss: 0.5331 - val_accuracy: 0.7834\n",
      "Epoch 135/150\n",
      "173/173 [==============================] - 1s 4ms/step - loss: 0.5856 - accuracy: 0.7425 - val_loss: 0.5359 - val_accuracy: 0.7752\n",
      "Epoch 136/150\n",
      "173/173 [==============================] - 1s 4ms/step - loss: 0.5841 - accuracy: 0.7362 - val_loss: 0.5405 - val_accuracy: 0.7769\n",
      "Epoch 137/150\n",
      "173/173 [==============================] - 1s 4ms/step - loss: 0.5888 - accuracy: 0.7405 - val_loss: 0.5559 - val_accuracy: 0.7638\n",
      "Epoch 138/150\n",
      "173/173 [==============================] - 1s 4ms/step - loss: 0.5864 - accuracy: 0.7452 - val_loss: 0.5276 - val_accuracy: 0.7883\n",
      "Epoch 139/150\n",
      "173/173 [==============================] - 1s 4ms/step - loss: 0.5861 - accuracy: 0.7434 - val_loss: 0.5379 - val_accuracy: 0.7785\n",
      "Epoch 140/150\n",
      "173/173 [==============================] - 1s 4ms/step - loss: 0.5856 - accuracy: 0.7433 - val_loss: 0.5294 - val_accuracy: 0.7964\n",
      "Epoch 141/150\n",
      "173/173 [==============================] - 1s 4ms/step - loss: 0.5878 - accuracy: 0.7382 - val_loss: 0.5346 - val_accuracy: 0.7883\n",
      "Epoch 142/150\n",
      "173/173 [==============================] - 1s 4ms/step - loss: 0.5877 - accuracy: 0.7400 - val_loss: 0.5358 - val_accuracy: 0.7785\n",
      "Epoch 143/150\n",
      "173/173 [==============================] - 1s 4ms/step - loss: 0.5832 - accuracy: 0.7420 - val_loss: 0.5381 - val_accuracy: 0.7899\n",
      "Epoch 144/150\n",
      "173/173 [==============================] - 1s 4ms/step - loss: 0.5861 - accuracy: 0.7400 - val_loss: 0.5336 - val_accuracy: 0.7834\n",
      "Epoch 145/150\n",
      "173/173 [==============================] - 1s 4ms/step - loss: 0.5811 - accuracy: 0.7413 - val_loss: 0.5266 - val_accuracy: 0.7801\n",
      "Epoch 146/150\n",
      "173/173 [==============================] - 1s 4ms/step - loss: 0.5870 - accuracy: 0.7442 - val_loss: 0.5431 - val_accuracy: 0.7801\n",
      "Epoch 147/150\n",
      "173/173 [==============================] - 1s 4ms/step - loss: 0.5884 - accuracy: 0.7425 - val_loss: 0.5339 - val_accuracy: 0.7932\n",
      "Epoch 148/150\n",
      "173/173 [==============================] - 1s 4ms/step - loss: 0.5821 - accuracy: 0.7405 - val_loss: 0.5475 - val_accuracy: 0.7736\n",
      "Epoch 149/150\n",
      "173/173 [==============================] - 1s 4ms/step - loss: 0.5839 - accuracy: 0.7416 - val_loss: 0.5349 - val_accuracy: 0.7915\n",
      "Epoch 150/150\n",
      "173/173 [==============================] - 1s 4ms/step - loss: 0.5785 - accuracy: 0.7404 - val_loss: 0.5231 - val_accuracy: 0.7850\n"
     ]
    }
   ],
   "source": [
    "# Generate a subset\n",
    "subset_data = shuffled_data[['race_progress', 'remaining_pit_stops', 'relativecompound', 'location', 'fulfilled_second_compound', 'number_of_available_compounds']].sample(frac=0.1, random_state=42)\n",
    "\n",
    "# Separate input features (X) and target variable (y)\n",
    "X = subset_data[['race_progress', 'remaining_pit_stops', 'location', 'fulfilled_second_compound', 'number_of_available_compounds']]\n",
    "y = subset_data['relativecompound']\n",
    "\n",
    "# Separate categorical and numerical features\n",
    "cat_features = ['remaining_pit_stops', 'location', 'fulfilled_second_compound', 'number_of_available_compounds']\n",
    "num_features = ['race_progress']\n",
    "\n",
    "# Perform preprocessing on numerical features\n",
    "scaler = StandardScaler()\n",
    "X[num_features] = scaler.fit_transform(X[num_features])\n",
    "\n",
    "# Perform preprocessing on categorical features\n",
    "encoder = OneHotEncoder(sparse_output=False, handle_unknown='ignore')\n",
    "X_encoded = encoder.fit_transform(X[cat_features])\n",
    "\n",
    "# Combine preprocessed numerical and categorical features\n",
    "X_processed = np.concatenate((X_encoded, X[num_features]), axis=1)\n",
    "\n",
    "# Create an instance of LabelEncoder\n",
    "label_encoder = LabelEncoder()\n",
    "\n",
    "# Encode the categorical labels into integer values\n",
    "y_encoded = label_encoder.fit_transform(y)\n",
    "\n",
    "# Split the subset into training and validation sets\n",
    "X_train, X_val, y_train, y_val = train_test_split(X_processed, y_encoded, test_size=0.1, random_state=42)\n",
    "\n",
    "# Define the model\n",
    "# model = models.Sequential()\n",
    "# model.add(layers.Dense(31, activation='relu', input_shape=(X_processed.shape[1],), kernel_regularizer=regularizers.l2(0.001)))\n",
    "# model.add(layers.Dropout(0.2553398099761799))  # Add dropout layer with the specified dropout rate\n",
    "# model.add(layers.Dense(127, activation='relu'))  # Add a dense layer with 91 units\n",
    "# model.add(layers.Dense(3, activation='softmax'))\n",
    "\n",
    "model = models.Sequential()\n",
    "model.add(layers.Dense(31, activation='relu', input_shape=(X_processed.shape[1],), kernel_regularizer=regularizers.l2(0.001)))\n",
    "model.add(layers.Dropout(0.2553398099761799))\n",
    "model.add(layers.Dense(3, activation='softmax'))\n",
    "\n",
    "# Compile the model with the specified learning rate\n",
    "optimizer = tf.keras.optimizers.Nadam(learning_rate=0.0075533912129734)\n",
    "model.compile(optimizer=optimizer,\n",
    "              loss=tf.keras.losses.SparseCategoricalCrossentropy(),\n",
    "              metrics=['accuracy'])\n",
    "\n",
    "history = model.fit(X_train, y_train, validation_data=(X_val, y_val), batch_size=32, epochs=150)"
   ]
  },
  {
   "cell_type": "code",
   "execution_count": 7,
   "id": "ec60766b",
   "metadata": {},
   "outputs": [
    {
     "ename": "NameError",
     "evalue": "name 'history' is not defined",
     "output_type": "error",
     "traceback": [
      "\u001b[1;31m---------------------------------------------------------------------------\u001b[0m",
      "\u001b[1;31mNameError\u001b[0m                                 Traceback (most recent call last)",
      "\u001b[1;32m~\\AppData\\Local\\Temp\\ipykernel_47688\\1798859903.py\u001b[0m in \u001b[0;36m<cell line: 2>\u001b[1;34m()\u001b[0m\n\u001b[0;32m      1\u001b[0m \u001b[1;31m# Get the accuracy values from the training history\u001b[0m\u001b[1;33m\u001b[0m\u001b[1;33m\u001b[0m\u001b[0m\n\u001b[1;32m----> 2\u001b[1;33m \u001b[0maccuracy\u001b[0m \u001b[1;33m=\u001b[0m \u001b[0mhistory\u001b[0m\u001b[1;33m.\u001b[0m\u001b[0mhistory\u001b[0m\u001b[1;33m[\u001b[0m\u001b[1;34m'accuracy'\u001b[0m\u001b[1;33m]\u001b[0m\u001b[1;33m\u001b[0m\u001b[1;33m\u001b[0m\u001b[0m\n\u001b[0m\u001b[0;32m      3\u001b[0m \u001b[0mval_accuracy\u001b[0m \u001b[1;33m=\u001b[0m \u001b[0mhistory\u001b[0m\u001b[1;33m.\u001b[0m\u001b[0mhistory\u001b[0m\u001b[1;33m[\u001b[0m\u001b[1;34m'val_accuracy'\u001b[0m\u001b[1;33m]\u001b[0m\u001b[1;33m\u001b[0m\u001b[1;33m\u001b[0m\u001b[0m\n\u001b[0;32m      4\u001b[0m \u001b[1;33m\u001b[0m\u001b[0m\n\u001b[0;32m      5\u001b[0m \u001b[1;31m# Plot the accuracy graph\u001b[0m\u001b[1;33m\u001b[0m\u001b[1;33m\u001b[0m\u001b[0m\n",
      "\u001b[1;31mNameError\u001b[0m: name 'history' is not defined"
     ]
    }
   ],
   "source": [
    "# Get the accuracy values from the training history\n",
    "accuracy = history.history['accuracy']\n",
    "val_accuracy = history.history['val_accuracy']\n",
    "\n",
    "# Plot the accuracy graph\n",
    "epochs = range(1, len(accuracy) + 1)\n",
    "plt.plot(epochs, accuracy, 'b', label='Training Accuracy')\n",
    "plt.plot(epochs, val_accuracy, 'r', label='Validation Accuracy')\n",
    "plt.title('Training and Validation Accuracy')\n",
    "plt.xlabel('Epochs')\n",
    "plt.ylabel('Accuracy')\n",
    "plt.legend()\n",
    "plt.show()"
   ]
  },
  {
   "cell_type": "code",
   "execution_count": null,
   "id": "b11aacea",
   "metadata": {},
   "outputs": [],
   "source": [
    "# batch size 256\n",
    "# 10 epoch -> 78.18\n",
    "# 50 epoch -> 78.18\n",
    "# 100 epoch -> 77.04\n",
    "# 150 epoch -> 77.69\n",
    "# 200 epoch -> 77.36\n",
    "\n",
    "# batch size 32\n",
    "# 10 epoch -> 76.71\n",
    "# 50 epoch -> 75.24\n",
    "# 100 epoch -> 78.50\n",
    "# 150 epoch -> 78.18\n",
    "# 200 epoch -> 76.71\n",
    "\n",
    "\n",
    "##############################\n",
    "# batch size 32\n",
    "# 100 epoch -> 78.50"
   ]
  },
  {
   "cell_type": "code",
   "execution_count": 45,
   "id": "82208494",
   "metadata": {},
   "outputs": [
    {
     "name": "stdout",
     "output_type": "stream",
     "text": [
      "20/20 [==============================] - 0s 3ms/step - loss: 0.5309 - accuracy: 0.7850\n",
      "Accuracy: 78.50%\n"
     ]
    }
   ],
   "source": [
    "# Evaluate the model on the validation set\n",
    "_, accuracy = model.evaluate(X_val, y_val)\n",
    "\n",
    "print(f\"Accuracy: {accuracy * 100:.2f}%\")"
   ]
  },
  {
   "cell_type": "code",
   "execution_count": 20,
   "id": "c2caad8c",
   "metadata": {},
   "outputs": [
    {
     "data": {
      "image/png": "[encoded data removed]",
      "text/plain": [
       "<Figure size 432x288 with 1 Axes>"
      ]
     },
     "metadata": {
      "needs_background": "light"
     },
     "output_type": "display_data"
    }
   ],
   "source": [
    "# Get the accuracy values from the training history\n",
    "accuracy = history.history['accuracy']\n",
    "val_accuracy = history.history['val_accuracy']\n",
    "\n",
    "# Plot the accuracy graph\n",
    "epochs = range(1, len(accuracy) + 1)\n",
    "plt.plot(epochs, accuracy, 'b', label='Training Accuracy')\n",
    "plt.plot(epochs, val_accuracy, 'r', label='Validation Accuracy')\n",
    "plt.title('Training and Validation Accuracy')\n",
    "plt.xlabel('Epochs')\n",
    "plt.ylabel('Accuracy')\n",
    "plt.legend()\n",
    "plt.show()"
   ]
  }
 ],
 "metadata": {
  "kernelspec": {
   "display_name": "Python 3 (ipykernel)",
   "language": "python",
   "name": "python3"
  },
  "language_info": {
   "codemirror_mode": {
    "name": "ipython",
    "version": 3
   },
   "file_extension": ".py",
   "mimetype": "text/x-python",
   "name": "python",
   "nbconvert_exporter": "python",
   "pygments_lexer": "ipython3",
   "version": "3.9.7"
  }
 },
 "nbformat": 4,
 "nbformat_minor": 5
}
